{
 "cells": [
  {
   "cell_type": "markdown",
   "metadata": {
    "heading_collapsed": true
   },
   "source": [
    "# 0.0 - Imports, Loading Data, Installed Packages, Functions"
   ]
  },
  {
   "cell_type": "markdown",
   "metadata": {
    "hidden": true
   },
   "source": [
    "## 0.0.1 - Imports"
   ]
  },
  {
   "cell_type": "code",
   "execution_count": 1,
   "metadata": {
    "ExecuteTime": {
     "end_time": "2020-09-25T19:34:34.274206Z",
     "start_time": "2020-09-25T19:34:33.346317Z"
    },
    "hidden": true
   },
   "outputs": [],
   "source": [
    "import pandas as pd\n",
    "import numpy as np\n",
    "from matplotlib import pyplot as plt\n",
    "import seaborn as sb\n",
    "import warnings\n",
    "warnings.filterwarnings(action='ignore')\n",
    "from PIL import Image"
   ]
  },
  {
   "cell_type": "markdown",
   "metadata": {
    "hidden": true
   },
   "source": [
    "## 0.0.2 - Loading Data"
   ]
  },
  {
   "cell_type": "code",
   "execution_count": 2,
   "metadata": {
    "ExecuteTime": {
     "end_time": "2020-09-25T19:34:34.345684Z",
     "start_time": "2020-09-25T19:34:34.276632Z"
    },
    "hidden": true
   },
   "outputs": [],
   "source": [
    "df_raw = pd.read_csv('cardio_train.csv', sep=';')"
   ]
  },
  {
   "cell_type": "markdown",
   "metadata": {
    "heading_collapsed": true
   },
   "source": [
    "# 1.0 - Data Description"
   ]
  },
  {
   "cell_type": "code",
   "execution_count": 3,
   "metadata": {
    "ExecuteTime": {
     "end_time": "2020-09-25T19:34:34.358456Z",
     "start_time": "2020-09-25T19:34:34.349128Z"
    },
    "hidden": true
   },
   "outputs": [],
   "source": [
    "# Copy DataFrame to this section\n",
    "df1 = df_raw.copy()"
   ]
  },
  {
   "cell_type": "markdown",
   "metadata": {
    "heading_collapsed": true,
    "hidden": true
   },
   "source": [
    "## 1.0.2 - Descriptive Statistics"
   ]
  },
  {
   "cell_type": "markdown",
   "metadata": {
    "heading_collapsed": true,
    "hidden": true
   },
   "source": [
    "### 1.0.2.1 - General Description"
   ]
  },
  {
   "cell_type": "code",
   "execution_count": 4,
   "metadata": {
    "ExecuteTime": {
     "end_time": "2020-09-25T19:34:34.380455Z",
     "start_time": "2020-09-25T19:34:34.361473Z"
    },
    "hidden": true
   },
   "outputs": [
    {
     "data": {
      "text/html": [
       "<div>\n",
       "<style scoped>\n",
       "    .dataframe tbody tr th:only-of-type {\n",
       "        vertical-align: middle;\n",
       "    }\n",
       "\n",
       "    .dataframe tbody tr th {\n",
       "        vertical-align: top;\n",
       "    }\n",
       "\n",
       "    .dataframe thead th {\n",
       "        text-align: right;\n",
       "    }\n",
       "</style>\n",
       "<table border=\"1\" class=\"dataframe\">\n",
       "  <thead>\n",
       "    <tr style=\"text-align: right;\">\n",
       "      <th></th>\n",
       "      <th>id</th>\n",
       "      <th>age</th>\n",
       "      <th>gender</th>\n",
       "      <th>height</th>\n",
       "      <th>weight</th>\n",
       "      <th>ap_hi</th>\n",
       "      <th>ap_lo</th>\n",
       "      <th>cholesterol</th>\n",
       "      <th>gluc</th>\n",
       "      <th>smoke</th>\n",
       "      <th>alco</th>\n",
       "      <th>active</th>\n",
       "      <th>cardio</th>\n",
       "    </tr>\n",
       "  </thead>\n",
       "  <tbody>\n",
       "    <tr>\n",
       "      <th>0</th>\n",
       "      <td>0</td>\n",
       "      <td>18393</td>\n",
       "      <td>2</td>\n",
       "      <td>168</td>\n",
       "      <td>62.0</td>\n",
       "      <td>110</td>\n",
       "      <td>80</td>\n",
       "      <td>1</td>\n",
       "      <td>1</td>\n",
       "      <td>0</td>\n",
       "      <td>0</td>\n",
       "      <td>1</td>\n",
       "      <td>0</td>\n",
       "    </tr>\n",
       "    <tr>\n",
       "      <th>1</th>\n",
       "      <td>1</td>\n",
       "      <td>20228</td>\n",
       "      <td>1</td>\n",
       "      <td>156</td>\n",
       "      <td>85.0</td>\n",
       "      <td>140</td>\n",
       "      <td>90</td>\n",
       "      <td>3</td>\n",
       "      <td>1</td>\n",
       "      <td>0</td>\n",
       "      <td>0</td>\n",
       "      <td>1</td>\n",
       "      <td>1</td>\n",
       "    </tr>\n",
       "    <tr>\n",
       "      <th>2</th>\n",
       "      <td>2</td>\n",
       "      <td>18857</td>\n",
       "      <td>1</td>\n",
       "      <td>165</td>\n",
       "      <td>64.0</td>\n",
       "      <td>130</td>\n",
       "      <td>70</td>\n",
       "      <td>3</td>\n",
       "      <td>1</td>\n",
       "      <td>0</td>\n",
       "      <td>0</td>\n",
       "      <td>0</td>\n",
       "      <td>1</td>\n",
       "    </tr>\n",
       "    <tr>\n",
       "      <th>3</th>\n",
       "      <td>3</td>\n",
       "      <td>17623</td>\n",
       "      <td>2</td>\n",
       "      <td>169</td>\n",
       "      <td>82.0</td>\n",
       "      <td>150</td>\n",
       "      <td>100</td>\n",
       "      <td>1</td>\n",
       "      <td>1</td>\n",
       "      <td>0</td>\n",
       "      <td>0</td>\n",
       "      <td>1</td>\n",
       "      <td>1</td>\n",
       "    </tr>\n",
       "    <tr>\n",
       "      <th>4</th>\n",
       "      <td>4</td>\n",
       "      <td>17474</td>\n",
       "      <td>1</td>\n",
       "      <td>156</td>\n",
       "      <td>56.0</td>\n",
       "      <td>100</td>\n",
       "      <td>60</td>\n",
       "      <td>1</td>\n",
       "      <td>1</td>\n",
       "      <td>0</td>\n",
       "      <td>0</td>\n",
       "      <td>0</td>\n",
       "      <td>0</td>\n",
       "    </tr>\n",
       "  </tbody>\n",
       "</table>\n",
       "</div>"
      ],
      "text/plain": [
       "   id    age  gender  height  weight  ap_hi  ap_lo  cholesterol  gluc  smoke  \\\n",
       "0   0  18393       2     168    62.0    110     80            1     1      0   \n",
       "1   1  20228       1     156    85.0    140     90            3     1      0   \n",
       "2   2  18857       1     165    64.0    130     70            3     1      0   \n",
       "3   3  17623       2     169    82.0    150    100            1     1      0   \n",
       "4   4  17474       1     156    56.0    100     60            1     1      0   \n",
       "\n",
       "   alco  active  cardio  \n",
       "0     0       1       0  \n",
       "1     0       1       1  \n",
       "2     0       0       1  \n",
       "3     0       1       1  \n",
       "4     0       0       0  "
      ]
     },
     "execution_count": 4,
     "metadata": {},
     "output_type": "execute_result"
    }
   ],
   "source": [
    "# DataFrame visualization\n",
    "df1.head()"
   ]
  },
  {
   "cell_type": "code",
   "execution_count": 5,
   "metadata": {
    "ExecuteTime": {
     "end_time": "2020-09-25T19:34:34.401846Z",
     "start_time": "2020-09-25T19:34:34.383698Z"
    },
    "hidden": true
   },
   "outputs": [
    {
     "name": "stdout",
     "output_type": "stream",
     "text": [
      "<class 'pandas.core.frame.DataFrame'>\n",
      "RangeIndex: 70000 entries, 0 to 69999\n",
      "Data columns (total 13 columns):\n",
      " #   Column       Non-Null Count  Dtype  \n",
      "---  ------       --------------  -----  \n",
      " 0   id           70000 non-null  int64  \n",
      " 1   age          70000 non-null  int64  \n",
      " 2   gender       70000 non-null  int64  \n",
      " 3   height       70000 non-null  int64  \n",
      " 4   weight       70000 non-null  float64\n",
      " 5   ap_hi        70000 non-null  int64  \n",
      " 6   ap_lo        70000 non-null  int64  \n",
      " 7   cholesterol  70000 non-null  int64  \n",
      " 8   gluc         70000 non-null  int64  \n",
      " 9   smoke        70000 non-null  int64  \n",
      " 10  alco         70000 non-null  int64  \n",
      " 11  active       70000 non-null  int64  \n",
      " 12  cardio       70000 non-null  int64  \n",
      "dtypes: float64(1), int64(12)\n",
      "memory usage: 6.9 MB\n"
     ]
    }
   ],
   "source": [
    "# Check basic info DataFrame (dtype of features, number of columns, number of lines, name of features, \n",
    "# number of features, null values).\n",
    "df1.info()"
   ]
  },
  {
   "cell_type": "code",
   "execution_count": 6,
   "metadata": {
    "ExecuteTime": {
     "end_time": "2020-09-25T19:34:34.417590Z",
     "start_time": "2020-09-25T19:34:34.405207Z"
    },
    "hidden": true
   },
   "outputs": [
    {
     "data": {
      "text/plain": [
       "id             0\n",
       "age            0\n",
       "gender         0\n",
       "height         0\n",
       "weight         0\n",
       "ap_hi          0\n",
       "ap_lo          0\n",
       "cholesterol    0\n",
       "gluc           0\n",
       "smoke          0\n",
       "alco           0\n",
       "active         0\n",
       "cardio         0\n",
       "dtype: int64"
      ]
     },
     "execution_count": 6,
     "metadata": {},
     "output_type": "execute_result"
    }
   ],
   "source": [
    "# Checking N/A values in DataFrame\n",
    "df1.isna().sum()"
   ]
  },
  {
   "cell_type": "code",
   "execution_count": 7,
   "metadata": {
    "ExecuteTime": {
     "end_time": "2020-09-25T19:34:34.434441Z",
     "start_time": "2020-09-25T19:34:34.423409Z"
    },
    "hidden": true
   },
   "outputs": [],
   "source": [
    "# Changing  DType of features: height\n",
    "df1.height = df1.height.astype('float64') "
   ]
  },
  {
   "cell_type": "code",
   "execution_count": 8,
   "metadata": {
    "ExecuteTime": {
     "end_time": "2020-09-25T19:34:34.453863Z",
     "start_time": "2020-09-25T19:34:34.442701Z"
    },
    "hidden": true
   },
   "outputs": [
    {
     "data": {
      "text/plain": [
       "id               int64\n",
       "age              int64\n",
       "gender           int64\n",
       "height         float64\n",
       "weight         float64\n",
       "ap_hi            int64\n",
       "ap_lo            int64\n",
       "cholesterol      int64\n",
       "gluc             int64\n",
       "smoke            int64\n",
       "alco             int64\n",
       "active           int64\n",
       "cardio           int64\n",
       "dtype: object"
      ]
     },
     "execution_count": 8,
     "metadata": {},
     "output_type": "execute_result"
    }
   ],
   "source": [
    "# Checking features dtype changed above\n",
    "df1.dtypes"
   ]
  },
  {
   "cell_type": "code",
   "execution_count": 9,
   "metadata": {
    "ExecuteTime": {
     "end_time": "2020-09-25T19:34:34.474903Z",
     "start_time": "2020-09-25T19:34:34.460415Z"
    },
    "hidden": true
   },
   "outputs": [
    {
     "data": {
      "text/html": [
       "<div>\n",
       "<style scoped>\n",
       "    .dataframe tbody tr th:only-of-type {\n",
       "        vertical-align: middle;\n",
       "    }\n",
       "\n",
       "    .dataframe tbody tr th {\n",
       "        vertical-align: top;\n",
       "    }\n",
       "\n",
       "    .dataframe thead th {\n",
       "        text-align: right;\n",
       "    }\n",
       "</style>\n",
       "<table border=\"1\" class=\"dataframe\">\n",
       "  <thead>\n",
       "    <tr style=\"text-align: right;\">\n",
       "      <th></th>\n",
       "      <th>id</th>\n",
       "      <th>age</th>\n",
       "      <th>gender</th>\n",
       "      <th>height</th>\n",
       "      <th>weight</th>\n",
       "      <th>ap_hi</th>\n",
       "      <th>ap_lo</th>\n",
       "      <th>cholesterol</th>\n",
       "      <th>gluc</th>\n",
       "      <th>smoke</th>\n",
       "      <th>alco</th>\n",
       "      <th>active</th>\n",
       "      <th>cardio</th>\n",
       "    </tr>\n",
       "  </thead>\n",
       "  <tbody>\n",
       "    <tr>\n",
       "      <th>0</th>\n",
       "      <td>0</td>\n",
       "      <td>18393</td>\n",
       "      <td>2</td>\n",
       "      <td>168.0</td>\n",
       "      <td>62.0</td>\n",
       "      <td>110</td>\n",
       "      <td>80</td>\n",
       "      <td>1</td>\n",
       "      <td>1</td>\n",
       "      <td>0</td>\n",
       "      <td>0</td>\n",
       "      <td>1</td>\n",
       "      <td>0</td>\n",
       "    </tr>\n",
       "    <tr>\n",
       "      <th>1</th>\n",
       "      <td>1</td>\n",
       "      <td>20228</td>\n",
       "      <td>1</td>\n",
       "      <td>156.0</td>\n",
       "      <td>85.0</td>\n",
       "      <td>140</td>\n",
       "      <td>90</td>\n",
       "      <td>3</td>\n",
       "      <td>1</td>\n",
       "      <td>0</td>\n",
       "      <td>0</td>\n",
       "      <td>1</td>\n",
       "      <td>1</td>\n",
       "    </tr>\n",
       "    <tr>\n",
       "      <th>2</th>\n",
       "      <td>2</td>\n",
       "      <td>18857</td>\n",
       "      <td>1</td>\n",
       "      <td>165.0</td>\n",
       "      <td>64.0</td>\n",
       "      <td>130</td>\n",
       "      <td>70</td>\n",
       "      <td>3</td>\n",
       "      <td>1</td>\n",
       "      <td>0</td>\n",
       "      <td>0</td>\n",
       "      <td>0</td>\n",
       "      <td>1</td>\n",
       "    </tr>\n",
       "    <tr>\n",
       "      <th>3</th>\n",
       "      <td>3</td>\n",
       "      <td>17623</td>\n",
       "      <td>2</td>\n",
       "      <td>169.0</td>\n",
       "      <td>82.0</td>\n",
       "      <td>150</td>\n",
       "      <td>100</td>\n",
       "      <td>1</td>\n",
       "      <td>1</td>\n",
       "      <td>0</td>\n",
       "      <td>0</td>\n",
       "      <td>1</td>\n",
       "      <td>1</td>\n",
       "    </tr>\n",
       "    <tr>\n",
       "      <th>4</th>\n",
       "      <td>4</td>\n",
       "      <td>17474</td>\n",
       "      <td>1</td>\n",
       "      <td>156.0</td>\n",
       "      <td>56.0</td>\n",
       "      <td>100</td>\n",
       "      <td>60</td>\n",
       "      <td>1</td>\n",
       "      <td>1</td>\n",
       "      <td>0</td>\n",
       "      <td>0</td>\n",
       "      <td>0</td>\n",
       "      <td>0</td>\n",
       "    </tr>\n",
       "  </tbody>\n",
       "</table>\n",
       "</div>"
      ],
      "text/plain": [
       "   id    age  gender  height  weight  ap_hi  ap_lo  cholesterol  gluc  smoke  \\\n",
       "0   0  18393       2   168.0    62.0    110     80            1     1      0   \n",
       "1   1  20228       1   156.0    85.0    140     90            3     1      0   \n",
       "2   2  18857       1   165.0    64.0    130     70            3     1      0   \n",
       "3   3  17623       2   169.0    82.0    150    100            1     1      0   \n",
       "4   4  17474       1   156.0    56.0    100     60            1     1      0   \n",
       "\n",
       "   alco  active  cardio  \n",
       "0     0       1       0  \n",
       "1     0       1       1  \n",
       "2     0       0       1  \n",
       "3     0       1       1  \n",
       "4     0       0       0  "
      ]
     },
     "execution_count": 9,
     "metadata": {},
     "output_type": "execute_result"
    }
   ],
   "source": [
    "df1.head()"
   ]
  },
  {
   "cell_type": "markdown",
   "metadata": {
    "ExecuteTime": {
     "end_time": "2020-09-24T22:19:30.514277Z",
     "start_time": "2020-09-24T22:19:30.511433Z"
    },
    "heading_collapsed": true,
    "hidden": true
   },
   "source": [
    "### 1.0.2.2 - Numerical "
   ]
  },
  {
   "cell_type": "code",
   "execution_count": 10,
   "metadata": {
    "ExecuteTime": {
     "end_time": "2020-09-25T19:34:34.518349Z",
     "start_time": "2020-09-25T19:34:34.477884Z"
    },
    "hidden": true
   },
   "outputs": [
    {
     "data": {
      "text/html": [
       "<div>\n",
       "<style scoped>\n",
       "    .dataframe tbody tr th:only-of-type {\n",
       "        vertical-align: middle;\n",
       "    }\n",
       "\n",
       "    .dataframe tbody tr th {\n",
       "        vertical-align: top;\n",
       "    }\n",
       "\n",
       "    .dataframe thead th {\n",
       "        text-align: right;\n",
       "    }\n",
       "</style>\n",
       "<table border=\"1\" class=\"dataframe\">\n",
       "  <thead>\n",
       "    <tr style=\"text-align: right;\">\n",
       "      <th></th>\n",
       "      <th>height</th>\n",
       "      <th>weight</th>\n",
       "      <th>ap_hi</th>\n",
       "      <th>ap_lo</th>\n",
       "    </tr>\n",
       "  </thead>\n",
       "  <tbody>\n",
       "    <tr>\n",
       "      <th>count</th>\n",
       "      <td>70000.000000</td>\n",
       "      <td>70000.000000</td>\n",
       "      <td>70000.000000</td>\n",
       "      <td>70000.000000</td>\n",
       "    </tr>\n",
       "    <tr>\n",
       "      <th>mean</th>\n",
       "      <td>164.359229</td>\n",
       "      <td>74.205690</td>\n",
       "      <td>128.817286</td>\n",
       "      <td>96.630414</td>\n",
       "    </tr>\n",
       "    <tr>\n",
       "      <th>std</th>\n",
       "      <td>8.210126</td>\n",
       "      <td>14.395757</td>\n",
       "      <td>154.011419</td>\n",
       "      <td>188.472530</td>\n",
       "    </tr>\n",
       "    <tr>\n",
       "      <th>min</th>\n",
       "      <td>55.000000</td>\n",
       "      <td>10.000000</td>\n",
       "      <td>-150.000000</td>\n",
       "      <td>-70.000000</td>\n",
       "    </tr>\n",
       "    <tr>\n",
       "      <th>25%</th>\n",
       "      <td>159.000000</td>\n",
       "      <td>65.000000</td>\n",
       "      <td>120.000000</td>\n",
       "      <td>80.000000</td>\n",
       "    </tr>\n",
       "    <tr>\n",
       "      <th>50%</th>\n",
       "      <td>165.000000</td>\n",
       "      <td>72.000000</td>\n",
       "      <td>120.000000</td>\n",
       "      <td>80.000000</td>\n",
       "    </tr>\n",
       "    <tr>\n",
       "      <th>75%</th>\n",
       "      <td>170.000000</td>\n",
       "      <td>82.000000</td>\n",
       "      <td>140.000000</td>\n",
       "      <td>90.000000</td>\n",
       "    </tr>\n",
       "    <tr>\n",
       "      <th>max</th>\n",
       "      <td>250.000000</td>\n",
       "      <td>200.000000</td>\n",
       "      <td>16020.000000</td>\n",
       "      <td>11000.000000</td>\n",
       "    </tr>\n",
       "  </tbody>\n",
       "</table>\n",
       "</div>"
      ],
      "text/plain": [
       "             height        weight         ap_hi         ap_lo\n",
       "count  70000.000000  70000.000000  70000.000000  70000.000000\n",
       "mean     164.359229     74.205690    128.817286     96.630414\n",
       "std        8.210126     14.395757    154.011419    188.472530\n",
       "min       55.000000     10.000000   -150.000000    -70.000000\n",
       "25%      159.000000     65.000000    120.000000     80.000000\n",
       "50%      165.000000     72.000000    120.000000     80.000000\n",
       "75%      170.000000     82.000000    140.000000     90.000000\n",
       "max      250.000000    200.000000  16020.000000  11000.000000"
      ]
     },
     "execution_count": 10,
     "metadata": {},
     "output_type": "execute_result"
    }
   ],
   "source": [
    "# Generical Describe\n",
    "df1[['height', 'weight','ap_hi','ap_lo']].describe()"
   ]
  },
  {
   "cell_type": "code",
   "execution_count": 11,
   "metadata": {
    "ExecuteTime": {
     "end_time": "2020-09-25T19:34:34.536514Z",
     "start_time": "2020-09-25T19:34:34.520951Z"
    },
    "hidden": true
   },
   "outputs": [
    {
     "data": {
      "text/plain": [
       "height    -0.642187\n",
       "weight     1.012070\n",
       "ap_hi     85.296214\n",
       "ap_lo     32.114083\n",
       "dtype: float64"
      ]
     },
     "execution_count": 11,
     "metadata": {},
     "output_type": "execute_result"
    }
   ],
   "source": [
    "# Skew\n",
    "df1[['height', 'weight','ap_hi','ap_lo']].skew()"
   ]
  },
  {
   "cell_type": "code",
   "execution_count": 12,
   "metadata": {
    "ExecuteTime": {
     "end_time": "2020-09-25T19:34:34.558097Z",
     "start_time": "2020-09-25T19:34:34.540835Z"
    },
    "hidden": true
   },
   "outputs": [
    {
     "data": {
      "text/plain": [
       "height       7.943653\n",
       "weight       2.586825\n",
       "ap_hi     7580.074738\n",
       "ap_lo     1425.914585\n",
       "dtype: float64"
      ]
     },
     "execution_count": 12,
     "metadata": {},
     "output_type": "execute_result"
    }
   ],
   "source": [
    "# Kurtosis\n",
    "df1[['height', 'weight','ap_hi','ap_lo']].kurtosis()"
   ]
  },
  {
   "cell_type": "code",
   "execution_count": 13,
   "metadata": {
    "ExecuteTime": {
     "end_time": "2020-09-25T19:34:34.574637Z",
     "start_time": "2020-09-25T19:34:34.560089Z"
    },
    "hidden": true
   },
   "outputs": [
    {
     "data": {
      "text/plain": [
       "height      195.0\n",
       "weight      190.0\n",
       "ap_hi     16170.0\n",
       "ap_lo     11070.0\n",
       "dtype: float64"
      ]
     },
     "execution_count": 13,
     "metadata": {},
     "output_type": "execute_result"
    }
   ],
   "source": [
    "# Amplitude / Range\n",
    "df1[['height', 'weight','ap_hi','ap_lo']].apply(lambda x : x.max() - x.min())"
   ]
  },
  {
   "cell_type": "code",
   "execution_count": 14,
   "metadata": {
    "ExecuteTime": {
     "end_time": "2020-09-25T19:34:34.596518Z",
     "start_time": "2020-09-25T19:34:34.578962Z"
    },
    "hidden": true
   },
   "outputs": [
    {
     "data": {
      "text/plain": [
       "height    165.0\n",
       "weight     72.0\n",
       "ap_hi     120.0\n",
       "ap_lo      80.0\n",
       "dtype: float64"
      ]
     },
     "execution_count": 14,
     "metadata": {},
     "output_type": "execute_result"
    }
   ],
   "source": [
    "df1[['height', 'weight','ap_hi','ap_lo']].median()"
   ]
  },
  {
   "cell_type": "code",
   "execution_count": 15,
   "metadata": {
    "ExecuteTime": {
     "end_time": "2020-09-25T19:34:34.618420Z",
     "start_time": "2020-09-25T19:34:34.599637Z"
    },
    "hidden": true
   },
   "outputs": [
    {
     "data": {
      "text/html": [
       "<div>\n",
       "<style scoped>\n",
       "    .dataframe tbody tr th:only-of-type {\n",
       "        vertical-align: middle;\n",
       "    }\n",
       "\n",
       "    .dataframe tbody tr th {\n",
       "        vertical-align: top;\n",
       "    }\n",
       "\n",
       "    .dataframe thead th {\n",
       "        text-align: right;\n",
       "    }\n",
       "</style>\n",
       "<table border=\"1\" class=\"dataframe\">\n",
       "  <thead>\n",
       "    <tr style=\"text-align: right;\">\n",
       "      <th></th>\n",
       "      <th>height</th>\n",
       "      <th>weight</th>\n",
       "      <th>ap_hi</th>\n",
       "      <th>ap_lo</th>\n",
       "    </tr>\n",
       "  </thead>\n",
       "  <tbody>\n",
       "    <tr>\n",
       "      <th>0</th>\n",
       "      <td>165.0</td>\n",
       "      <td>65.0</td>\n",
       "      <td>120</td>\n",
       "      <td>80</td>\n",
       "    </tr>\n",
       "  </tbody>\n",
       "</table>\n",
       "</div>"
      ],
      "text/plain": [
       "   height  weight  ap_hi  ap_lo\n",
       "0   165.0    65.0    120     80"
      ]
     },
     "execution_count": 15,
     "metadata": {},
     "output_type": "execute_result"
    }
   ],
   "source": [
    "df1[['height', 'weight','ap_hi','ap_lo']].mode()"
   ]
  },
  {
   "cell_type": "code",
   "execution_count": 16,
   "metadata": {
    "ExecuteTime": {
     "end_time": "2020-09-25T19:34:35.057469Z",
     "start_time": "2020-09-25T19:34:34.622312Z"
    },
    "hidden": true
   },
   "outputs": [
    {
     "data": {
      "image/png": "[encoded data removed]",
      "text/plain": [
       "<Figure size 432x288 with 1 Axes>"
      ]
     },
     "metadata": {
      "needs_background": "light"
     },
     "output_type": "display_data"
    }
   ],
   "source": [
    "# Histograms\n",
    "\n",
    "# height feature\n",
    "sb.distplot(df1.height);"
   ]
  },
  {
   "cell_type": "code",
   "execution_count": 17,
   "metadata": {
    "ExecuteTime": {
     "end_time": "2020-09-25T19:34:35.539424Z",
     "start_time": "2020-09-25T19:34:35.060144Z"
    },
    "hidden": true
   },
   "outputs": [
    {
     "data": {
      "image/png": "[encoded data removed]",
      "text/plain": [
       "<Figure size 432x288 with 1 Axes>"
      ]
     },
     "metadata": {
      "needs_background": "light"
     },
     "output_type": "display_data"
    }
   ],
   "source": [
    "# weight feature\n",
    "sb.distplot(df1.weight);"
   ]
  },
  {
   "cell_type": "code",
   "execution_count": 18,
   "metadata": {
    "ExecuteTime": {
     "end_time": "2020-09-25T19:34:35.908398Z",
     "start_time": "2020-09-25T19:34:35.542128Z"
    },
    "hidden": true
   },
   "outputs": [
    {
     "data": {
      "image/png": "[encoded data removed]",
      "text/plain": [
       "<Figure size 432x288 with 1 Axes>"
      ]
     },
     "metadata": {
      "needs_background": "light"
     },
     "output_type": "display_data"
    }
   ],
   "source": [
    "# ap_hi feature\n",
    "sb.distplot(df1.ap_hi);"
   ]
  },
  {
   "cell_type": "code",
   "execution_count": 19,
   "metadata": {
    "ExecuteTime": {
     "end_time": "2020-09-25T19:34:36.280609Z",
     "start_time": "2020-09-25T19:34:35.911159Z"
    },
    "hidden": true
   },
   "outputs": [
    {
     "data": {
      "image/png": "[encoded data removed]",
      "text/plain": [
       "<Figure size 432x288 with 1 Axes>"
      ]
     },
     "metadata": {
      "needs_background": "light"
     },
     "output_type": "display_data"
    }
   ],
   "source": [
    "# ap_lo feature\n",
    "sb.distplot(df1.ap_lo, );"
   ]
  },
  {
   "cell_type": "code",
   "execution_count": 20,
   "metadata": {
    "ExecuteTime": {
     "end_time": "2020-09-25T19:34:36.409689Z",
     "start_time": "2020-09-25T19:34:36.283280Z"
    },
    "hidden": true
   },
   "outputs": [
    {
     "data": {
      "image/png": "[encoded data removed]",
      "text/plain": [
       "<Figure size 432x288 with 1 Axes>"
      ]
     },
     "metadata": {
      "needs_background": "light"
     },
     "output_type": "display_data"
    }
   ],
   "source": [
    "# Checking Outliers\n",
    "\n",
    "# height feature\n",
    "sb.boxplot(data=df1.height);"
   ]
  },
  {
   "cell_type": "code",
   "execution_count": 21,
   "metadata": {
    "ExecuteTime": {
     "end_time": "2020-09-25T19:34:36.535776Z",
     "start_time": "2020-09-25T19:34:36.412274Z"
    },
    "hidden": true
   },
   "outputs": [
    {
     "data": {
      "image/png": "[encoded data removed]",
      "text/plain": [
       "<Figure size 432x288 with 1 Axes>"
      ]
     },
     "metadata": {
      "needs_background": "light"
     },
     "output_type": "display_data"
    }
   ],
   "source": [
    "# weight feature\n",
    "sb.boxplot(data=df1.weight);"
   ]
  },
  {
   "cell_type": "code",
   "execution_count": 22,
   "metadata": {
    "ExecuteTime": {
     "end_time": "2020-09-25T19:34:36.666865Z",
     "start_time": "2020-09-25T19:34:36.538445Z"
    },
    "hidden": true
   },
   "outputs": [
    {
     "data": {
      "image/png": "[encoded data removed]",
      "text/plain": [
       "<Figure size 432x288 with 1 Axes>"
      ]
     },
     "metadata": {
      "needs_background": "light"
     },
     "output_type": "display_data"
    }
   ],
   "source": [
    "# ap_hi feature \n",
    "sb.boxplot(data=df1.ap_hi);"
   ]
  },
  {
   "cell_type": "code",
   "execution_count": 23,
   "metadata": {
    "ExecuteTime": {
     "end_time": "2020-09-25T19:34:36.790646Z",
     "start_time": "2020-09-25T19:34:36.675201Z"
    },
    "hidden": true
   },
   "outputs": [
    {
     "data": {
      "image/png": "[encoded data removed]",
      "text/plain": [
       "<Figure size 432x288 with 1 Axes>"
      ]
     },
     "metadata": {
      "needs_background": "light"
     },
     "output_type": "display_data"
    }
   ],
   "source": [
    "# ap_lo feature\n",
    "sb.boxplot(data=df1.ap_lo);"
   ]
  },
  {
   "cell_type": "markdown",
   "metadata": {
    "hidden": true
   },
   "source": [
    "#### 1.0.2.2.1 - Resume of descriptive statistics for numerical features"
   ]
  },
  {
   "cell_type": "markdown",
   "metadata": {
    "hidden": true
   },
   "source": [
    "De acordo com as estatísticas descritivas das variáveis numéricas acima observa-se que:\n",
    "\n",
    "- Variável **ap_lo**\n",
    "    - Possui muitos valores Outliers o que pode prejudicar o aprendizado dependendo do modelo que será utilizado. \n",
    "    - No que diz respeito à sua distribuição, observa-se que ela aproxima-se muito de uma distribuição normal pois sua média, mediana e moda estão bem próximas.\n",
    "    \n",
    "\n",
    "- Variável **ap_hi**\n",
    "    - Possui muitos valores Outliers o que pode prejudicar o aprendizado dependendo do modelo que será utilizado.\n",
    "    - No que diz respeito à sua distribuição, observa-se que ela aproxima-se muito de uma distribuição normal pois sua média, mediana e moda estão bem próximas.\n",
    " \n",
    "   \n",
    "- Variável **weight**\n",
    "    - Possui muitos valores Outliers o que pode prejudicar o aprendizado dependendo do modelo que será utilizado.\n",
    "    - No que diz respeito à sua distribuição, observa-se que ela aproxima-se muito de uma distribuição normal pois sua média, mediana e moda estão bem próximas.\n",
    "\n",
    "    \n",
    "- Variável **height**\n",
    "    - Possui muitos valores Outliers o que pode prejudicar o aprendizado dependendo do modelo que será utilizado.\n",
    "    - No que diz respeito à sua distribuição, observa-se que ela aproxima-se muito de uma distribuição normal pois sua média, mediana e moda estão bem próximas. "
   ]
  },
  {
   "cell_type": "markdown",
   "metadata": {
    "heading_collapsed": true,
    "hidden": true
   },
   "source": [
    "### 1.0.2.3 - Categorical"
   ]
  },
  {
   "cell_type": "code",
   "execution_count": 24,
   "metadata": {
    "ExecuteTime": {
     "end_time": "2020-09-25T19:34:36.841459Z",
     "start_time": "2020-09-25T19:34:36.796097Z"
    },
    "hidden": true
   },
   "outputs": [
    {
     "data": {
      "text/html": [
       "<div>\n",
       "<style scoped>\n",
       "    .dataframe tbody tr th:only-of-type {\n",
       "        vertical-align: middle;\n",
       "    }\n",
       "\n",
       "    .dataframe tbody tr th {\n",
       "        vertical-align: top;\n",
       "    }\n",
       "\n",
       "    .dataframe thead th {\n",
       "        text-align: right;\n",
       "    }\n",
       "</style>\n",
       "<table border=\"1\" class=\"dataframe\">\n",
       "  <thead>\n",
       "    <tr style=\"text-align: right;\">\n",
       "      <th></th>\n",
       "      <th>Age</th>\n",
       "      <th>Frequency</th>\n",
       "      <th>Relative_Frenquency</th>\n",
       "    </tr>\n",
       "  </thead>\n",
       "  <tbody>\n",
       "    <tr>\n",
       "      <th>55</th>\n",
       "      <td>50</td>\n",
       "      <td>3927</td>\n",
       "      <td>5.61</td>\n",
       "    </tr>\n",
       "    <tr>\n",
       "      <th>53</th>\n",
       "      <td>55</td>\n",
       "      <td>3868</td>\n",
       "      <td>5.53</td>\n",
       "    </tr>\n",
       "    <tr>\n",
       "      <th>57</th>\n",
       "      <td>51</td>\n",
       "      <td>3686</td>\n",
       "      <td>5.27</td>\n",
       "    </tr>\n",
       "    <tr>\n",
       "      <th>56</th>\n",
       "      <td>48</td>\n",
       "      <td>3607</td>\n",
       "      <td>5.15</td>\n",
       "    </tr>\n",
       "    <tr>\n",
       "      <th>54</th>\n",
       "      <td>47</td>\n",
       "      <td>3605</td>\n",
       "      <td>5.15</td>\n",
       "    </tr>\n",
       "    <tr>\n",
       "      <th>59</th>\n",
       "      <td>60</td>\n",
       "      <td>3576</td>\n",
       "      <td>5.11</td>\n",
       "    </tr>\n",
       "    <tr>\n",
       "      <th>49</th>\n",
       "      <td>61</td>\n",
       "      <td>3417</td>\n",
       "      <td>4.88</td>\n",
       "    </tr>\n",
       "    <tr>\n",
       "      <th>58</th>\n",
       "      <td>54</td>\n",
       "      <td>3409</td>\n",
       "      <td>4.87</td>\n",
       "    </tr>\n",
       "    <tr>\n",
       "      <th>51</th>\n",
       "      <td>40</td>\n",
       "      <td>3368</td>\n",
       "      <td>4.81</td>\n",
       "    </tr>\n",
       "    <tr>\n",
       "      <th>52</th>\n",
       "      <td>39</td>\n",
       "      <td>3279</td>\n",
       "      <td>4.68</td>\n",
       "    </tr>\n",
       "    <tr>\n",
       "      <th>50</th>\n",
       "      <td>45</td>\n",
       "      <td>3216</td>\n",
       "      <td>4.59</td>\n",
       "    </tr>\n",
       "    <tr>\n",
       "      <th>60</th>\n",
       "      <td>58</td>\n",
       "      <td>3200</td>\n",
       "      <td>4.57</td>\n",
       "    </tr>\n",
       "    <tr>\n",
       "      <th>63</th>\n",
       "      <td>59</td>\n",
       "      <td>2736</td>\n",
       "      <td>3.91</td>\n",
       "    </tr>\n",
       "    <tr>\n",
       "      <th>61</th>\n",
       "      <td>63</td>\n",
       "      <td>2728</td>\n",
       "      <td>3.90</td>\n",
       "    </tr>\n",
       "    <tr>\n",
       "      <th>62</th>\n",
       "      <td>64</td>\n",
       "      <td>2199</td>\n",
       "      <td>3.14</td>\n",
       "    </tr>\n",
       "    <tr>\n",
       "      <th>47</th>\n",
       "      <td>53</td>\n",
       "      <td>2197</td>\n",
       "      <td>3.14</td>\n",
       "    </tr>\n",
       "    <tr>\n",
       "      <th>64</th>\n",
       "      <td>49</td>\n",
       "      <td>2187</td>\n",
       "      <td>3.12</td>\n",
       "    </tr>\n",
       "    <tr>\n",
       "      <th>45</th>\n",
       "      <td>57</td>\n",
       "      <td>2087</td>\n",
       "      <td>2.98</td>\n",
       "    </tr>\n",
       "    <tr>\n",
       "      <th>43</th>\n",
       "      <td>56</td>\n",
       "      <td>2031</td>\n",
       "      <td>2.90</td>\n",
       "    </tr>\n",
       "    <tr>\n",
       "      <th>41</th>\n",
       "      <td>46</td>\n",
       "      <td>1903</td>\n",
       "      <td>2.72</td>\n",
       "    </tr>\n",
       "    <tr>\n",
       "      <th>48</th>\n",
       "      <td>43</td>\n",
       "      <td>1811</td>\n",
       "      <td>2.59</td>\n",
       "    </tr>\n",
       "    <tr>\n",
       "      <th>39</th>\n",
       "      <td>62</td>\n",
       "      <td>1780</td>\n",
       "      <td>2.54</td>\n",
       "    </tr>\n",
       "    <tr>\n",
       "      <th>46</th>\n",
       "      <td>52</td>\n",
       "      <td>1625</td>\n",
       "      <td>2.32</td>\n",
       "    </tr>\n",
       "    <tr>\n",
       "      <th>40</th>\n",
       "      <td>42</td>\n",
       "      <td>1622</td>\n",
       "      <td>2.32</td>\n",
       "    </tr>\n",
       "    <tr>\n",
       "      <th>44</th>\n",
       "      <td>44</td>\n",
       "      <td>1514</td>\n",
       "      <td>2.16</td>\n",
       "    </tr>\n",
       "    <tr>\n",
       "      <th>42</th>\n",
       "      <td>41</td>\n",
       "      <td>1418</td>\n",
       "      <td>2.03</td>\n",
       "    </tr>\n",
       "    <tr>\n",
       "      <th>29</th>\n",
       "      <td>29</td>\n",
       "      <td>3</td>\n",
       "      <td>0.00</td>\n",
       "    </tr>\n",
       "    <tr>\n",
       "      <th>30</th>\n",
       "      <td>30</td>\n",
       "      <td>1</td>\n",
       "      <td>0.00</td>\n",
       "    </tr>\n",
       "  </tbody>\n",
       "</table>\n",
       "</div>"
      ],
      "text/plain": [
       "    Age  Frequency  Relative_Frenquency\n",
       "55   50       3927                 5.61\n",
       "53   55       3868                 5.53\n",
       "57   51       3686                 5.27\n",
       "56   48       3607                 5.15\n",
       "54   47       3605                 5.15\n",
       "59   60       3576                 5.11\n",
       "49   61       3417                 4.88\n",
       "58   54       3409                 4.87\n",
       "51   40       3368                 4.81\n",
       "52   39       3279                 4.68\n",
       "50   45       3216                 4.59\n",
       "60   58       3200                 4.57\n",
       "63   59       2736                 3.91\n",
       "61   63       2728                 3.90\n",
       "62   64       2199                 3.14\n",
       "47   53       2197                 3.14\n",
       "64   49       2187                 3.12\n",
       "45   57       2087                 2.98\n",
       "43   56       2031                 2.90\n",
       "41   46       1903                 2.72\n",
       "48   43       1811                 2.59\n",
       "39   62       1780                 2.54\n",
       "46   52       1625                 2.32\n",
       "40   42       1622                 2.32\n",
       "44   44       1514                 2.16\n",
       "42   41       1418                 2.03\n",
       "29   29          3                 0.00\n",
       "30   30          1                 0.00"
      ]
     },
     "execution_count": 24,
     "metadata": {},
     "output_type": "execute_result"
    }
   ],
   "source": [
    "# Frequency Table\n",
    "\n",
    "# age feature\n",
    "\n",
    "# First, is necessary to transform age (days) into age (year) on another new column called age_year \n",
    "df1['age_year'] = df1.age.apply(lambda x : x // 365)\n",
    "\n",
    "# Table\n",
    "age_table = {'Age':df1.age_year.unique(),\n",
    "             'Frequency':df1.age_year.value_counts(),\n",
    "             'Relative_Frenquency':round(df1.age_year.value_counts() / df1.age_year.value_counts().sum() * 100, 2)}\n",
    "\n",
    "age_frenquency_table = pd.DataFrame(age_table, columns=['Age','Frequency', 'Relative_Frenquency'])\n",
    "\n",
    "age_frenquency_table"
   ]
  },
  {
   "cell_type": "code",
   "execution_count": 25,
   "metadata": {
    "ExecuteTime": {
     "end_time": "2020-09-25T19:34:37.364811Z",
     "start_time": "2020-09-25T19:34:36.843912Z"
    },
    "hidden": true
   },
   "outputs": [
    {
     "data": {
      "image/png": "[encoded data removed]",
      "text/plain": [
       "<Figure size 432x432 with 1 Axes>"
      ]
     },
     "metadata": {
      "needs_background": "light"
     },
     "output_type": "display_data"
    }
   ],
   "source": [
    "# Graph\n",
    "g = sb.catplot(\n",
    "    data=df1, kind=\"bar\",\n",
    "    x=df1.age_year.unique(), y=df1.age_year.value_counts(), palette=\"dark\", alpha=.6, height=6);\n",
    "g.despine(left=True);\n",
    "g.set_axis_labels('Age', \"Frequency\");"
   ]
  },
  {
   "cell_type": "code",
   "execution_count": 26,
   "metadata": {
    "ExecuteTime": {
     "end_time": "2020-09-25T19:34:37.386738Z",
     "start_time": "2020-09-25T19:34:37.367543Z"
    },
    "hidden": true
   },
   "outputs": [
    {
     "data": {
      "text/html": [
       "<div>\n",
       "<style scoped>\n",
       "    .dataframe tbody tr th:only-of-type {\n",
       "        vertical-align: middle;\n",
       "    }\n",
       "\n",
       "    .dataframe tbody tr th {\n",
       "        vertical-align: top;\n",
       "    }\n",
       "\n",
       "    .dataframe thead th {\n",
       "        text-align: right;\n",
       "    }\n",
       "</style>\n",
       "<table border=\"1\" class=\"dataframe\">\n",
       "  <thead>\n",
       "    <tr style=\"text-align: right;\">\n",
       "      <th></th>\n",
       "      <th>Gender</th>\n",
       "      <th>Frequency</th>\n",
       "      <th>Relative_Frenquency</th>\n",
       "    </tr>\n",
       "  </thead>\n",
       "  <tbody>\n",
       "    <tr>\n",
       "      <th>1</th>\n",
       "      <td>2</td>\n",
       "      <td>45530</td>\n",
       "      <td>65.04</td>\n",
       "    </tr>\n",
       "    <tr>\n",
       "      <th>2</th>\n",
       "      <td>1</td>\n",
       "      <td>24470</td>\n",
       "      <td>34.96</td>\n",
       "    </tr>\n",
       "  </tbody>\n",
       "</table>\n",
       "</div>"
      ],
      "text/plain": [
       "   Gender  Frequency  Relative_Frenquency\n",
       "1       2      45530                65.04\n",
       "2       1      24470                34.96"
      ]
     },
     "execution_count": 26,
     "metadata": {},
     "output_type": "execute_result"
    }
   ],
   "source": [
    "# gender feature\n",
    "\n",
    "# Table\n",
    "gender_table = {'Gender':df1.gender.unique(),\n",
    "             'Frequency':df1.gender.value_counts(),\n",
    "             'Relative_Frenquency':round(df1.gender.value_counts() / df1.gender.value_counts().sum() * 100, 2)}\n",
    "\n",
    "gender_frenquency_table = pd.DataFrame(gender_table, columns=['Gender','Frequency', 'Relative_Frenquency'])\n",
    "\n",
    "gender_frenquency_table"
   ]
  },
  {
   "cell_type": "code",
   "execution_count": 27,
   "metadata": {
    "ExecuteTime": {
     "end_time": "2020-09-25T19:34:37.574441Z",
     "start_time": "2020-09-25T19:34:37.389063Z"
    },
    "hidden": true
   },
   "outputs": [
    {
     "data": {
      "image/png": "[encoded data removed]",
      "text/plain": [
       "<Figure size 432x432 with 1 Axes>"
      ]
     },
     "metadata": {
      "needs_background": "light"
     },
     "output_type": "display_data"
    }
   ],
   "source": [
    "# Graph\n",
    "g = sb.catplot(\n",
    "    data=df1, kind=\"bar\",\n",
    "    x=df1.gender.unique(), y=df1.gender.value_counts(), palette=\"dark\", alpha=.6, height=6);\n",
    "g.despine(left=True);\n",
    "g.set_axis_labels('Gender', \"Frequency\");"
   ]
  },
  {
   "cell_type": "code",
   "execution_count": 28,
   "metadata": {
    "ExecuteTime": {
     "end_time": "2020-09-25T19:34:37.596647Z",
     "start_time": "2020-09-25T19:34:37.577065Z"
    },
    "hidden": true
   },
   "outputs": [
    {
     "data": {
      "text/html": [
       "<div>\n",
       "<style scoped>\n",
       "    .dataframe tbody tr th:only-of-type {\n",
       "        vertical-align: middle;\n",
       "    }\n",
       "\n",
       "    .dataframe tbody tr th {\n",
       "        vertical-align: top;\n",
       "    }\n",
       "\n",
       "    .dataframe thead th {\n",
       "        text-align: right;\n",
       "    }\n",
       "</style>\n",
       "<table border=\"1\" class=\"dataframe\">\n",
       "  <thead>\n",
       "    <tr style=\"text-align: right;\">\n",
       "      <th></th>\n",
       "      <th>Cholesterol</th>\n",
       "      <th>Frequency</th>\n",
       "      <th>Relative_Frenquency</th>\n",
       "    </tr>\n",
       "  </thead>\n",
       "  <tbody>\n",
       "    <tr>\n",
       "      <th>1</th>\n",
       "      <td>1</td>\n",
       "      <td>52385</td>\n",
       "      <td>74.84</td>\n",
       "    </tr>\n",
       "    <tr>\n",
       "      <th>2</th>\n",
       "      <td>3</td>\n",
       "      <td>9549</td>\n",
       "      <td>13.64</td>\n",
       "    </tr>\n",
       "    <tr>\n",
       "      <th>3</th>\n",
       "      <td>2</td>\n",
       "      <td>8066</td>\n",
       "      <td>11.52</td>\n",
       "    </tr>\n",
       "  </tbody>\n",
       "</table>\n",
       "</div>"
      ],
      "text/plain": [
       "   Cholesterol  Frequency  Relative_Frenquency\n",
       "1            1      52385                74.84\n",
       "2            3       9549                13.64\n",
       "3            2       8066                11.52"
      ]
     },
     "execution_count": 28,
     "metadata": {},
     "output_type": "execute_result"
    }
   ],
   "source": [
    "# cholesterol feature\n",
    "\n",
    "# Table\n",
    "cholesterol_table = {'Cholesterol':df1.cholesterol.unique(),\n",
    "             'Frequency':df1.cholesterol.value_counts(),\n",
    "             'Relative_Frenquency':round(df1.cholesterol.value_counts() / df1.cholesterol.value_counts().sum() * 100, 2)}\n",
    "\n",
    "cholesterol_frenquency_table = pd.DataFrame(cholesterol_table, columns=['Cholesterol','Frequency', 'Relative_Frenquency'])\n",
    "\n",
    "cholesterol_frenquency_table "
   ]
  },
  {
   "cell_type": "code",
   "execution_count": 29,
   "metadata": {
    "ExecuteTime": {
     "end_time": "2020-09-25T19:34:37.795985Z",
     "start_time": "2020-09-25T19:34:37.599014Z"
    },
    "hidden": true
   },
   "outputs": [
    {
     "data": {
      "image/png": "[encoded data removed]",
      "text/plain": [
       "<Figure size 432x432 with 1 Axes>"
      ]
     },
     "metadata": {
      "needs_background": "light"
     },
     "output_type": "display_data"
    }
   ],
   "source": [
    "# Graph\n",
    "g = sb.catplot(\n",
    "    data=df1, kind=\"bar\",\n",
    "    x=df1.cholesterol.unique(), y=df1.cholesterol.value_counts(), palette=\"dark\", alpha=.6, height=6);\n",
    "g.despine(left=True);\n",
    "g.set_axis_labels('Cholesterol', \"Frequency\");"
   ]
  },
  {
   "cell_type": "code",
   "execution_count": 30,
   "metadata": {
    "ExecuteTime": {
     "end_time": "2020-09-25T19:34:37.817262Z",
     "start_time": "2020-09-25T19:34:37.798609Z"
    },
    "hidden": true
   },
   "outputs": [
    {
     "data": {
      "text/html": [
       "<div>\n",
       "<style scoped>\n",
       "    .dataframe tbody tr th:only-of-type {\n",
       "        vertical-align: middle;\n",
       "    }\n",
       "\n",
       "    .dataframe tbody tr th {\n",
       "        vertical-align: top;\n",
       "    }\n",
       "\n",
       "    .dataframe thead th {\n",
       "        text-align: right;\n",
       "    }\n",
       "</style>\n",
       "<table border=\"1\" class=\"dataframe\">\n",
       "  <thead>\n",
       "    <tr style=\"text-align: right;\">\n",
       "      <th></th>\n",
       "      <th>Glucose</th>\n",
       "      <th>Frequency</th>\n",
       "      <th>Relative_Frenquency</th>\n",
       "    </tr>\n",
       "  </thead>\n",
       "  <tbody>\n",
       "    <tr>\n",
       "      <th>1</th>\n",
       "      <td>1</td>\n",
       "      <td>59479</td>\n",
       "      <td>84.97</td>\n",
       "    </tr>\n",
       "    <tr>\n",
       "      <th>3</th>\n",
       "      <td>2</td>\n",
       "      <td>5331</td>\n",
       "      <td>7.62</td>\n",
       "    </tr>\n",
       "    <tr>\n",
       "      <th>2</th>\n",
       "      <td>3</td>\n",
       "      <td>5190</td>\n",
       "      <td>7.41</td>\n",
       "    </tr>\n",
       "  </tbody>\n",
       "</table>\n",
       "</div>"
      ],
      "text/plain": [
       "   Glucose  Frequency  Relative_Frenquency\n",
       "1        1      59479                84.97\n",
       "3        2       5331                 7.62\n",
       "2        3       5190                 7.41"
      ]
     },
     "execution_count": 30,
     "metadata": {},
     "output_type": "execute_result"
    }
   ],
   "source": [
    "# gluc feature\n",
    "# Table\n",
    "gluc_table = {'Glucose':df1.gluc.unique(),\n",
    "             'Frequency':df1.gluc.value_counts(),\n",
    "             'Relative_Frenquency':round(df1.gluc.value_counts() / df1.gluc.value_counts().sum() * 100, 2)}\n",
    "\n",
    "gluc_frenquency_table = pd.DataFrame(gluc_table, columns=['Glucose','Frequency', 'Relative_Frenquency'])\n",
    "\n",
    "gluc_frenquency_table "
   ]
  },
  {
   "cell_type": "code",
   "execution_count": 31,
   "metadata": {
    "ExecuteTime": {
     "end_time": "2020-09-25T19:34:38.021070Z",
     "start_time": "2020-09-25T19:34:37.819972Z"
    },
    "hidden": true
   },
   "outputs": [
    {
     "data": {
      "image/png": "[encoded data removed]",
      "text/plain": [
       "<Figure size 432x432 with 1 Axes>"
      ]
     },
     "metadata": {
      "needs_background": "light"
     },
     "output_type": "display_data"
    }
   ],
   "source": [
    "# Graph\n",
    "g = sb.catplot(\n",
    "    data=df1, kind=\"bar\",\n",
    "    x=df1.gluc.unique(), y=df1.gluc.value_counts(), palette=\"dark\", alpha=.6, height=6);\n",
    "g.despine(left=True);\n",
    "g.set_axis_labels('Glucose', \"Frequency\");"
   ]
  },
  {
   "cell_type": "code",
   "execution_count": 32,
   "metadata": {
    "ExecuteTime": {
     "end_time": "2020-09-25T19:34:38.041917Z",
     "start_time": "2020-09-25T19:34:38.023411Z"
    },
    "hidden": true
   },
   "outputs": [
    {
     "data": {
      "text/html": [
       "<div>\n",
       "<style scoped>\n",
       "    .dataframe tbody tr th:only-of-type {\n",
       "        vertical-align: middle;\n",
       "    }\n",
       "\n",
       "    .dataframe tbody tr th {\n",
       "        vertical-align: top;\n",
       "    }\n",
       "\n",
       "    .dataframe thead th {\n",
       "        text-align: right;\n",
       "    }\n",
       "</style>\n",
       "<table border=\"1\" class=\"dataframe\">\n",
       "  <thead>\n",
       "    <tr style=\"text-align: right;\">\n",
       "      <th></th>\n",
       "      <th>Smoke</th>\n",
       "      <th>Frequency</th>\n",
       "      <th>Relative_Frenquency</th>\n",
       "    </tr>\n",
       "  </thead>\n",
       "  <tbody>\n",
       "    <tr>\n",
       "      <th>0</th>\n",
       "      <td>0</td>\n",
       "      <td>63831</td>\n",
       "      <td>91.19</td>\n",
       "    </tr>\n",
       "    <tr>\n",
       "      <th>1</th>\n",
       "      <td>1</td>\n",
       "      <td>6169</td>\n",
       "      <td>8.81</td>\n",
       "    </tr>\n",
       "  </tbody>\n",
       "</table>\n",
       "</div>"
      ],
      "text/plain": [
       "   Smoke  Frequency  Relative_Frenquency\n",
       "0      0      63831                91.19\n",
       "1      1       6169                 8.81"
      ]
     },
     "execution_count": 32,
     "metadata": {},
     "output_type": "execute_result"
    }
   ],
   "source": [
    "# smoke feature\n",
    "# Table\n",
    "smoke_table = {'Smoke':df1.smoke.unique(),\n",
    "             'Frequency':df1.smoke.value_counts(),\n",
    "             'Relative_Frenquency':round(df1.smoke.value_counts() / df1.smoke.value_counts().sum() * 100, 2)}\n",
    "\n",
    "smoke_frenquency_table = pd.DataFrame(smoke_table, columns=['Smoke','Frequency', 'Relative_Frenquency'])\n",
    "\n",
    "smoke_frenquency_table"
   ]
  },
  {
   "cell_type": "code",
   "execution_count": 33,
   "metadata": {
    "ExecuteTime": {
     "end_time": "2020-09-25T19:34:38.235546Z",
     "start_time": "2020-09-25T19:34:38.044570Z"
    },
    "hidden": true
   },
   "outputs": [
    {
     "data": {
      "image/png": "[encoded data removed]",
      "text/plain": [
       "<Figure size 432x432 with 1 Axes>"
      ]
     },
     "metadata": {
      "needs_background": "light"
     },
     "output_type": "display_data"
    }
   ],
   "source": [
    "# Graph\n",
    "g = sb.catplot(\n",
    "    data=df1, kind=\"bar\",\n",
    "    x=df1.smoke.unique(), y=df1.smoke.value_counts(), palette=\"dark\", alpha=.6, height=6);\n",
    "g.despine(left=True);\n",
    "g.set_axis_labels('Smoke', \"Frequency\");"
   ]
  },
  {
   "cell_type": "code",
   "execution_count": 34,
   "metadata": {
    "ExecuteTime": {
     "end_time": "2020-09-25T19:34:38.257574Z",
     "start_time": "2020-09-25T19:34:38.238011Z"
    },
    "hidden": true
   },
   "outputs": [
    {
     "data": {
      "text/html": [
       "<div>\n",
       "<style scoped>\n",
       "    .dataframe tbody tr th:only-of-type {\n",
       "        vertical-align: middle;\n",
       "    }\n",
       "\n",
       "    .dataframe tbody tr th {\n",
       "        vertical-align: top;\n",
       "    }\n",
       "\n",
       "    .dataframe thead th {\n",
       "        text-align: right;\n",
       "    }\n",
       "</style>\n",
       "<table border=\"1\" class=\"dataframe\">\n",
       "  <thead>\n",
       "    <tr style=\"text-align: right;\">\n",
       "      <th></th>\n",
       "      <th>Alcohol</th>\n",
       "      <th>Frequency</th>\n",
       "      <th>Relative_Frenquency</th>\n",
       "    </tr>\n",
       "  </thead>\n",
       "  <tbody>\n",
       "    <tr>\n",
       "      <th>0</th>\n",
       "      <td>0</td>\n",
       "      <td>66236</td>\n",
       "      <td>94.62</td>\n",
       "    </tr>\n",
       "    <tr>\n",
       "      <th>1</th>\n",
       "      <td>1</td>\n",
       "      <td>3764</td>\n",
       "      <td>5.38</td>\n",
       "    </tr>\n",
       "  </tbody>\n",
       "</table>\n",
       "</div>"
      ],
      "text/plain": [
       "   Alcohol  Frequency  Relative_Frenquency\n",
       "0        0      66236                94.62\n",
       "1        1       3764                 5.38"
      ]
     },
     "execution_count": 34,
     "metadata": {},
     "output_type": "execute_result"
    }
   ],
   "source": [
    "# alco feature \n",
    "# Table\n",
    "alco_table = {'Alcohol':df1.alco.unique(),\n",
    "             'Frequency':df1.alco.value_counts(),\n",
    "             'Relative_Frenquency':round(df1.alco.value_counts() / df1.alco.value_counts().sum() * 100, 2)}\n",
    "\n",
    "alco_frenquency_table = pd.DataFrame(alco_table, columns=['Alcohol','Frequency', 'Relative_Frenquency'])\n",
    "\n",
    "alco_frenquency_table"
   ]
  },
  {
   "cell_type": "code",
   "execution_count": 35,
   "metadata": {
    "ExecuteTime": {
     "end_time": "2020-09-25T19:34:38.455083Z",
     "start_time": "2020-09-25T19:34:38.260207Z"
    },
    "hidden": true
   },
   "outputs": [
    {
     "data": {
      "image/png": "[encoded data removed]",
      "text/plain": [
       "<Figure size 432x432 with 1 Axes>"
      ]
     },
     "metadata": {
      "needs_background": "light"
     },
     "output_type": "display_data"
    }
   ],
   "source": [
    "# Graph\n",
    "g = sb.catplot(\n",
    "    data=df1, kind=\"bar\",\n",
    "    x=df1.alco.unique(), y=df1.alco.value_counts(), palette=\"dark\", alpha=.6, height=6);\n",
    "g.despine(left=True);\n",
    "g.set_axis_labels('Alcohol', \"Frequency\");"
   ]
  },
  {
   "cell_type": "code",
   "execution_count": 36,
   "metadata": {
    "ExecuteTime": {
     "end_time": "2020-09-25T19:34:38.478121Z",
     "start_time": "2020-09-25T19:34:38.458322Z"
    },
    "hidden": true
   },
   "outputs": [
    {
     "data": {
      "text/html": [
       "<div>\n",
       "<style scoped>\n",
       "    .dataframe tbody tr th:only-of-type {\n",
       "        vertical-align: middle;\n",
       "    }\n",
       "\n",
       "    .dataframe tbody tr th {\n",
       "        vertical-align: top;\n",
       "    }\n",
       "\n",
       "    .dataframe thead th {\n",
       "        text-align: right;\n",
       "    }\n",
       "</style>\n",
       "<table border=\"1\" class=\"dataframe\">\n",
       "  <thead>\n",
       "    <tr style=\"text-align: right;\">\n",
       "      <th></th>\n",
       "      <th>Active</th>\n",
       "      <th>Frequency</th>\n",
       "      <th>Relative_Frenquency</th>\n",
       "    </tr>\n",
       "  </thead>\n",
       "  <tbody>\n",
       "    <tr>\n",
       "      <th>1</th>\n",
       "      <td>1</td>\n",
       "      <td>56261</td>\n",
       "      <td>80.37</td>\n",
       "    </tr>\n",
       "    <tr>\n",
       "      <th>0</th>\n",
       "      <td>0</td>\n",
       "      <td>13739</td>\n",
       "      <td>19.63</td>\n",
       "    </tr>\n",
       "  </tbody>\n",
       "</table>\n",
       "</div>"
      ],
      "text/plain": [
       "   Active  Frequency  Relative_Frenquency\n",
       "1       1      56261                80.37\n",
       "0       0      13739                19.63"
      ]
     },
     "execution_count": 36,
     "metadata": {},
     "output_type": "execute_result"
    }
   ],
   "source": [
    "# active feature\n",
    "# Table\n",
    "active_table = {'Active':df1.active.unique(),\n",
    "             'Frequency':df1.active.value_counts(),\n",
    "             'Relative_Frenquency':round(df1.active.value_counts() / df1.active.value_counts().sum() * 100, 2)}\n",
    "\n",
    "active_frenquency_table = pd.DataFrame(active_table, columns=['Active','Frequency', 'Relative_Frenquency'])\n",
    "\n",
    "active_frenquency_table"
   ]
  },
  {
   "cell_type": "code",
   "execution_count": 37,
   "metadata": {
    "ExecuteTime": {
     "end_time": "2020-09-25T19:34:38.666149Z",
     "start_time": "2020-09-25T19:34:38.480785Z"
    },
    "hidden": true
   },
   "outputs": [
    {
     "data": {
      "image/png": "[encoded data removed]",
      "text/plain": [
       "<Figure size 432x432 with 1 Axes>"
      ]
     },
     "metadata": {
      "needs_background": "light"
     },
     "output_type": "display_data"
    }
   ],
   "source": [
    "# Graph\n",
    "g = sb.catplot(\n",
    "    data=df1, kind=\"bar\",\n",
    "    x=df1.active.unique(), y=df1.active.value_counts(), palette=\"dark\", alpha=.6, height=6);\n",
    "g.despine(left=True);\n",
    "g.set_axis_labels('Active', \"Frequency\");"
   ]
  },
  {
   "cell_type": "code",
   "execution_count": 38,
   "metadata": {
    "ExecuteTime": {
     "end_time": "2020-09-25T19:34:38.687784Z",
     "start_time": "2020-09-25T19:34:38.668702Z"
    },
    "hidden": true
   },
   "outputs": [
    {
     "data": {
      "text/html": [
       "<div>\n",
       "<style scoped>\n",
       "    .dataframe tbody tr th:only-of-type {\n",
       "        vertical-align: middle;\n",
       "    }\n",
       "\n",
       "    .dataframe tbody tr th {\n",
       "        vertical-align: top;\n",
       "    }\n",
       "\n",
       "    .dataframe thead th {\n",
       "        text-align: right;\n",
       "    }\n",
       "</style>\n",
       "<table border=\"1\" class=\"dataframe\">\n",
       "  <thead>\n",
       "    <tr style=\"text-align: right;\">\n",
       "      <th></th>\n",
       "      <th>Cardio</th>\n",
       "      <th>Frequency</th>\n",
       "      <th>Relative_Frenquency</th>\n",
       "    </tr>\n",
       "  </thead>\n",
       "  <tbody>\n",
       "    <tr>\n",
       "      <th>0</th>\n",
       "      <td>0</td>\n",
       "      <td>35021</td>\n",
       "      <td>50.03</td>\n",
       "    </tr>\n",
       "    <tr>\n",
       "      <th>1</th>\n",
       "      <td>1</td>\n",
       "      <td>34979</td>\n",
       "      <td>49.97</td>\n",
       "    </tr>\n",
       "  </tbody>\n",
       "</table>\n",
       "</div>"
      ],
      "text/plain": [
       "   Cardio  Frequency  Relative_Frenquency\n",
       "0       0      35021                50.03\n",
       "1       1      34979                49.97"
      ]
     },
     "execution_count": 38,
     "metadata": {},
     "output_type": "execute_result"
    }
   ],
   "source": [
    "# cardio feature\n",
    "# Table\n",
    "cardio_table = {'Cardio':df1.cardio.unique(),\n",
    "             'Frequency':df1.cardio.value_counts(),\n",
    "             'Relative_Frenquency':round(df1.cardio.value_counts() / df1.cardio.value_counts().sum() * 100, 2)}\n",
    "\n",
    "cardio_frenquency_table = pd.DataFrame(cardio_table, columns=['Cardio','Frequency', 'Relative_Frenquency'])\n",
    "\n",
    "cardio_frenquency_table"
   ]
  },
  {
   "cell_type": "code",
   "execution_count": 39,
   "metadata": {
    "ExecuteTime": {
     "end_time": "2020-09-25T19:34:38.892954Z",
     "start_time": "2020-09-25T19:34:38.691802Z"
    },
    "hidden": true
   },
   "outputs": [
    {
     "data": {
      "image/png": "[encoded data removed]",
      "text/plain": [
       "<Figure size 432x432 with 1 Axes>"
      ]
     },
     "metadata": {
      "needs_background": "light"
     },
     "output_type": "display_data"
    }
   ],
   "source": [
    "# Graph\n",
    "g = sb.catplot(\n",
    "    data=df1, kind=\"bar\",\n",
    "    x=df1.cardio.unique(), y=df1.cardio.value_counts(), palette=\"dark\", alpha=.6, height=6);\n",
    "g.despine(left=True);\n",
    "g.set_axis_labels('Cardio', \"Frequency\");"
   ]
  },
  {
   "cell_type": "markdown",
   "metadata": {
    "hidden": true
   },
   "source": [
    "#### 1.0.2.2.2 - Resume of descriptive statistics for categorical features"
   ]
  },
  {
   "cell_type": "markdown",
   "metadata": {
    "hidden": true
   },
   "source": [
    "De acordo com as estatísticas descritivas das variáveis categóricas acima observa-se que:\n",
    "\n",
    "- Variável **cardio**\n",
    "    - A váriável TARGET cardio não precisa ser balanceada com a técnicas SMOTE ou NearMiss. \n",
    "    - O modelo não terá problemas em aprender pois ele dispõe de exemplos em igual proporção.\n",
    "    - Estou assumindo que 0 = doença cardiovascular e 1 = sem doença cardiovascular.\n",
    "\n",
    "\n",
    "- Variável **active**\n",
    "    - Variável subjetiva, sua importância será verificada na Análise Exploratória dos Dados.\n",
    "    - Estou assumindo que 0 = Faz atividades físicas e 1 = Não faz atividades físicas.\n",
    "   \n",
    "   \n",
    "- Variável **alco**\n",
    "    - Variável subjetiva, sua importância será verificada na Análise Exploratória dos Dados.\n",
    "    - Estou assiumindo que 0 = Consome bebidas alcólicas e 1 = Não consome bebidas alcólicas.\n",
    "    \n",
    "    \n",
    "- Variável **smoke**\n",
    "    - Variável subjetiva, sua importância será verificada na Análise Exploratória dos Dados.\n",
    "    - Estou assumindo que 0 = Fumantes e 1 = Não fumantes.\n",
    "    \n",
    "    \n",
    "- Variável **gluco**\n",
    "    - Variável objetiva, pois foram realizados exames.\n",
    "    - Segundo o [Kaggle](https://www.kaggle.com/sulianova/cardiovascular-disease-dataset), as classes correspondem a: 1 = normal, 2 = acima do normal 3 = muito acima do normal.\n",
    "\n",
    "\n",
    "- Variável **cholesterol**\n",
    "    - Variável objetiva, pois foram realizados exames.\n",
    "    - Segundo o [Kaggle](https://www.kaggle.com/sulianova/cardiovascular-disease-dataset), as classes correspondem a: 1 = normal, 2 = acima do normal 3 = muito acima do normal.\n",
    "    \n",
    "    \n",
    "- Variável **gender**\n",
    "    - Variável objetiva, cadastro do paciente para o exame.\n",
    "    - Estou assumindo que 1 = Homens e 2 = Mulheres\n",
    "    \n",
    "    \n",
    "- Variável **age**\n",
    "    - Variável objetiva (descrita em dias), cadastro do paciente para o exame.\n",
    "    - A descrição estatística para essa variável tem por objetivo mostrar a frequencia de idade para o tipo de exame."
   ]
  },
  {
   "cell_type": "markdown",
   "metadata": {
    "ExecuteTime": {
     "end_time": "2020-09-25T14:47:13.141321Z",
     "start_time": "2020-09-25T14:47:13.138699Z"
    },
    "heading_collapsed": true
   },
   "source": [
    "# 2.0 - Feature Engineer"
   ]
  },
  {
   "cell_type": "code",
   "execution_count": 40,
   "metadata": {
    "ExecuteTime": {
     "end_time": "2020-09-25T19:34:38.902633Z",
     "start_time": "2020-09-25T19:34:38.895405Z"
    },
    "hidden": true
   },
   "outputs": [],
   "source": [
    "df2 = df1.copy()"
   ]
  },
  {
   "cell_type": "markdown",
   "metadata": {
    "heading_collapsed": true,
    "hidden": true
   },
   "source": [
    "## 2.0.1 - Hypothesis Mind Map"
   ]
  },
  {
   "cell_type": "code",
   "execution_count": 41,
   "metadata": {
    "ExecuteTime": {
     "end_time": "2020-09-25T19:34:39.109764Z",
     "start_time": "2020-09-25T19:34:38.905800Z"
    },
    "hidden": true
   },
   "outputs": [
    {
     "data": {
      "image/png": "[encoded data removed]",
      "text/plain": [
       "<PIL.PngImagePlugin.PngImageFile image mode=RGBA size=2044x646 at 0x119913F10>"
      ]
     },
     "execution_count": 41,
     "metadata": {},
     "output_type": "execute_result"
    }
   ],
   "source": [
    "image = Image.open('mindmap.png')\n",
    "image"
   ]
  },
  {
   "cell_type": "markdown",
   "metadata": {
    "hidden": true
   },
   "source": [
    "## 2.0.2 - Creation of Hypotheses"
   ]
  },
  {
   "cell_type": "markdown",
   "metadata": {
    "hidden": true
   },
   "source": [
    "### 2.0.2.1 - Patients Hypotheses"
   ]
  },
  {
   "cell_type": "markdown",
   "metadata": {
    "hidden": true
   },
   "source": [
    "1 - Homens tem mais doenças cardíacas do que as mulheres?\n",
    "\n",
    "2 - Pacientes com idades mais avançadas tem doenças cardíacas?\n",
    "\n",
    "3 - Pacientes com mais peso tem doenças cardíacas?\n",
    "\n",
    "4 - A altura não influencia no desenvolvimento de doenças cardíacas?"
   ]
  },
  {
   "cell_type": "markdown",
   "metadata": {
    "hidden": true
   },
   "source": [
    "### 2.0.2.2 - Exams Hypotheses"
   ]
  },
  {
   "cell_type": "markdown",
   "metadata": {
    "hidden": true
   },
   "source": [
    "1 - Colesterol alto aumenta o risco de problemas cardíacos?\n",
    "\n",
    "2 - Pressão alta aumenta o risco de doenças cardíacas?\n",
    "\n",
    "3 - Pressão baixa auemta o risco de doenças cardíacas?\n",
    "\n",
    "4 - A taxa de glicose no sangue aumenta o risco de doenças cardíacas?\n",
    "\n",
    "5 - Homens com pressão alta tem mais chances de desenvolver doenças cardíacas do que as mulheres com pressão alta?\n",
    "\n",
    "6 - Mulheres com pressão baixa tem mais chances de desenvolver doenças cardíacas do que os homens com pressão baixa?"
   ]
  },
  {
   "cell_type": "markdown",
   "metadata": {
    "hidden": true
   },
   "source": [
    "### 2.0.2.3 - Habits Hypotheses"
   ]
  },
  {
   "cell_type": "markdown",
   "metadata": {
    "hidden": true
   },
   "source": [
    "1 - Fumantes tem mais doenças cardíacas?\n",
    "\n",
    "2 - Quem pratica atividades físicas não desenvolvem doenças cardíacas?\n",
    "\n",
    "3 - O consumo de bebidas alcoólicas aumenta as chances de doenças cardíacas?\n",
    "\n",
    "4 - Fumantes que praticam atividades físicas desenvolvem doenças cardíacas?"
   ]
  },
  {
   "cell_type": "markdown",
   "metadata": {
    "heading_collapsed": true,
    "hidden": true
   },
   "source": [
    "## 2.0.3 - Feature Engineering"
   ]
  },
  {
   "cell_type": "code",
   "execution_count": 42,
   "metadata": {
    "ExecuteTime": {
     "end_time": "2020-09-25T19:34:39.168052Z",
     "start_time": "2020-09-25T19:34:39.111670Z"
    },
    "hidden": true
   },
   "outputs": [],
   "source": [
    "# Transform age(days) into age(year)\n",
    "df2['age'] = df2.age.apply(lambda x : x // 365)\n",
    "\n",
    "# Transform height(cm) into height(m)\n",
    "df2['height'] = df2.height.apply(lambda x : x / 100)\n",
    "\n",
    "# Removing id column\n",
    "df2 = df2.drop(columns='id')"
   ]
  },
  {
   "cell_type": "code",
   "execution_count": 43,
   "metadata": {
    "ExecuteTime": {
     "end_time": "2020-09-25T19:34:39.184205Z",
     "start_time": "2020-09-25T19:34:39.170687Z"
    },
    "hidden": true
   },
   "outputs": [
    {
     "data": {
      "text/html": [
       "<div>\n",
       "<style scoped>\n",
       "    .dataframe tbody tr th:only-of-type {\n",
       "        vertical-align: middle;\n",
       "    }\n",
       "\n",
       "    .dataframe tbody tr th {\n",
       "        vertical-align: top;\n",
       "    }\n",
       "\n",
       "    .dataframe thead th {\n",
       "        text-align: right;\n",
       "    }\n",
       "</style>\n",
       "<table border=\"1\" class=\"dataframe\">\n",
       "  <thead>\n",
       "    <tr style=\"text-align: right;\">\n",
       "      <th></th>\n",
       "      <th>age</th>\n",
       "      <th>gender</th>\n",
       "      <th>height</th>\n",
       "      <th>weight</th>\n",
       "      <th>ap_hi</th>\n",
       "      <th>ap_lo</th>\n",
       "      <th>cholesterol</th>\n",
       "      <th>gluc</th>\n",
       "      <th>smoke</th>\n",
       "      <th>alco</th>\n",
       "      <th>active</th>\n",
       "      <th>cardio</th>\n",
       "      <th>age_year</th>\n",
       "    </tr>\n",
       "  </thead>\n",
       "  <tbody>\n",
       "    <tr>\n",
       "      <th>0</th>\n",
       "      <td>50</td>\n",
       "      <td>2</td>\n",
       "      <td>1.68</td>\n",
       "      <td>62.0</td>\n",
       "      <td>110</td>\n",
       "      <td>80</td>\n",
       "      <td>1</td>\n",
       "      <td>1</td>\n",
       "      <td>0</td>\n",
       "      <td>0</td>\n",
       "      <td>1</td>\n",
       "      <td>0</td>\n",
       "      <td>50</td>\n",
       "    </tr>\n",
       "    <tr>\n",
       "      <th>1</th>\n",
       "      <td>55</td>\n",
       "      <td>1</td>\n",
       "      <td>1.56</td>\n",
       "      <td>85.0</td>\n",
       "      <td>140</td>\n",
       "      <td>90</td>\n",
       "      <td>3</td>\n",
       "      <td>1</td>\n",
       "      <td>0</td>\n",
       "      <td>0</td>\n",
       "      <td>1</td>\n",
       "      <td>1</td>\n",
       "      <td>55</td>\n",
       "    </tr>\n",
       "    <tr>\n",
       "      <th>2</th>\n",
       "      <td>51</td>\n",
       "      <td>1</td>\n",
       "      <td>1.65</td>\n",
       "      <td>64.0</td>\n",
       "      <td>130</td>\n",
       "      <td>70</td>\n",
       "      <td>3</td>\n",
       "      <td>1</td>\n",
       "      <td>0</td>\n",
       "      <td>0</td>\n",
       "      <td>0</td>\n",
       "      <td>1</td>\n",
       "      <td>51</td>\n",
       "    </tr>\n",
       "    <tr>\n",
       "      <th>3</th>\n",
       "      <td>48</td>\n",
       "      <td>2</td>\n",
       "      <td>1.69</td>\n",
       "      <td>82.0</td>\n",
       "      <td>150</td>\n",
       "      <td>100</td>\n",
       "      <td>1</td>\n",
       "      <td>1</td>\n",
       "      <td>0</td>\n",
       "      <td>0</td>\n",
       "      <td>1</td>\n",
       "      <td>1</td>\n",
       "      <td>48</td>\n",
       "    </tr>\n",
       "    <tr>\n",
       "      <th>4</th>\n",
       "      <td>47</td>\n",
       "      <td>1</td>\n",
       "      <td>1.56</td>\n",
       "      <td>56.0</td>\n",
       "      <td>100</td>\n",
       "      <td>60</td>\n",
       "      <td>1</td>\n",
       "      <td>1</td>\n",
       "      <td>0</td>\n",
       "      <td>0</td>\n",
       "      <td>0</td>\n",
       "      <td>0</td>\n",
       "      <td>47</td>\n",
       "    </tr>\n",
       "  </tbody>\n",
       "</table>\n",
       "</div>"
      ],
      "text/plain": [
       "   age  gender  height  weight  ap_hi  ap_lo  cholesterol  gluc  smoke  alco  \\\n",
       "0   50       2    1.68    62.0    110     80            1     1      0     0   \n",
       "1   55       1    1.56    85.0    140     90            3     1      0     0   \n",
       "2   51       1    1.65    64.0    130     70            3     1      0     0   \n",
       "3   48       2    1.69    82.0    150    100            1     1      0     0   \n",
       "4   47       1    1.56    56.0    100     60            1     1      0     0   \n",
       "\n",
       "   active  cardio  age_year  \n",
       "0       1       0        50  \n",
       "1       1       1        55  \n",
       "2       0       1        51  \n",
       "3       1       1        48  \n",
       "4       0       0        47  "
      ]
     },
     "execution_count": 43,
     "metadata": {},
     "output_type": "execute_result"
    }
   ],
   "source": [
    "df2.head()"
   ]
  },
  {
   "cell_type": "markdown",
   "metadata": {
    "heading_collapsed": true
   },
   "source": [
    "# 3.0 - Feature Filtering"
   ]
  },
  {
   "cell_type": "code",
   "execution_count": 44,
   "metadata": {
    "ExecuteTime": {
     "end_time": "2020-09-25T19:34:39.194728Z",
     "start_time": "2020-09-25T19:34:39.187552Z"
    },
    "hidden": true
   },
   "outputs": [],
   "source": [
    "df3 = df2.copy()"
   ]
  },
  {
   "cell_type": "code",
   "execution_count": 45,
   "metadata": {
    "ExecuteTime": {
     "end_time": "2020-09-25T19:34:39.203137Z",
     "start_time": "2020-09-25T19:34:39.198336Z"
    },
    "hidden": true
   },
   "outputs": [],
   "source": [
    "# For this Project, this process isn't necessary"
   ]
  },
  {
   "cell_type": "code",
   "execution_count": 46,
   "metadata": {
    "ExecuteTime": {
     "end_time": "2020-09-25T19:34:39.218338Z",
     "start_time": "2020-09-25T19:34:39.208726Z"
    },
    "hidden": true
   },
   "outputs": [],
   "source": [
    "# Removing temporary columns age_year\n",
    "df3 = df3.drop(columns='age_year')"
   ]
  },
  {
   "cell_type": "code",
   "execution_count": 47,
   "metadata": {
    "ExecuteTime": {
     "end_time": "2020-09-25T19:34:39.237811Z",
     "start_time": "2020-09-25T19:34:39.221766Z"
    },
    "hidden": true
   },
   "outputs": [
    {
     "data": {
      "text/html": [
       "<div>\n",
       "<style scoped>\n",
       "    .dataframe tbody tr th:only-of-type {\n",
       "        vertical-align: middle;\n",
       "    }\n",
       "\n",
       "    .dataframe tbody tr th {\n",
       "        vertical-align: top;\n",
       "    }\n",
       "\n",
       "    .dataframe thead th {\n",
       "        text-align: right;\n",
       "    }\n",
       "</style>\n",
       "<table border=\"1\" class=\"dataframe\">\n",
       "  <thead>\n",
       "    <tr style=\"text-align: right;\">\n",
       "      <th></th>\n",
       "      <th>age</th>\n",
       "      <th>gender</th>\n",
       "      <th>height</th>\n",
       "      <th>weight</th>\n",
       "      <th>ap_hi</th>\n",
       "      <th>ap_lo</th>\n",
       "      <th>cholesterol</th>\n",
       "      <th>gluc</th>\n",
       "      <th>smoke</th>\n",
       "      <th>alco</th>\n",
       "      <th>active</th>\n",
       "      <th>cardio</th>\n",
       "    </tr>\n",
       "  </thead>\n",
       "  <tbody>\n",
       "    <tr>\n",
       "      <th>0</th>\n",
       "      <td>50</td>\n",
       "      <td>2</td>\n",
       "      <td>1.68</td>\n",
       "      <td>62.0</td>\n",
       "      <td>110</td>\n",
       "      <td>80</td>\n",
       "      <td>1</td>\n",
       "      <td>1</td>\n",
       "      <td>0</td>\n",
       "      <td>0</td>\n",
       "      <td>1</td>\n",
       "      <td>0</td>\n",
       "    </tr>\n",
       "    <tr>\n",
       "      <th>1</th>\n",
       "      <td>55</td>\n",
       "      <td>1</td>\n",
       "      <td>1.56</td>\n",
       "      <td>85.0</td>\n",
       "      <td>140</td>\n",
       "      <td>90</td>\n",
       "      <td>3</td>\n",
       "      <td>1</td>\n",
       "      <td>0</td>\n",
       "      <td>0</td>\n",
       "      <td>1</td>\n",
       "      <td>1</td>\n",
       "    </tr>\n",
       "    <tr>\n",
       "      <th>2</th>\n",
       "      <td>51</td>\n",
       "      <td>1</td>\n",
       "      <td>1.65</td>\n",
       "      <td>64.0</td>\n",
       "      <td>130</td>\n",
       "      <td>70</td>\n",
       "      <td>3</td>\n",
       "      <td>1</td>\n",
       "      <td>0</td>\n",
       "      <td>0</td>\n",
       "      <td>0</td>\n",
       "      <td>1</td>\n",
       "    </tr>\n",
       "    <tr>\n",
       "      <th>3</th>\n",
       "      <td>48</td>\n",
       "      <td>2</td>\n",
       "      <td>1.69</td>\n",
       "      <td>82.0</td>\n",
       "      <td>150</td>\n",
       "      <td>100</td>\n",
       "      <td>1</td>\n",
       "      <td>1</td>\n",
       "      <td>0</td>\n",
       "      <td>0</td>\n",
       "      <td>1</td>\n",
       "      <td>1</td>\n",
       "    </tr>\n",
       "    <tr>\n",
       "      <th>4</th>\n",
       "      <td>47</td>\n",
       "      <td>1</td>\n",
       "      <td>1.56</td>\n",
       "      <td>56.0</td>\n",
       "      <td>100</td>\n",
       "      <td>60</td>\n",
       "      <td>1</td>\n",
       "      <td>1</td>\n",
       "      <td>0</td>\n",
       "      <td>0</td>\n",
       "      <td>0</td>\n",
       "      <td>0</td>\n",
       "    </tr>\n",
       "  </tbody>\n",
       "</table>\n",
       "</div>"
      ],
      "text/plain": [
       "   age  gender  height  weight  ap_hi  ap_lo  cholesterol  gluc  smoke  alco  \\\n",
       "0   50       2    1.68    62.0    110     80            1     1      0     0   \n",
       "1   55       1    1.56    85.0    140     90            3     1      0     0   \n",
       "2   51       1    1.65    64.0    130     70            3     1      0     0   \n",
       "3   48       2    1.69    82.0    150    100            1     1      0     0   \n",
       "4   47       1    1.56    56.0    100     60            1     1      0     0   \n",
       "\n",
       "   active  cardio  \n",
       "0       1       0  \n",
       "1       1       1  \n",
       "2       0       1  \n",
       "3       1       1  \n",
       "4       0       0  "
      ]
     },
     "execution_count": 47,
     "metadata": {},
     "output_type": "execute_result"
    }
   ],
   "source": [
    "df3.head()"
   ]
  },
  {
   "cell_type": "markdown",
   "metadata": {},
   "source": [
    "# 4.0 - Exploratory Data Analysis"
   ]
  },
  {
   "cell_type": "code",
   "execution_count": 48,
   "metadata": {
    "ExecuteTime": {
     "end_time": "2020-09-25T19:34:39.247819Z",
     "start_time": "2020-09-25T19:34:39.240575Z"
    }
   },
   "outputs": [],
   "source": [
    "df4 = df3.copy()"
   ]
  },
  {
   "cell_type": "code",
   "execution_count": 71,
   "metadata": {
    "ExecuteTime": {
     "end_time": "2020-09-25T19:55:04.896831Z",
     "start_time": "2020-09-25T19:55:04.855023Z"
    }
   },
   "outputs": [],
   "source": [
    "# Creating an auxiliary dataframe, changing categorical columns\n",
    "data = df4.copy()\n",
    "gender = {1 : 'Male', 2 : 'Female'}\n",
    "smoke = {0 : 'Sim', 1 : 'Não'}\n",
    "active = {0 : 'Sim', 1 : 'Não'}\n",
    "alco = {0 : 'Sim', 1 : 'Não'}\n",
    "\n",
    "data = data.replace({'gender': gender,\n",
    "                     'smoke': smoke,\n",
    "                     'active': active,\n",
    "                     'alco': alco})"
   ]
  },
  {
   "cell_type": "markdown",
   "metadata": {},
   "source": [
    "## 4.0.1 - Bivariate Analysis"
   ]
  },
  {
   "cell_type": "markdown",
   "metadata": {},
   "source": [
    "### 4.0.1.0 - Validating Hypotheses"
   ]
  },
  {
   "cell_type": "markdown",
   "metadata": {},
   "source": [
    "**Patients Hypotheses**"
   ]
  },
  {
   "cell_type": "markdown",
   "metadata": {},
   "source": [
    "1 - Homens tem mais doenças cardíacas do que as mulheres?\n",
    "\n",
    "**VERDADEIRA:** Homens tem mais doenças cardíacas do que as mulheres."
   ]
  },
  {
   "cell_type": "code",
   "execution_count": 65,
   "metadata": {
    "ExecuteTime": {
     "end_time": "2020-09-25T19:48:56.669983Z",
     "start_time": "2020-09-25T19:48:56.498803Z"
    }
   },
   "outputs": [
    {
     "data": {
      "image/png": "[encoded data removed]",
      "text/plain": [
       "<Figure size 432x288 with 1 Axes>"
      ]
     },
     "metadata": {
      "needs_background": "light"
     },
     "output_type": "display_data"
    }
   ],
   "source": [
    "aux1 = data[['gender', 'cardio']].groupby('gender').sum().reset_index()\n",
    "sb.barplot( x='gender', y='cardio', data=aux1);\n",
    "plt.xlabel('Gênero');\n",
    "plt.ylabel('Volume de Casos de Doenças Cardíacas');"
   ]
  },
  {
   "cell_type": "markdown",
   "metadata": {},
   "source": [
    "2 - Pacientes com idades mais avançadas tem doenças cardíacas?\n",
    "\n",
    "**VERDADEIRA:** Conforme a idade aumenta maiores são as chances de ter doenças cardíacas"
   ]
  },
  {
   "cell_type": "code",
   "execution_count": 91,
   "metadata": {
    "ExecuteTime": {
     "end_time": "2020-09-25T20:36:43.396196Z",
     "start_time": "2020-09-25T20:36:41.519664Z"
    }
   },
   "outputs": [
    {
     "data": {
      "image/png": "[encoded data removed]",
      "text/plain": [
       "<Figure size 432x288 with 1 Axes>"
      ]
     },
     "metadata": {
      "needs_background": "light"
     },
     "output_type": "display_data"
    }
   ],
   "source": [
    "aux2 = data\n",
    "sb.barplot( x='age', y='cardio', data=data);\n",
    "plt.xlabel('Idade');\n",
    "plt.ylabel('Volume de Casos de Doenças Cardíacas');"
   ]
  },
  {
   "cell_type": "markdown",
   "metadata": {},
   "source": [
    "3 - Pacientes com mais peso tem doenças cardíacas?"
   ]
  },
  {
   "cell_type": "code",
   "execution_count": null,
   "metadata": {},
   "outputs": [],
   "source": []
  },
  {
   "cell_type": "markdown",
   "metadata": {},
   "source": [
    "4 - A altura não influencia no desenvolvimento de doenças cardíacas?"
   ]
  },
  {
   "cell_type": "code",
   "execution_count": null,
   "metadata": {},
   "outputs": [],
   "source": []
  },
  {
   "cell_type": "markdown",
   "metadata": {},
   "source": [
    "**Exams Hypotheses**"
   ]
  },
  {
   "cell_type": "markdown",
   "metadata": {},
   "source": [
    "1 - Colesterol alto aumenta o risco de problemas cardíacos?"
   ]
  },
  {
   "cell_type": "code",
   "execution_count": null,
   "metadata": {},
   "outputs": [],
   "source": []
  },
  {
   "cell_type": "markdown",
   "metadata": {},
   "source": [
    "2 - Pressão alta aumenta o risco de doenças cardíacas?"
   ]
  },
  {
   "cell_type": "code",
   "execution_count": null,
   "metadata": {},
   "outputs": [],
   "source": []
  },
  {
   "cell_type": "markdown",
   "metadata": {},
   "source": [
    "3 - Pressão baixa auemta o risco de doenças cardíacas?"
   ]
  },
  {
   "cell_type": "code",
   "execution_count": null,
   "metadata": {},
   "outputs": [],
   "source": []
  },
  {
   "cell_type": "markdown",
   "metadata": {},
   "source": [
    "4 - A taxa de glicose no sangue aumenta o risco de doenças cardíacas?"
   ]
  },
  {
   "cell_type": "code",
   "execution_count": null,
   "metadata": {},
   "outputs": [],
   "source": []
  },
  {
   "cell_type": "markdown",
   "metadata": {},
   "source": [
    "5 - Homens com pressão alta tem mais chances de desenvolver doenças cardíacas do que as mulheres com pressão alta?"
   ]
  },
  {
   "cell_type": "code",
   "execution_count": null,
   "metadata": {},
   "outputs": [],
   "source": []
  },
  {
   "cell_type": "markdown",
   "metadata": {},
   "source": [
    "6 - Mulheres com pressão baixa tem mais chances de desenvolver doenças cardíacas do que os homens com pressão baixa?"
   ]
  },
  {
   "cell_type": "code",
   "execution_count": null,
   "metadata": {},
   "outputs": [],
   "source": []
  },
  {
   "cell_type": "markdown",
   "metadata": {},
   "source": [
    "**Habits Hypotheses**"
   ]
  },
  {
   "cell_type": "markdown",
   "metadata": {},
   "source": [
    "1 - Fumantes tem mais doenças cardíacas?\n",
    "\n",
    "**VERDADEIRA:** Fumantes tem mais doenças cardíacas do que NÃO fumantes."
   ]
  },
  {
   "cell_type": "code",
   "execution_count": 66,
   "metadata": {
    "ExecuteTime": {
     "end_time": "2020-09-25T19:49:06.878230Z",
     "start_time": "2020-09-25T19:49:06.723699Z"
    }
   },
   "outputs": [
    {
     "data": {
      "image/png": "[encoded data removed]",
      "text/plain": [
       "<Figure size 432x288 with 1 Axes>"
      ]
     },
     "metadata": {
      "needs_background": "light"
     },
     "output_type": "display_data"
    }
   ],
   "source": [
    "aux11 = data[['smoke', 'cardio']].groupby('smoke').sum().reset_index()\n",
    "sb.barplot( x='smoke', y='cardio', data=aux11);\n",
    "plt.xlabel('Fumante');\n",
    "plt.ylabel('Volume de Casos de Doenças Cardíacas');"
   ]
  },
  {
   "cell_type": "markdown",
   "metadata": {},
   "source": [
    "2 - Quem pratica atividades físicas não desenvolvem doenças cardíacas?\n",
    "\n",
    "**VERDADEIRA:** Praticante de atividades físicas não desenvolvem doenças cardíacas."
   ]
  },
  {
   "cell_type": "code",
   "execution_count": 69,
   "metadata": {
    "ExecuteTime": {
     "end_time": "2020-09-25T19:53:53.458864Z",
     "start_time": "2020-09-25T19:53:53.305765Z"
    }
   },
   "outputs": [
    {
     "data": {
      "image/png": "[encoded data removed]",
      "text/plain": [
       "<Figure size 432x288 with 1 Axes>"
      ]
     },
     "metadata": {
      "needs_background": "light"
     },
     "output_type": "display_data"
    }
   ],
   "source": [
    "aux12 = data[['active', 'cardio']].groupby('active').sum().reset_index()\n",
    "sb.barplot( x='active', y='cardio', data=aux12);\n",
    "plt.xlabel('Atividade Física');\n",
    "plt.ylabel('Volume de Casos de Doenças Cardíacas');"
   ]
  },
  {
   "cell_type": "markdown",
   "metadata": {},
   "source": [
    "3 - O consumo de bebidas alcoólicas aumenta as chances de doenças cardíacas?\n",
    "\n",
    "**VERDADEIRA:** O consumo de bebidas alcoólicas aumenta as chances de doenças cardíacas."
   ]
  },
  {
   "cell_type": "code",
   "execution_count": 80,
   "metadata": {
    "ExecuteTime": {
     "end_time": "2020-09-25T20:03:36.588038Z",
     "start_time": "2020-09-25T20:03:36.414117Z"
    }
   },
   "outputs": [
    {
     "data": {
      "image/png": "[encoded data removed]",
      "text/plain": [
       "<Figure size 432x288 with 1 Axes>"
      ]
     },
     "metadata": {
      "needs_background": "light"
     },
     "output_type": "display_data"
    }
   ],
   "source": [
    "aux13 = data[['alco', 'cardio']].groupby('alco').sum().reset_index()\n",
    "sb.barplot( x='alco', y='cardio', data=aux13);\n",
    "plt.xlabel('Consumo de Álcool');\n",
    "plt.ylabel('Volume de Casos de Doenças Cardíacas');"
   ]
  },
  {
   "cell_type": "markdown",
   "metadata": {},
   "source": [
    "4 - Fumantes que praticam atividades físicas desenvolvem doenças cardíacas?\n",
    "\n",
    "**FALSO:** De acordo com os dados:\n",
    "\n",
    "    1 - Quem NÃO pratica atividade física E fuma tem mais chances de desenvolver doenças cardíacas do que aquele que NÃO pratica atividade física e NÃO fuma\n",
    "    2 - Quem pratica atividade física e fuma tem menos chances de desenvolver doenças cardíacas do que aquele que pratica atividade física e não fuma"
   ]
  },
  {
   "cell_type": "code",
   "execution_count": 89,
   "metadata": {
    "ExecuteTime": {
     "end_time": "2020-09-25T20:10:40.722711Z",
     "start_time": "2020-09-25T20:10:39.741691Z"
    }
   },
   "outputs": [
    {
     "data": {
      "image/png": "[encoded data removed]",
      "text/plain": [
       "<Figure size 432x288 with 1 Axes>"
      ]
     },
     "metadata": {
      "needs_background": "light"
     },
     "output_type": "display_data"
    }
   ],
   "source": [
    "aux14 = data\n",
    "sb.barplot( x='active', y='cardio', data=data, hue='smoke');\n",
    "plt.xlabel('Atividade Física');\n",
    "plt.ylabel('Volume de Casos de Doenças Cardíacas');"
   ]
  },
  {
   "cell_type": "markdown",
   "metadata": {},
   "source": [
    "5 - Praticantes de atividades físicas que ingerem bebidas alcóolicas tem mais chances de desenvolver doenças cardíacas?\n",
    "\n",
    "**VERDADEIRO:** De acordo com os dados:\n",
    "\n",
    "    1 - Quem ingere bebidas alcoólicas e pratica atividades físicas, tem mais chances de desenvolver doenças cardíacas do que aquele que ingere bebidas alcoólicas e NÃO pratica atividade física.\n",
    "    2 - Quem NÃO ingere bebidas alcoólicas e pratica atividades físicas tem mais chance de desenvolver doenças cardíacas do que aquele que NÃO ingere bebidas alcoólicas e NÃO pratica atividade física"
   ]
  },
  {
   "cell_type": "code",
   "execution_count": 90,
   "metadata": {
    "ExecuteTime": {
     "end_time": "2020-09-25T20:27:22.013541Z",
     "start_time": "2020-09-25T20:27:21.045852Z"
    }
   },
   "outputs": [
    {
     "data": {
      "image/png": "[encoded data removed]",
      "text/plain": [
       "<Figure size 432x288 with 1 Axes>"
      ]
     },
     "metadata": {
      "needs_background": "light"
     },
     "output_type": "display_data"
    }
   ],
   "source": [
    "aux14 = data\n",
    "sb.barplot( x='alco', y='cardio', data=data, hue='active');\n",
    "plt.xlabel('Bebida Alcoólica');\n",
    "plt.ylabel('Volume de Casos de Doenças Cardíacas');"
   ]
  },
  {
   "cell_type": "markdown",
   "metadata": {},
   "source": [
    "## 4.0.2 - Multivariate Analysis"
   ]
  }
 ],
 "metadata": {
  "kernelspec": {
   "display_name": "Python 3",
   "language": "python",
   "name": "python3"
  },
  "language_info": {
   "codemirror_mode": {
    "name": "ipython",
    "version": 3
   },
   "file_extension": ".py",
   "mimetype": "text/x-python",
   "name": "python",
   "nbconvert_exporter": "python",
   "pygments_lexer": "ipython3",
   "version": "3.8.5"
  }
 },
 "nbformat": 4,
 "nbformat_minor": 4
}
