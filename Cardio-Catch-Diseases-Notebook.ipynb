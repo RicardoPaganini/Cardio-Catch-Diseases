{
 "cells": [
  {
   "cell_type": "markdown",
   "metadata": {
    "heading_collapsed": true
   },
   "source": [
    "# 1.0 - IMPORTING AND LOADING"
   ]
  },
  {
   "cell_type": "markdown",
   "metadata": {
    "heading_collapsed": true,
    "hidden": true
   },
   "source": [
    "## 1.0.1 - Importing packages and modules for project"
   ]
  },
  {
   "cell_type": "code",
   "execution_count": 1,
   "metadata": {
    "ExecuteTime": {
     "end_time": "2020-10-01T17:01:13.130585Z",
     "start_time": "2020-10-01T17:01:12.189129Z"
    },
    "hidden": true
   },
   "outputs": [],
   "source": [
    "import pandas as pd\n",
    "import numpy as np\n",
    "import seaborn as sb\n",
    "from matplotlib import pyplot as plt\n",
    "%matplotlib inline\n",
    "import warnings\n",
    "warnings.filterwarnings(action='ignore')\n",
    "from PIL import Image\n",
    "#from statistics import mode"
   ]
  },
  {
   "cell_type": "markdown",
   "metadata": {
    "heading_collapsed": true,
    "hidden": true
   },
   "source": [
    "## 1.0.2 - Loading Dataframe"
   ]
  },
  {
   "cell_type": "code",
   "execution_count": 2,
   "metadata": {
    "ExecuteTime": {
     "end_time": "2020-10-01T17:01:13.205142Z",
     "start_time": "2020-10-01T17:01:13.133559Z"
    },
    "hidden": true
   },
   "outputs": [],
   "source": [
    "df1 = pd.read_csv('cardio_train.csv', delimiter=';')"
   ]
  },
  {
   "cell_type": "markdown",
   "metadata": {
    "ExecuteTime": {
     "end_time": "2020-09-28T11:37:18.727986Z",
     "start_time": "2020-09-28T11:37:18.723424Z"
    },
    "heading_collapsed": true
   },
   "source": [
    "# 2.0 - DATA DESCRIPTION"
   ]
  },
  {
   "cell_type": "code",
   "execution_count": 3,
   "metadata": {
    "ExecuteTime": {
     "end_time": "2020-10-01T17:01:13.226573Z",
     "start_time": "2020-10-01T17:01:13.217811Z"
    },
    "hidden": true
   },
   "outputs": [],
   "source": [
    "df2 = df1.copy()"
   ]
  },
  {
   "cell_type": "markdown",
   "metadata": {
    "heading_collapsed": true,
    "hidden": true
   },
   "source": [
    "## 2.0.1 - Descriptive Statistics - Knowing the Data"
   ]
  },
  {
   "cell_type": "markdown",
   "metadata": {
    "heading_collapsed": true,
    "hidden": true
   },
   "source": [
    "### 2.0.1.1 - General Description"
   ]
  },
  {
   "cell_type": "code",
   "execution_count": 4,
   "metadata": {
    "ExecuteTime": {
     "end_time": "2020-10-01T17:01:13.250805Z",
     "start_time": "2020-10-01T17:01:13.229359Z"
    },
    "hidden": true
   },
   "outputs": [
    {
     "data": {
      "text/html": [
       "<div>\n",
       "<style scoped>\n",
       "    .dataframe tbody tr th:only-of-type {\n",
       "        vertical-align: middle;\n",
       "    }\n",
       "\n",
       "    .dataframe tbody tr th {\n",
       "        vertical-align: top;\n",
       "    }\n",
       "\n",
       "    .dataframe thead th {\n",
       "        text-align: right;\n",
       "    }\n",
       "</style>\n",
       "<table border=\"1\" class=\"dataframe\">\n",
       "  <thead>\n",
       "    <tr style=\"text-align: right;\">\n",
       "      <th></th>\n",
       "      <th>id</th>\n",
       "      <th>age</th>\n",
       "      <th>gender</th>\n",
       "      <th>height</th>\n",
       "      <th>weight</th>\n",
       "      <th>ap_hi</th>\n",
       "      <th>ap_lo</th>\n",
       "      <th>cholesterol</th>\n",
       "      <th>gluc</th>\n",
       "      <th>smoke</th>\n",
       "      <th>alco</th>\n",
       "      <th>active</th>\n",
       "      <th>cardio</th>\n",
       "    </tr>\n",
       "  </thead>\n",
       "  <tbody>\n",
       "    <tr>\n",
       "      <th>0</th>\n",
       "      <td>0</td>\n",
       "      <td>18393</td>\n",
       "      <td>2</td>\n",
       "      <td>168</td>\n",
       "      <td>62.0</td>\n",
       "      <td>110</td>\n",
       "      <td>80</td>\n",
       "      <td>1</td>\n",
       "      <td>1</td>\n",
       "      <td>0</td>\n",
       "      <td>0</td>\n",
       "      <td>1</td>\n",
       "      <td>0</td>\n",
       "    </tr>\n",
       "    <tr>\n",
       "      <th>1</th>\n",
       "      <td>1</td>\n",
       "      <td>20228</td>\n",
       "      <td>1</td>\n",
       "      <td>156</td>\n",
       "      <td>85.0</td>\n",
       "      <td>140</td>\n",
       "      <td>90</td>\n",
       "      <td>3</td>\n",
       "      <td>1</td>\n",
       "      <td>0</td>\n",
       "      <td>0</td>\n",
       "      <td>1</td>\n",
       "      <td>1</td>\n",
       "    </tr>\n",
       "    <tr>\n",
       "      <th>2</th>\n",
       "      <td>2</td>\n",
       "      <td>18857</td>\n",
       "      <td>1</td>\n",
       "      <td>165</td>\n",
       "      <td>64.0</td>\n",
       "      <td>130</td>\n",
       "      <td>70</td>\n",
       "      <td>3</td>\n",
       "      <td>1</td>\n",
       "      <td>0</td>\n",
       "      <td>0</td>\n",
       "      <td>0</td>\n",
       "      <td>1</td>\n",
       "    </tr>\n",
       "    <tr>\n",
       "      <th>3</th>\n",
       "      <td>3</td>\n",
       "      <td>17623</td>\n",
       "      <td>2</td>\n",
       "      <td>169</td>\n",
       "      <td>82.0</td>\n",
       "      <td>150</td>\n",
       "      <td>100</td>\n",
       "      <td>1</td>\n",
       "      <td>1</td>\n",
       "      <td>0</td>\n",
       "      <td>0</td>\n",
       "      <td>1</td>\n",
       "      <td>1</td>\n",
       "    </tr>\n",
       "    <tr>\n",
       "      <th>4</th>\n",
       "      <td>4</td>\n",
       "      <td>17474</td>\n",
       "      <td>1</td>\n",
       "      <td>156</td>\n",
       "      <td>56.0</td>\n",
       "      <td>100</td>\n",
       "      <td>60</td>\n",
       "      <td>1</td>\n",
       "      <td>1</td>\n",
       "      <td>0</td>\n",
       "      <td>0</td>\n",
       "      <td>0</td>\n",
       "      <td>0</td>\n",
       "    </tr>\n",
       "  </tbody>\n",
       "</table>\n",
       "</div>"
      ],
      "text/plain": [
       "   id    age  gender  height  weight  ap_hi  ap_lo  cholesterol  gluc  smoke  \\\n",
       "0   0  18393       2     168    62.0    110     80            1     1      0   \n",
       "1   1  20228       1     156    85.0    140     90            3     1      0   \n",
       "2   2  18857       1     165    64.0    130     70            3     1      0   \n",
       "3   3  17623       2     169    82.0    150    100            1     1      0   \n",
       "4   4  17474       1     156    56.0    100     60            1     1      0   \n",
       "\n",
       "   alco  active  cardio  \n",
       "0     0       1       0  \n",
       "1     0       1       1  \n",
       "2     0       0       1  \n",
       "3     0       1       1  \n",
       "4     0       0       0  "
      ]
     },
     "execution_count": 4,
     "metadata": {},
     "output_type": "execute_result"
    }
   ],
   "source": [
    "df2.head()"
   ]
  },
  {
   "cell_type": "code",
   "execution_count": 5,
   "metadata": {
    "ExecuteTime": {
     "end_time": "2020-10-01T17:01:13.273155Z",
     "start_time": "2020-10-01T17:01:13.254038Z"
    },
    "hidden": true
   },
   "outputs": [
    {
     "name": "stdout",
     "output_type": "stream",
     "text": [
      "<class 'pandas.core.frame.DataFrame'>\n",
      "RangeIndex: 70000 entries, 0 to 69999\n",
      "Data columns (total 13 columns):\n",
      " #   Column       Non-Null Count  Dtype  \n",
      "---  ------       --------------  -----  \n",
      " 0   id           70000 non-null  int64  \n",
      " 1   age          70000 non-null  int64  \n",
      " 2   gender       70000 non-null  int64  \n",
      " 3   height       70000 non-null  int64  \n",
      " 4   weight       70000 non-null  float64\n",
      " 5   ap_hi        70000 non-null  int64  \n",
      " 6   ap_lo        70000 non-null  int64  \n",
      " 7   cholesterol  70000 non-null  int64  \n",
      " 8   gluc         70000 non-null  int64  \n",
      " 9   smoke        70000 non-null  int64  \n",
      " 10  alco         70000 non-null  int64  \n",
      " 11  active       70000 non-null  int64  \n",
      " 12  cardio       70000 non-null  int64  \n",
      "dtypes: float64(1), int64(12)\n",
      "memory usage: 6.9 MB\n"
     ]
    }
   ],
   "source": [
    "df2.info()"
   ]
  },
  {
   "cell_type": "markdown",
   "metadata": {
    "ExecuteTime": {
     "end_time": "2020-09-28T11:56:55.367392Z",
     "start_time": "2020-09-28T11:56:55.362229Z"
    },
    "heading_collapsed": true,
    "hidden": true
   },
   "source": [
    "### 2.0.1.2 - Numerical Features Description"
   ]
  },
  {
   "cell_type": "code",
   "execution_count": 6,
   "metadata": {
    "ExecuteTime": {
     "end_time": "2020-10-01T17:01:13.308579Z",
     "start_time": "2020-10-01T17:01:13.275755Z"
    },
    "hidden": true
   },
   "outputs": [],
   "source": [
    "basic_describe = df1[['height', 'weight', 'ap_hi', 'ap_lo']].describe().T "
   ]
  },
  {
   "cell_type": "code",
   "execution_count": 7,
   "metadata": {
    "ExecuteTime": {
     "end_time": "2020-10-01T17:01:13.361783Z",
     "start_time": "2020-10-01T17:01:13.317019Z"
    },
    "hidden": true
   },
   "outputs": [],
   "source": [
    "aditional_describe = {'Skew': df1[['height','weight','ap_lo','ap_hi']].skew(),\n",
    "                      'Kurtosis': df1[['height','weight','ap_lo','ap_hi']].kurtosis(),\n",
    "                      'Amplitude/Range': df1[['height','weight','ap_lo','ap_hi']].apply(lambda x : x.max() - x.min()),\n",
    "                      'Median': df1[['height','weight','ap_lo','ap_hi']].median()}\n",
    "\n",
    "mode = df1[['height','weight','ap_lo','ap_hi']].mode().T\n",
    "mode = mode.rename(columns={0:'Mode'})\n",
    "\n",
    "aditional_describe_table = pd.DataFrame(aditional_describe, columns=['Skew','Kurtosis','Amplitude/Range','Median'])\n",
    "\n",
    "describe_table = aditional_describe_table.merge(mode,left_index=True, right_index=True)\n",
    "describe_table = describe_table.merge(basic_describe, left_index=True, right_index=True)"
   ]
  },
  {
   "cell_type": "code",
   "execution_count": 8,
   "metadata": {
    "ExecuteTime": {
     "end_time": "2020-10-01T17:01:13.383944Z",
     "start_time": "2020-10-01T17:01:13.365909Z"
    },
    "hidden": true
   },
   "outputs": [
    {
     "data": {
      "text/html": [
       "<div>\n",
       "<style scoped>\n",
       "    .dataframe tbody tr th:only-of-type {\n",
       "        vertical-align: middle;\n",
       "    }\n",
       "\n",
       "    .dataframe tbody tr th {\n",
       "        vertical-align: top;\n",
       "    }\n",
       "\n",
       "    .dataframe thead th {\n",
       "        text-align: right;\n",
       "    }\n",
       "</style>\n",
       "<table border=\"1\" class=\"dataframe\">\n",
       "  <thead>\n",
       "    <tr style=\"text-align: right;\">\n",
       "      <th></th>\n",
       "      <th>Skew</th>\n",
       "      <th>Kurtosis</th>\n",
       "      <th>Amplitude/Range</th>\n",
       "      <th>Median</th>\n",
       "      <th>Mode</th>\n",
       "      <th>count</th>\n",
       "      <th>mean</th>\n",
       "      <th>std</th>\n",
       "      <th>min</th>\n",
       "      <th>25%</th>\n",
       "      <th>50%</th>\n",
       "      <th>75%</th>\n",
       "      <th>max</th>\n",
       "    </tr>\n",
       "  </thead>\n",
       "  <tbody>\n",
       "    <tr>\n",
       "      <th>height</th>\n",
       "      <td>-0.642187</td>\n",
       "      <td>7.943653</td>\n",
       "      <td>195.0</td>\n",
       "      <td>165.0</td>\n",
       "      <td>165.0</td>\n",
       "      <td>70000.0</td>\n",
       "      <td>164.359229</td>\n",
       "      <td>8.210126</td>\n",
       "      <td>55.0</td>\n",
       "      <td>159.0</td>\n",
       "      <td>165.0</td>\n",
       "      <td>170.0</td>\n",
       "      <td>250.0</td>\n",
       "    </tr>\n",
       "    <tr>\n",
       "      <th>weight</th>\n",
       "      <td>1.012070</td>\n",
       "      <td>2.586825</td>\n",
       "      <td>190.0</td>\n",
       "      <td>72.0</td>\n",
       "      <td>65.0</td>\n",
       "      <td>70000.0</td>\n",
       "      <td>74.205690</td>\n",
       "      <td>14.395757</td>\n",
       "      <td>10.0</td>\n",
       "      <td>65.0</td>\n",
       "      <td>72.0</td>\n",
       "      <td>82.0</td>\n",
       "      <td>200.0</td>\n",
       "    </tr>\n",
       "    <tr>\n",
       "      <th>ap_lo</th>\n",
       "      <td>32.114083</td>\n",
       "      <td>1425.914585</td>\n",
       "      <td>11070.0</td>\n",
       "      <td>80.0</td>\n",
       "      <td>80.0</td>\n",
       "      <td>70000.0</td>\n",
       "      <td>96.630414</td>\n",
       "      <td>188.472530</td>\n",
       "      <td>-70.0</td>\n",
       "      <td>80.0</td>\n",
       "      <td>80.0</td>\n",
       "      <td>90.0</td>\n",
       "      <td>11000.0</td>\n",
       "    </tr>\n",
       "    <tr>\n",
       "      <th>ap_hi</th>\n",
       "      <td>85.296214</td>\n",
       "      <td>7580.074738</td>\n",
       "      <td>16170.0</td>\n",
       "      <td>120.0</td>\n",
       "      <td>120.0</td>\n",
       "      <td>70000.0</td>\n",
       "      <td>128.817286</td>\n",
       "      <td>154.011419</td>\n",
       "      <td>-150.0</td>\n",
       "      <td>120.0</td>\n",
       "      <td>120.0</td>\n",
       "      <td>140.0</td>\n",
       "      <td>16020.0</td>\n",
       "    </tr>\n",
       "  </tbody>\n",
       "</table>\n",
       "</div>"
      ],
      "text/plain": [
       "             Skew     Kurtosis  Amplitude/Range  Median   Mode    count  \\\n",
       "height  -0.642187     7.943653            195.0   165.0  165.0  70000.0   \n",
       "weight   1.012070     2.586825            190.0    72.0   65.0  70000.0   \n",
       "ap_lo   32.114083  1425.914585          11070.0    80.0   80.0  70000.0   \n",
       "ap_hi   85.296214  7580.074738          16170.0   120.0  120.0  70000.0   \n",
       "\n",
       "              mean         std    min    25%    50%    75%      max  \n",
       "height  164.359229    8.210126   55.0  159.0  165.0  170.0    250.0  \n",
       "weight   74.205690   14.395757   10.0   65.0   72.0   82.0    200.0  \n",
       "ap_lo    96.630414  188.472530  -70.0   80.0   80.0   90.0  11000.0  \n",
       "ap_hi   128.817286  154.011419 -150.0  120.0  120.0  140.0  16020.0  "
      ]
     },
     "execution_count": 8,
     "metadata": {},
     "output_type": "execute_result"
    }
   ],
   "source": [
    "describe_table"
   ]
  },
  {
   "cell_type": "markdown",
   "metadata": {
    "hidden": true
   },
   "source": [
    "**Descriptive Statistical Plots**"
   ]
  },
  {
   "cell_type": "markdown",
   "metadata": {
    "hidden": true
   },
   "source": [
    "HISTOGRAMS (Skewness, Kurtosis)"
   ]
  },
  {
   "cell_type": "code",
   "execution_count": 9,
   "metadata": {
    "ExecuteTime": {
     "end_time": "2020-10-01T17:01:15.139064Z",
     "start_time": "2020-10-01T17:01:13.388415Z"
    },
    "hidden": true
   },
   "outputs": [
    {
     "data": {
      "image/png": "[encoded data removed]",
      "text/plain": [
       "<Figure size 1080x576 with 4 Axes>"
      ]
     },
     "metadata": {
      "needs_background": "light"
     },
     "output_type": "display_data"
    }
   ],
   "source": [
    "plt.rcParams['figure.figsize'] = (15,8)\n",
    "\n",
    "plt.subplot(2,2,1)\n",
    "sb.distplot(df2.weight)\n",
    "\n",
    "plt.subplot(2,2,2)\n",
    "sb.distplot(df2.height)\n",
    "\n",
    "plt.subplot(2,2,3)\n",
    "sb.distplot(df2.ap_lo)\n",
    "\n",
    "plt.subplot(2,2,4)\n",
    "sb.distplot(df2.ap_hi)\n",
    "\n",
    "plt.show()"
   ]
  },
  {
   "cell_type": "markdown",
   "metadata": {
    "hidden": true
   },
   "source": [
    "BOXPLOTS (Outliers)"
   ]
  },
  {
   "cell_type": "code",
   "execution_count": 10,
   "metadata": {
    "ExecuteTime": {
     "end_time": "2020-10-01T17:01:15.583416Z",
     "start_time": "2020-10-01T17:01:15.143028Z"
    },
    "hidden": true
   },
   "outputs": [
    {
     "data": {
      "image/png": "[encoded data removed]",
      "text/plain": [
       "<Figure size 1080x576 with 4 Axes>"
      ]
     },
     "metadata": {
      "needs_background": "light"
     },
     "output_type": "display_data"
    }
   ],
   "source": [
    "plt.rcParams['figure.figsize'] = (15,8)\n",
    "\n",
    "plt.subplot(2,2,1)\n",
    "sb.boxplot(df2.weight)\n",
    "\n",
    "plt.subplot(2,2,2)\n",
    "sb.boxplot(df2.height)\n",
    "\n",
    "plt.subplot(2,2,3)\n",
    "sb.boxplot(df2.ap_lo)\n",
    "\n",
    "plt.subplot(2,2,4)\n",
    "sb.boxplot(df2.ap_hi)\n",
    "\n",
    "plt.show()"
   ]
  },
  {
   "cell_type": "markdown",
   "metadata": {
    "hidden": true
   },
   "source": [
    "**Resume of numerical features analysis:**"
   ]
  },
  {
   "cell_type": "markdown",
   "metadata": {
    "hidden": true
   },
   "source": [
    "1 - Note that the mode, average and median measures are very close to their values, this indicates that the variables are close to a normal distribution. **We probably won't need to normalize these variables.**\n",
    "\n",
    "2 - There is a problem with the features ap_lo and ap_hi when observing kurtose, skewness, amplitude, min and max values, and std, as they are values that are very out of normal. **This can indicate bad values in these variables.**\n",
    "\n",
    "3 - In the weight and height features, abnormal kurtosis and skewness measurements are also observed. **It can also indicate bad values.**\n",
    "\n",
    "4 - In all variables a **high volume of Outliers** was observed. Depending on the model to be used, we may have problems."
   ]
  },
  {
   "cell_type": "markdown",
   "metadata": {
    "heading_collapsed": true,
    "hidden": true
   },
   "source": [
    "### 2.0.1.3 - Categorical Features Description"
   ]
  },
  {
   "cell_type": "markdown",
   "metadata": {
    "hidden": true
   },
   "source": [
    "**Table Frequency**"
   ]
  },
  {
   "cell_type": "markdown",
   "metadata": {
    "hidden": true
   },
   "source": [
    "**- age feature**"
   ]
  },
  {
   "cell_type": "code",
   "execution_count": 11,
   "metadata": {
    "ExecuteTime": {
     "end_time": "2020-10-01T17:01:15.635836Z",
     "start_time": "2020-10-01T17:01:15.586687Z"
    },
    "hidden": true
   },
   "outputs": [
    {
     "data": {
      "text/html": [
       "<div>\n",
       "<style scoped>\n",
       "    .dataframe tbody tr th:only-of-type {\n",
       "        vertical-align: middle;\n",
       "    }\n",
       "\n",
       "    .dataframe tbody tr th {\n",
       "        vertical-align: top;\n",
       "    }\n",
       "\n",
       "    .dataframe thead th {\n",
       "        text-align: right;\n",
       "    }\n",
       "</style>\n",
       "<table border=\"1\" class=\"dataframe\">\n",
       "  <thead>\n",
       "    <tr style=\"text-align: right;\">\n",
       "      <th></th>\n",
       "      <th>Age</th>\n",
       "      <th>Frequency</th>\n",
       "      <th>Relative_Frequency</th>\n",
       "    </tr>\n",
       "  </thead>\n",
       "  <tbody>\n",
       "    <tr>\n",
       "      <th>55</th>\n",
       "      <td>50</td>\n",
       "      <td>3927</td>\n",
       "      <td>5.61</td>\n",
       "    </tr>\n",
       "    <tr>\n",
       "      <th>53</th>\n",
       "      <td>55</td>\n",
       "      <td>3868</td>\n",
       "      <td>5.53</td>\n",
       "    </tr>\n",
       "    <tr>\n",
       "      <th>57</th>\n",
       "      <td>51</td>\n",
       "      <td>3686</td>\n",
       "      <td>5.27</td>\n",
       "    </tr>\n",
       "    <tr>\n",
       "      <th>56</th>\n",
       "      <td>48</td>\n",
       "      <td>3607</td>\n",
       "      <td>5.15</td>\n",
       "    </tr>\n",
       "    <tr>\n",
       "      <th>54</th>\n",
       "      <td>47</td>\n",
       "      <td>3605</td>\n",
       "      <td>5.15</td>\n",
       "    </tr>\n",
       "    <tr>\n",
       "      <th>59</th>\n",
       "      <td>60</td>\n",
       "      <td>3576</td>\n",
       "      <td>5.11</td>\n",
       "    </tr>\n",
       "    <tr>\n",
       "      <th>49</th>\n",
       "      <td>61</td>\n",
       "      <td>3417</td>\n",
       "      <td>4.88</td>\n",
       "    </tr>\n",
       "    <tr>\n",
       "      <th>58</th>\n",
       "      <td>54</td>\n",
       "      <td>3409</td>\n",
       "      <td>4.87</td>\n",
       "    </tr>\n",
       "    <tr>\n",
       "      <th>51</th>\n",
       "      <td>40</td>\n",
       "      <td>3368</td>\n",
       "      <td>4.81</td>\n",
       "    </tr>\n",
       "    <tr>\n",
       "      <th>52</th>\n",
       "      <td>39</td>\n",
       "      <td>3279</td>\n",
       "      <td>4.68</td>\n",
       "    </tr>\n",
       "    <tr>\n",
       "      <th>50</th>\n",
       "      <td>45</td>\n",
       "      <td>3216</td>\n",
       "      <td>4.59</td>\n",
       "    </tr>\n",
       "    <tr>\n",
       "      <th>60</th>\n",
       "      <td>58</td>\n",
       "      <td>3200</td>\n",
       "      <td>4.57</td>\n",
       "    </tr>\n",
       "    <tr>\n",
       "      <th>63</th>\n",
       "      <td>59</td>\n",
       "      <td>2736</td>\n",
       "      <td>3.91</td>\n",
       "    </tr>\n",
       "    <tr>\n",
       "      <th>61</th>\n",
       "      <td>63</td>\n",
       "      <td>2728</td>\n",
       "      <td>3.90</td>\n",
       "    </tr>\n",
       "    <tr>\n",
       "      <th>62</th>\n",
       "      <td>64</td>\n",
       "      <td>2199</td>\n",
       "      <td>3.14</td>\n",
       "    </tr>\n",
       "    <tr>\n",
       "      <th>47</th>\n",
       "      <td>53</td>\n",
       "      <td>2197</td>\n",
       "      <td>3.14</td>\n",
       "    </tr>\n",
       "    <tr>\n",
       "      <th>64</th>\n",
       "      <td>49</td>\n",
       "      <td>2187</td>\n",
       "      <td>3.12</td>\n",
       "    </tr>\n",
       "    <tr>\n",
       "      <th>45</th>\n",
       "      <td>57</td>\n",
       "      <td>2087</td>\n",
       "      <td>2.98</td>\n",
       "    </tr>\n",
       "    <tr>\n",
       "      <th>43</th>\n",
       "      <td>56</td>\n",
       "      <td>2031</td>\n",
       "      <td>2.90</td>\n",
       "    </tr>\n",
       "    <tr>\n",
       "      <th>41</th>\n",
       "      <td>46</td>\n",
       "      <td>1903</td>\n",
       "      <td>2.72</td>\n",
       "    </tr>\n",
       "    <tr>\n",
       "      <th>48</th>\n",
       "      <td>43</td>\n",
       "      <td>1811</td>\n",
       "      <td>2.59</td>\n",
       "    </tr>\n",
       "    <tr>\n",
       "      <th>39</th>\n",
       "      <td>62</td>\n",
       "      <td>1780</td>\n",
       "      <td>2.54</td>\n",
       "    </tr>\n",
       "    <tr>\n",
       "      <th>46</th>\n",
       "      <td>52</td>\n",
       "      <td>1625</td>\n",
       "      <td>2.32</td>\n",
       "    </tr>\n",
       "    <tr>\n",
       "      <th>40</th>\n",
       "      <td>42</td>\n",
       "      <td>1622</td>\n",
       "      <td>2.32</td>\n",
       "    </tr>\n",
       "    <tr>\n",
       "      <th>44</th>\n",
       "      <td>44</td>\n",
       "      <td>1514</td>\n",
       "      <td>2.16</td>\n",
       "    </tr>\n",
       "    <tr>\n",
       "      <th>42</th>\n",
       "      <td>41</td>\n",
       "      <td>1418</td>\n",
       "      <td>2.03</td>\n",
       "    </tr>\n",
       "    <tr>\n",
       "      <th>29</th>\n",
       "      <td>29</td>\n",
       "      <td>3</td>\n",
       "      <td>0.00</td>\n",
       "    </tr>\n",
       "    <tr>\n",
       "      <th>30</th>\n",
       "      <td>30</td>\n",
       "      <td>1</td>\n",
       "      <td>0.00</td>\n",
       "    </tr>\n",
       "  </tbody>\n",
       "</table>\n",
       "</div>"
      ],
      "text/plain": [
       "    Age  Frequency  Relative_Frequency\n",
       "55   50       3927                5.61\n",
       "53   55       3868                5.53\n",
       "57   51       3686                5.27\n",
       "56   48       3607                5.15\n",
       "54   47       3605                5.15\n",
       "59   60       3576                5.11\n",
       "49   61       3417                4.88\n",
       "58   54       3409                4.87\n",
       "51   40       3368                4.81\n",
       "52   39       3279                4.68\n",
       "50   45       3216                4.59\n",
       "60   58       3200                4.57\n",
       "63   59       2736                3.91\n",
       "61   63       2728                3.90\n",
       "62   64       2199                3.14\n",
       "47   53       2197                3.14\n",
       "64   49       2187                3.12\n",
       "45   57       2087                2.98\n",
       "43   56       2031                2.90\n",
       "41   46       1903                2.72\n",
       "48   43       1811                2.59\n",
       "39   62       1780                2.54\n",
       "46   52       1625                2.32\n",
       "40   42       1622                2.32\n",
       "44   44       1514                2.16\n",
       "42   41       1418                2.03\n",
       "29   29          3                0.00\n",
       "30   30          1                0.00"
      ]
     },
     "execution_count": 11,
     "metadata": {},
     "output_type": "execute_result"
    }
   ],
   "source": [
    "df2['age_year'] = df2['age'].apply(lambda x : x // 365)\n",
    "\n",
    "age = {'Age': df2['age_year'].unique(),\n",
    "       'Frequency': df2['age_year'].value_counts(),\n",
    "       'Relative_Frequency': round(df2['age_year'].value_counts() / df2['age_year'].value_counts().sum() * 100,2),}\n",
    "\n",
    "\n",
    "age_frequency_table = pd.DataFrame(age, columns=['Age','Frequency','Relative_Frequency'])\n",
    "\n",
    "age_frequency_table"
   ]
  },
  {
   "cell_type": "code",
   "execution_count": 12,
   "metadata": {
    "ExecuteTime": {
     "end_time": "2020-10-01T17:01:16.118744Z",
     "start_time": "2020-10-01T17:01:15.638919Z"
    },
    "hidden": true
   },
   "outputs": [
    {
     "data": {
      "image/png": "[encoded data removed]",
      "text/plain": [
       "<Figure size 432x432 with 1 Axes>"
      ]
     },
     "metadata": {
      "needs_background": "light"
     },
     "output_type": "display_data"
    }
   ],
   "source": [
    "g = sb.catplot(\n",
    "    data=df2, kind=\"bar\",\n",
    "    x=df2.age_year.unique(), y=df2.age_year.value_counts(), palette=\"PuBu\", alpha=.6, height=6);\n",
    "g.despine(left=True);\n",
    "g.set_axis_labels('Age', \"Frequency\");"
   ]
  },
  {
   "cell_type": "markdown",
   "metadata": {
    "hidden": true
   },
   "source": [
    "**- gender feature** (1 = Women . 2 = Men)"
   ]
  },
  {
   "cell_type": "code",
   "execution_count": 13,
   "metadata": {
    "ExecuteTime": {
     "end_time": "2020-10-01T17:01:16.144787Z",
     "start_time": "2020-10-01T17:01:16.121491Z"
    },
    "hidden": true
   },
   "outputs": [
    {
     "data": {
      "text/html": [
       "<div>\n",
       "<style scoped>\n",
       "    .dataframe tbody tr th:only-of-type {\n",
       "        vertical-align: middle;\n",
       "    }\n",
       "\n",
       "    .dataframe tbody tr th {\n",
       "        vertical-align: top;\n",
       "    }\n",
       "\n",
       "    .dataframe thead th {\n",
       "        text-align: right;\n",
       "    }\n",
       "</style>\n",
       "<table border=\"1\" class=\"dataframe\">\n",
       "  <thead>\n",
       "    <tr style=\"text-align: right;\">\n",
       "      <th></th>\n",
       "      <th>Gender</th>\n",
       "      <th>Frequency</th>\n",
       "      <th>Relative_Frequency</th>\n",
       "    </tr>\n",
       "  </thead>\n",
       "  <tbody>\n",
       "    <tr>\n",
       "      <th>1</th>\n",
       "      <td>2</td>\n",
       "      <td>45530</td>\n",
       "      <td>65.04</td>\n",
       "    </tr>\n",
       "    <tr>\n",
       "      <th>2</th>\n",
       "      <td>1</td>\n",
       "      <td>24470</td>\n",
       "      <td>34.96</td>\n",
       "    </tr>\n",
       "  </tbody>\n",
       "</table>\n",
       "</div>"
      ],
      "text/plain": [
       "   Gender  Frequency  Relative_Frequency\n",
       "1       2      45530               65.04\n",
       "2       1      24470               34.96"
      ]
     },
     "execution_count": 13,
     "metadata": {},
     "output_type": "execute_result"
    }
   ],
   "source": [
    "gender = {'Gender': df2['gender'].unique(),\n",
    "          'Frequency': df2['gender'].value_counts(),\n",
    "          'Relative_Frequency': round(df2['gender'].value_counts() / df2['gender'].value_counts().sum() * 100,2),}\n",
    "\n",
    "\n",
    "gender_frequency_table = pd.DataFrame(gender, columns=['Gender','Frequency','Relative_Frequency'])\n",
    "\n",
    "gender_frequency_table"
   ]
  },
  {
   "cell_type": "code",
   "execution_count": 14,
   "metadata": {
    "ExecuteTime": {
     "end_time": "2020-10-01T17:01:16.335895Z",
     "start_time": "2020-10-01T17:01:16.150615Z"
    },
    "hidden": true
   },
   "outputs": [
    {
     "data": {
      "image/png": "[encoded data removed]",
      "text/plain": [
       "<Figure size 432x432 with 1 Axes>"
      ]
     },
     "metadata": {
      "needs_background": "light"
     },
     "output_type": "display_data"
    }
   ],
   "source": [
    "g = sb.catplot(data=df2, kind='bar', x=df2.gender.unique(), y=df2.gender.value_counts(), palette=\"PuBu\", \n",
    "               alpha=.6, height=6);\n",
    "g.despine(left=True);\n",
    "g.set_axis_labels('Gender','Frequency');"
   ]
  },
  {
   "cell_type": "markdown",
   "metadata": {
    "ExecuteTime": {
     "end_time": "2020-09-28T16:41:07.087633Z",
     "start_time": "2020-09-28T16:41:07.080599Z"
    },
    "hidden": true
   },
   "source": [
    "**- cholesterol feature** (1 = normal, 2 = above normal, 3 = well above normal)"
   ]
  },
  {
   "cell_type": "code",
   "execution_count": 15,
   "metadata": {
    "ExecuteTime": {
     "end_time": "2020-10-01T17:01:16.358467Z",
     "start_time": "2020-10-01T17:01:16.338236Z"
    },
    "hidden": true
   },
   "outputs": [
    {
     "data": {
      "text/html": [
       "<div>\n",
       "<style scoped>\n",
       "    .dataframe tbody tr th:only-of-type {\n",
       "        vertical-align: middle;\n",
       "    }\n",
       "\n",
       "    .dataframe tbody tr th {\n",
       "        vertical-align: top;\n",
       "    }\n",
       "\n",
       "    .dataframe thead th {\n",
       "        text-align: right;\n",
       "    }\n",
       "</style>\n",
       "<table border=\"1\" class=\"dataframe\">\n",
       "  <thead>\n",
       "    <tr style=\"text-align: right;\">\n",
       "      <th></th>\n",
       "      <th>Cholesterol</th>\n",
       "      <th>Frequency</th>\n",
       "      <th>Relative_Frequency</th>\n",
       "    </tr>\n",
       "  </thead>\n",
       "  <tbody>\n",
       "    <tr>\n",
       "      <th>1</th>\n",
       "      <td>1</td>\n",
       "      <td>52385</td>\n",
       "      <td>74.84</td>\n",
       "    </tr>\n",
       "    <tr>\n",
       "      <th>2</th>\n",
       "      <td>3</td>\n",
       "      <td>9549</td>\n",
       "      <td>13.64</td>\n",
       "    </tr>\n",
       "    <tr>\n",
       "      <th>3</th>\n",
       "      <td>2</td>\n",
       "      <td>8066</td>\n",
       "      <td>11.52</td>\n",
       "    </tr>\n",
       "  </tbody>\n",
       "</table>\n",
       "</div>"
      ],
      "text/plain": [
       "   Cholesterol  Frequency  Relative_Frequency\n",
       "1            1      52385               74.84\n",
       "2            3       9549               13.64\n",
       "3            2       8066               11.52"
      ]
     },
     "execution_count": 15,
     "metadata": {},
     "output_type": "execute_result"
    }
   ],
   "source": [
    "cholesterol = {'Cholesterol': df2['cholesterol'].unique(),\n",
    "               'Frequency': df2['cholesterol'].value_counts(),\n",
    "               'Relative_Frequency': round(df2['cholesterol'].value_counts() / df2['cholesterol'].value_counts().sum() * 100,2),}\n",
    "\n",
    "\n",
    "cholesterol_frequency_table = pd.DataFrame(cholesterol, columns=['Cholesterol','Frequency','Relative_Frequency'])\n",
    "\n",
    "cholesterol_frequency_table"
   ]
  },
  {
   "cell_type": "code",
   "execution_count": 16,
   "metadata": {
    "ExecuteTime": {
     "end_time": "2020-10-01T17:01:16.642366Z",
     "start_time": "2020-10-01T17:01:16.367290Z"
    },
    "hidden": true
   },
   "outputs": [
    {
     "data": {
      "image/png": "[encoded data removed]",
      "text/plain": [
       "<Figure size 432x432 with 1 Axes>"
      ]
     },
     "metadata": {
      "needs_background": "light"
     },
     "output_type": "display_data"
    }
   ],
   "source": [
    "g = sb.catplot(data=df2, kind='bar', x=df2.cholesterol.unique(), y=df2.cholesterol.value_counts(), palette=\"PuBu\", \n",
    "               alpha=.6, height=6);\n",
    "g.despine(left=True);\n",
    "g.set_axis_labels('Cholesterol','Frequency');"
   ]
  },
  {
   "cell_type": "markdown",
   "metadata": {
    "hidden": true
   },
   "source": [
    "**- gluc feature** (1 = normal, 2 = above normal, 3 = well above normal)"
   ]
  },
  {
   "cell_type": "code",
   "execution_count": 17,
   "metadata": {
    "ExecuteTime": {
     "end_time": "2020-10-01T17:01:16.665217Z",
     "start_time": "2020-10-01T17:01:16.644930Z"
    },
    "hidden": true
   },
   "outputs": [
    {
     "data": {
      "text/html": [
       "<div>\n",
       "<style scoped>\n",
       "    .dataframe tbody tr th:only-of-type {\n",
       "        vertical-align: middle;\n",
       "    }\n",
       "\n",
       "    .dataframe tbody tr th {\n",
       "        vertical-align: top;\n",
       "    }\n",
       "\n",
       "    .dataframe thead th {\n",
       "        text-align: right;\n",
       "    }\n",
       "</style>\n",
       "<table border=\"1\" class=\"dataframe\">\n",
       "  <thead>\n",
       "    <tr style=\"text-align: right;\">\n",
       "      <th></th>\n",
       "      <th>Glucose</th>\n",
       "      <th>Frequency</th>\n",
       "      <th>Relative_Frequency</th>\n",
       "    </tr>\n",
       "  </thead>\n",
       "  <tbody>\n",
       "    <tr>\n",
       "      <th>1</th>\n",
       "      <td>1</td>\n",
       "      <td>59479</td>\n",
       "      <td>84.97</td>\n",
       "    </tr>\n",
       "    <tr>\n",
       "      <th>3</th>\n",
       "      <td>2</td>\n",
       "      <td>5331</td>\n",
       "      <td>7.62</td>\n",
       "    </tr>\n",
       "    <tr>\n",
       "      <th>2</th>\n",
       "      <td>3</td>\n",
       "      <td>5190</td>\n",
       "      <td>7.41</td>\n",
       "    </tr>\n",
       "  </tbody>\n",
       "</table>\n",
       "</div>"
      ],
      "text/plain": [
       "   Glucose  Frequency  Relative_Frequency\n",
       "1        1      59479               84.97\n",
       "3        2       5331                7.62\n",
       "2        3       5190                7.41"
      ]
     },
     "execution_count": 17,
     "metadata": {},
     "output_type": "execute_result"
    }
   ],
   "source": [
    "gluc = {'Glucose': df2['gluc'].unique(),\n",
    "               'Frequency': df2['gluc'].value_counts(),\n",
    "               'Relative_Frequency': round(df2['gluc'].value_counts() / df2['gluc'].value_counts().sum() * 100,2),}\n",
    "\n",
    "\n",
    "gluc_frequency_table = pd.DataFrame(gluc, columns=['Glucose','Frequency','Relative_Frequency'])\n",
    "\n",
    "gluc_frequency_table"
   ]
  },
  {
   "cell_type": "code",
   "execution_count": 18,
   "metadata": {
    "ExecuteTime": {
     "end_time": "2020-10-01T17:01:16.875733Z",
     "start_time": "2020-10-01T17:01:16.668542Z"
    },
    "hidden": true
   },
   "outputs": [
    {
     "data": {
      "image/png": "[encoded data removed]",
      "text/plain": [
       "<Figure size 432x432 with 1 Axes>"
      ]
     },
     "metadata": {
      "needs_background": "light"
     },
     "output_type": "display_data"
    }
   ],
   "source": [
    "g = sb.catplot(data=df2, kind='bar', x=df2.gluc.unique(), y=df2.gluc.value_counts(), palette=\"PuBu\", \n",
    "               alpha=.6, height=6);\n",
    "g.despine(left=True);\n",
    "g.set_axis_labels('Glucose','Frequency');"
   ]
  },
  {
   "cell_type": "markdown",
   "metadata": {
    "hidden": true
   },
   "source": [
    "**- smoke feature** (0 = no smoke, 1 = smoke)"
   ]
  },
  {
   "cell_type": "code",
   "execution_count": 19,
   "metadata": {
    "ExecuteTime": {
     "end_time": "2020-10-01T17:01:16.897787Z",
     "start_time": "2020-10-01T17:01:16.878810Z"
    },
    "hidden": true
   },
   "outputs": [
    {
     "data": {
      "text/html": [
       "<div>\n",
       "<style scoped>\n",
       "    .dataframe tbody tr th:only-of-type {\n",
       "        vertical-align: middle;\n",
       "    }\n",
       "\n",
       "    .dataframe tbody tr th {\n",
       "        vertical-align: top;\n",
       "    }\n",
       "\n",
       "    .dataframe thead th {\n",
       "        text-align: right;\n",
       "    }\n",
       "</style>\n",
       "<table border=\"1\" class=\"dataframe\">\n",
       "  <thead>\n",
       "    <tr style=\"text-align: right;\">\n",
       "      <th></th>\n",
       "      <th>Smoke</th>\n",
       "      <th>Frequency</th>\n",
       "      <th>Relative_Frequency</th>\n",
       "    </tr>\n",
       "  </thead>\n",
       "  <tbody>\n",
       "    <tr>\n",
       "      <th>0</th>\n",
       "      <td>0</td>\n",
       "      <td>63831</td>\n",
       "      <td>91.19</td>\n",
       "    </tr>\n",
       "    <tr>\n",
       "      <th>1</th>\n",
       "      <td>1</td>\n",
       "      <td>6169</td>\n",
       "      <td>8.81</td>\n",
       "    </tr>\n",
       "  </tbody>\n",
       "</table>\n",
       "</div>"
      ],
      "text/plain": [
       "   Smoke  Frequency  Relative_Frequency\n",
       "0      0      63831               91.19\n",
       "1      1       6169                8.81"
      ]
     },
     "execution_count": 19,
     "metadata": {},
     "output_type": "execute_result"
    }
   ],
   "source": [
    "smoke = {'Smoke': df2['smoke'].unique(),\n",
    "               'Frequency': df2['smoke'].value_counts(),\n",
    "               'Relative_Frequency': round(df2['smoke'].value_counts() / df2['smoke'].value_counts().sum() * 100,2),}\n",
    "\n",
    "\n",
    "smoke_frequency_table = pd.DataFrame(smoke, columns=['Smoke','Frequency','Relative_Frequency'])\n",
    "\n",
    "smoke_frequency_table"
   ]
  },
  {
   "cell_type": "code",
   "execution_count": 20,
   "metadata": {
    "ExecuteTime": {
     "end_time": "2020-10-01T17:01:17.098763Z",
     "start_time": "2020-10-01T17:01:16.901185Z"
    },
    "hidden": true
   },
   "outputs": [
    {
     "data": {
      "image/png": "[encoded data removed]",
      "text/plain": [
       "<Figure size 432x432 with 1 Axes>"
      ]
     },
     "metadata": {
      "needs_background": "light"
     },
     "output_type": "display_data"
    }
   ],
   "source": [
    "g = sb.catplot(data=df2, kind='bar', x=df2.smoke.unique(), y=df2.smoke.value_counts(), palette=\"PuBu\", \n",
    "               alpha=.6, height=6);\n",
    "g.despine(left=True);\n",
    "g.set_axis_labels('Smoke','Frequency');"
   ]
  },
  {
   "cell_type": "markdown",
   "metadata": {
    "hidden": true
   },
   "source": [
    "**- alco feature** (0 = no alcohol, 1 = alcohol)"
   ]
  },
  {
   "cell_type": "code",
   "execution_count": 21,
   "metadata": {
    "ExecuteTime": {
     "end_time": "2020-10-01T17:01:17.120542Z",
     "start_time": "2020-10-01T17:01:17.101215Z"
    },
    "hidden": true
   },
   "outputs": [
    {
     "data": {
      "text/html": [
       "<div>\n",
       "<style scoped>\n",
       "    .dataframe tbody tr th:only-of-type {\n",
       "        vertical-align: middle;\n",
       "    }\n",
       "\n",
       "    .dataframe tbody tr th {\n",
       "        vertical-align: top;\n",
       "    }\n",
       "\n",
       "    .dataframe thead th {\n",
       "        text-align: right;\n",
       "    }\n",
       "</style>\n",
       "<table border=\"1\" class=\"dataframe\">\n",
       "  <thead>\n",
       "    <tr style=\"text-align: right;\">\n",
       "      <th></th>\n",
       "      <th>Alcohol</th>\n",
       "      <th>Frequency</th>\n",
       "      <th>Relative_Frequency</th>\n",
       "    </tr>\n",
       "  </thead>\n",
       "  <tbody>\n",
       "    <tr>\n",
       "      <th>0</th>\n",
       "      <td>0</td>\n",
       "      <td>66236</td>\n",
       "      <td>94.62</td>\n",
       "    </tr>\n",
       "    <tr>\n",
       "      <th>1</th>\n",
       "      <td>1</td>\n",
       "      <td>3764</td>\n",
       "      <td>5.38</td>\n",
       "    </tr>\n",
       "  </tbody>\n",
       "</table>\n",
       "</div>"
      ],
      "text/plain": [
       "   Alcohol  Frequency  Relative_Frequency\n",
       "0        0      66236               94.62\n",
       "1        1       3764                5.38"
      ]
     },
     "execution_count": 21,
     "metadata": {},
     "output_type": "execute_result"
    }
   ],
   "source": [
    "alco = {'Alcohol': df2['alco'].unique(),\n",
    "               'Frequency': df2['alco'].value_counts(),\n",
    "               'Relative_Frequency': round(df2['alco'].value_counts() / df2['alco'].value_counts().sum() * 100,2),}\n",
    "\n",
    "\n",
    "alco_frequency_table = pd.DataFrame(alco, columns=['Alcohol','Frequency','Relative_Frequency'])\n",
    "\n",
    "alco_frequency_table"
   ]
  },
  {
   "cell_type": "code",
   "execution_count": 22,
   "metadata": {
    "ExecuteTime": {
     "end_time": "2020-10-01T17:01:17.330491Z",
     "start_time": "2020-10-01T17:01:17.132298Z"
    },
    "hidden": true
   },
   "outputs": [
    {
     "data": {
      "image/png": "[encoded data removed]",
      "text/plain": [
       "<Figure size 432x432 with 1 Axes>"
      ]
     },
     "metadata": {
      "needs_background": "light"
     },
     "output_type": "display_data"
    }
   ],
   "source": [
    "g = sb.catplot(data=df2, kind='bar', x=df2.alco.unique(), y=df2.alco.value_counts(), palette=\"PuBu\", \n",
    "               alpha=.6, height=6);\n",
    "g.despine(left=True);\n",
    "g.set_axis_labels('Alcohol','Frequency');"
   ]
  },
  {
   "cell_type": "markdown",
   "metadata": {
    "ExecuteTime": {
     "end_time": "2020-09-28T17:16:06.155100Z",
     "start_time": "2020-09-28T17:16:06.148826Z"
    },
    "hidden": true
   },
   "source": [
    "**- active feature** (0 = no active, 1 = active)"
   ]
  },
  {
   "cell_type": "code",
   "execution_count": 23,
   "metadata": {
    "ExecuteTime": {
     "end_time": "2020-10-01T17:01:17.353846Z",
     "start_time": "2020-10-01T17:01:17.336988Z"
    },
    "hidden": true
   },
   "outputs": [
    {
     "data": {
      "text/html": [
       "<div>\n",
       "<style scoped>\n",
       "    .dataframe tbody tr th:only-of-type {\n",
       "        vertical-align: middle;\n",
       "    }\n",
       "\n",
       "    .dataframe tbody tr th {\n",
       "        vertical-align: top;\n",
       "    }\n",
       "\n",
       "    .dataframe thead th {\n",
       "        text-align: right;\n",
       "    }\n",
       "</style>\n",
       "<table border=\"1\" class=\"dataframe\">\n",
       "  <thead>\n",
       "    <tr style=\"text-align: right;\">\n",
       "      <th></th>\n",
       "      <th>Active</th>\n",
       "      <th>Frequency</th>\n",
       "      <th>Relative_Frequency</th>\n",
       "    </tr>\n",
       "  </thead>\n",
       "  <tbody>\n",
       "    <tr>\n",
       "      <th>1</th>\n",
       "      <td>1</td>\n",
       "      <td>56261</td>\n",
       "      <td>80.37</td>\n",
       "    </tr>\n",
       "    <tr>\n",
       "      <th>0</th>\n",
       "      <td>0</td>\n",
       "      <td>13739</td>\n",
       "      <td>19.63</td>\n",
       "    </tr>\n",
       "  </tbody>\n",
       "</table>\n",
       "</div>"
      ],
      "text/plain": [
       "   Active  Frequency  Relative_Frequency\n",
       "1       1      56261               80.37\n",
       "0       0      13739               19.63"
      ]
     },
     "execution_count": 23,
     "metadata": {},
     "output_type": "execute_result"
    }
   ],
   "source": [
    "active = {'Active': df2['active'].unique(),\n",
    "               'Frequency': df2['active'].value_counts(),\n",
    "               'Relative_Frequency': round(df2['active'].value_counts() / df2['active'].value_counts().sum() * 100,2),}\n",
    "\n",
    "\n",
    "active_frequency_table = pd.DataFrame(active, columns=['Active','Frequency','Relative_Frequency'])\n",
    "\n",
    "active_frequency_table"
   ]
  },
  {
   "cell_type": "code",
   "execution_count": 24,
   "metadata": {
    "ExecuteTime": {
     "end_time": "2020-10-01T17:01:17.552111Z",
     "start_time": "2020-10-01T17:01:17.359749Z"
    },
    "hidden": true
   },
   "outputs": [
    {
     "data": {
      "image/png": "[encoded data removed]",
      "text/plain": [
       "<Figure size 432x432 with 1 Axes>"
      ]
     },
     "metadata": {
      "needs_background": "light"
     },
     "output_type": "display_data"
    }
   ],
   "source": [
    "g = sb.catplot(data=df2, kind='bar', x=df2.active.unique(), y=df2.active.value_counts(), palette=\"PuBu\", \n",
    "               alpha=.6, height=6);\n",
    "g.despine(left=True);\n",
    "g.set_axis_labels('Active','Frequency');"
   ]
  },
  {
   "cell_type": "markdown",
   "metadata": {
    "hidden": true
   },
   "source": [
    "**- cardio feature** (0 = no diesease, 1 = diesease)"
   ]
  },
  {
   "cell_type": "code",
   "execution_count": 25,
   "metadata": {
    "ExecuteTime": {
     "end_time": "2020-10-01T17:01:17.574181Z",
     "start_time": "2020-10-01T17:01:17.555113Z"
    },
    "hidden": true
   },
   "outputs": [
    {
     "data": {
      "text/html": [
       "<div>\n",
       "<style scoped>\n",
       "    .dataframe tbody tr th:only-of-type {\n",
       "        vertical-align: middle;\n",
       "    }\n",
       "\n",
       "    .dataframe tbody tr th {\n",
       "        vertical-align: top;\n",
       "    }\n",
       "\n",
       "    .dataframe thead th {\n",
       "        text-align: right;\n",
       "    }\n",
       "</style>\n",
       "<table border=\"1\" class=\"dataframe\">\n",
       "  <thead>\n",
       "    <tr style=\"text-align: right;\">\n",
       "      <th></th>\n",
       "      <th>Cardio</th>\n",
       "      <th>Frequency</th>\n",
       "      <th>Relative_Frequency</th>\n",
       "    </tr>\n",
       "  </thead>\n",
       "  <tbody>\n",
       "    <tr>\n",
       "      <th>0</th>\n",
       "      <td>0</td>\n",
       "      <td>35021</td>\n",
       "      <td>50.03</td>\n",
       "    </tr>\n",
       "    <tr>\n",
       "      <th>1</th>\n",
       "      <td>1</td>\n",
       "      <td>34979</td>\n",
       "      <td>49.97</td>\n",
       "    </tr>\n",
       "  </tbody>\n",
       "</table>\n",
       "</div>"
      ],
      "text/plain": [
       "   Cardio  Frequency  Relative_Frequency\n",
       "0       0      35021               50.03\n",
       "1       1      34979               49.97"
      ]
     },
     "execution_count": 25,
     "metadata": {},
     "output_type": "execute_result"
    }
   ],
   "source": [
    "cardio = {'Cardio': df2['cardio'].unique(),\n",
    "               'Frequency': df2['cardio'].value_counts(),\n",
    "               'Relative_Frequency': round(df2['cardio'].value_counts() / df2['cardio'].value_counts().sum() * 100,2),}\n",
    "\n",
    "\n",
    "cardio_frequency_table = pd.DataFrame(cardio, columns=['Cardio','Frequency','Relative_Frequency'])\n",
    "\n",
    "cardio_frequency_table"
   ]
  },
  {
   "cell_type": "code",
   "execution_count": 26,
   "metadata": {
    "ExecuteTime": {
     "end_time": "2020-10-01T17:01:17.787631Z",
     "start_time": "2020-10-01T17:01:17.578150Z"
    },
    "hidden": true
   },
   "outputs": [
    {
     "data": {
      "image/png": "[encoded data removed]",
      "text/plain": [
       "<Figure size 432x432 with 1 Axes>"
      ]
     },
     "metadata": {
      "needs_background": "light"
     },
     "output_type": "display_data"
    }
   ],
   "source": [
    "g = sb.catplot(data=df2, kind='bar', x=df2.cardio.unique(), y=df2.cardio.value_counts(), palette=\"PuBu\", \n",
    "               alpha=.6, height=6);\n",
    "g.despine(left=True);\n",
    "g.set_axis_labels('Cardio','Frequency');"
   ]
  },
  {
   "cell_type": "markdown",
   "metadata": {
    "hidden": true
   },
   "source": [
    "**Resume of categorical features analysis:**"
   ]
  },
  {
   "cell_type": "markdown",
   "metadata": {
    "ExecuteTime": {
     "end_time": "2020-09-28T16:05:08.870792Z",
     "start_time": "2020-09-28T16:05:08.861417Z"
    },
    "hidden": true
   },
   "source": [
    "1 - **cardio** feature:\n",
    "    - This is the TARGET feature. It's not need to be balanced with SMOTE or NearMiss techniques.\n",
    "\n",
    "2 -  **active, alco, smoke, gender** features:\n",
    "    - All are subjective features, there is no predefined label classes.\n",
    "    - I am assuming the values: 0 = no active, 1 = active\n",
    "                                0 = no alcohol, 1 = alcohol\n",
    "                                0 = no smoke, 1 = smoke\n",
    "                                1 = Women . 2 = Men\n",
    "    \n",
    "3 - **gluco,cholesterol** features:\n",
    "    - Based on laboratory medical examinations.\n",
    "    - According to [Kaggle](https://www.kaggle.com/sulianova/cardiovascular-disease-dataset), the classes were defined as: 1 =  normal, 2 = above normal, 3 = well above normal\n",
    "\n",
    "4 - **gender** feature:\n",
    "    - There is no predefined label classes.\n",
    "    - I am assuming the values: \n",
    "\n",
    "5 - **age** feature:\n",
    "    - Describes ages in days. \n",
    "    - Must be changed for years"
   ]
  },
  {
   "cell_type": "markdown",
   "metadata": {
    "heading_collapsed": true,
    "hidden": true
   },
   "source": [
    "## 2.0.2 - Hypothesis Mind Map"
   ]
  },
  {
   "cell_type": "code",
   "execution_count": 27,
   "metadata": {
    "ExecuteTime": {
     "end_time": "2020-10-01T17:01:18.164129Z",
     "start_time": "2020-10-01T17:01:17.790661Z"
    },
    "hidden": true
   },
   "outputs": [
    {
     "data": {
      "image/png": "[encoded data removed]",
      "text/plain": [
       "<PIL.PngImagePlugin.PngImageFile image mode=RGBA size=2712x884 at 0x122B44BE0>"
      ]
     },
     "execution_count": 27,
     "metadata": {},
     "output_type": "execute_result"
    }
   ],
   "source": [
    "image = Image.open('mindmap.png')\n",
    "image"
   ]
  },
  {
   "cell_type": "markdown",
   "metadata": {
    "heading_collapsed": true,
    "hidden": true
   },
   "source": [
    "## 2.0.3 - Creation of Hypotheses"
   ]
  },
  {
   "cell_type": "markdown",
   "metadata": {
    "ExecuteTime": {
     "end_time": "2020-09-30T11:12:57.202611Z",
     "start_time": "2020-09-30T11:12:57.198773Z"
    },
    "heading_collapsed": true,
    "hidden": true
   },
   "source": [
    "#### 2.0.1.5.1 - Patients Hypotheses"
   ]
  },
  {
   "cell_type": "markdown",
   "metadata": {
    "hidden": true
   },
   "source": [
    "1 - Do men have more heart disease than women?\n",
    "\n",
    "2 - Do older patients have heart disease?\n",
    "\n",
    "3 - Do patients with more weight have heart disease?\n",
    "\n",
    "4 - Does height not influence the development of heart disease?"
   ]
  },
  {
   "cell_type": "markdown",
   "metadata": {
    "heading_collapsed": true,
    "hidden": true
   },
   "source": [
    "#### 2.0.1.5.2 - Exams Hypotheses"
   ]
  },
  {
   "cell_type": "markdown",
   "metadata": {
    "hidden": true
   },
   "source": [
    "1 - Does high cholesterol increase the risk of heart problems?\n",
    "\n",
    "2 - Does high blood pressure increase the risk of heart disease?\n",
    "\n",
    "3 - Low blood pressure at high risk of heart disease?\n",
    "\n",
    "4 - Does the rate of glucose in the blood increase the risk of heart disease?\n",
    "\n",
    "5 - Are men with high blood pressure more likely to develop heart disease than women with high blood pressure?\n",
    "\n",
    "6 - Are women with low blood pressure more likely to develop heart disease than men with low blood pressure?"
   ]
  },
  {
   "cell_type": "markdown",
   "metadata": {
    "heading_collapsed": true,
    "hidden": true
   },
   "source": [
    "#### 2.0.1.5.3 - Habits Hypotheses"
   ]
  },
  {
   "cell_type": "markdown",
   "metadata": {
    "hidden": true
   },
   "source": [
    "1 - Smokers have more heart disease?\n",
    "\n",
    "2 - Who practices physical activities do not develop heart disease?\n",
    "\n",
    "3 - Does drinking alcohol increase the chances of heart disease?\n",
    "\n",
    "4 - Do smokers who practice physical activities develop heart disease?"
   ]
  },
  {
   "cell_type": "markdown",
   "metadata": {},
   "source": [
    "# 3.0 - FEATURE ENGINEER"
   ]
  },
  {
   "cell_type": "code",
   "execution_count": 28,
   "metadata": {
    "ExecuteTime": {
     "end_time": "2020-10-01T17:01:18.172425Z",
     "start_time": "2020-10-01T17:01:18.166779Z"
    }
   },
   "outputs": [],
   "source": [
    "df3 = df2.copy()"
   ]
  },
  {
   "cell_type": "markdown",
   "metadata": {},
   "source": [
    "## 3.0.1 - Data Transformation"
   ]
  },
  {
   "cell_type": "markdown",
   "metadata": {},
   "source": [
    "**- Removing id column**"
   ]
  },
  {
   "cell_type": "code",
   "execution_count": 29,
   "metadata": {
    "ExecuteTime": {
     "end_time": "2020-10-01T17:01:18.183688Z",
     "start_time": "2020-10-01T17:01:18.175435Z"
    }
   },
   "outputs": [],
   "source": [
    "df3 = df3.drop(columns='id')"
   ]
  },
  {
   "cell_type": "markdown",
   "metadata": {},
   "source": [
    "**- Changing age (in days) column to age (in year) column**"
   ]
  },
  {
   "cell_type": "code",
   "execution_count": 30,
   "metadata": {
    "ExecuteTime": {
     "end_time": "2020-10-01T17:01:18.222330Z",
     "start_time": "2020-10-01T17:01:18.187314Z"
    }
   },
   "outputs": [],
   "source": [
    "df3['age'] = df3['age'].apply(lambda x : x // 365)"
   ]
  },
  {
   "cell_type": "markdown",
   "metadata": {},
   "source": [
    "**- Changing dtype of height feature to float64**"
   ]
  },
  {
   "cell_type": "code",
   "execution_count": 31,
   "metadata": {
    "ExecuteTime": {
     "end_time": "2020-10-01T17:01:18.235690Z",
     "start_time": "2020-10-01T17:01:18.227561Z"
    }
   },
   "outputs": [],
   "source": [
    "df3['height'] = df3.height.astype('float64') "
   ]
  },
  {
   "cell_type": "markdown",
   "metadata": {},
   "source": [
    "**- Removing age_year column**"
   ]
  },
  {
   "cell_type": "code",
   "execution_count": 32,
   "metadata": {
    "ExecuteTime": {
     "end_time": "2020-10-01T17:01:18.246639Z",
     "start_time": "2020-10-01T17:01:18.238202Z"
    }
   },
   "outputs": [],
   "source": [
    "df3 = df3.drop(columns='age_year')"
   ]
  },
  {
   "cell_type": "markdown",
   "metadata": {},
   "source": [
    "***- Removing Outliers***"
   ]
  },
  {
   "cell_type": "markdown",
   "metadata": {},
   "source": [
    " - weight feature"
   ]
  },
  {
   "cell_type": "code",
   "execution_count": 33,
   "metadata": {
    "ExecuteTime": {
     "end_time": "2020-10-01T17:01:18.267584Z",
     "start_time": "2020-10-01T17:01:18.250231Z"
    }
   },
   "outputs": [
    {
     "data": {
      "text/plain": [
       "(39.5, 107.5)"
      ]
     },
     "execution_count": 33,
     "metadata": {},
     "output_type": "execute_result"
    }
   ],
   "source": [
    "Q1_weight = df3.weight.quantile(.25)\n",
    "Q3_weight = df3.weight.quantile(.75) \n",
    "\n",
    "IQR_weight = Q3_weight - Q1_weight\n",
    "\n",
    "lower_limit_weight = Q1_weight - 1.5 * IQR_weight\n",
    "upper_limit_weight = Q3_weight + 1.5 * IQR_weight\n",
    "\n",
    "lower_limit_weight , upper_limit_weight"
   ]
  },
  {
   "cell_type": "code",
   "execution_count": 34,
   "metadata": {
    "ExecuteTime": {
     "end_time": "2020-10-01T17:01:18.282096Z",
     "start_time": "2020-10-01T17:01:18.270722Z"
    }
   },
   "outputs": [
    {
     "data": {
      "text/plain": [
       "15       112.0\n",
       "62       115.0\n",
       "83       110.0\n",
       "196      108.0\n",
       "267      115.0\n",
       "         ...  \n",
       "69873    108.0\n",
       "69946    115.0\n",
       "69947    113.0\n",
       "69981    110.0\n",
       "69996    126.0\n",
       "Name: weight, Length: 1819, dtype: float64"
      ]
     },
     "execution_count": 34,
     "metadata": {},
     "output_type": "execute_result"
    }
   ],
   "source": [
    "df3.weight[(df3.weight < lower_limit_weight) | (df3.weight > upper_limit_weight)] "
   ]
  },
  {
   "cell_type": "code",
   "execution_count": 35,
   "metadata": {
    "ExecuteTime": {
     "end_time": "2020-10-01T17:01:18.297496Z",
     "start_time": "2020-10-01T17:01:18.285273Z"
    }
   },
   "outputs": [],
   "source": [
    "df3 = df3[(df3.weight > lower_limit_weight) & (df3.weight < upper_limit_weight)]"
   ]
  },
  {
   "cell_type": "markdown",
   "metadata": {},
   "source": [
    " - height feature"
   ]
  },
  {
   "cell_type": "code",
   "execution_count": 36,
   "metadata": {
    "ExecuteTime": {
     "end_time": "2020-10-01T17:01:18.335926Z",
     "start_time": "2020-10-01T17:01:18.300686Z"
    }
   },
   "outputs": [],
   "source": [
    "Q1_height = df3.height.quantile(.25)\n",
    "Q3_height = df3.height.quantile(.75) \n",
    "\n",
    "IQR_height = Q3_height - Q1_height\n",
    "\n",
    "lower_limit_height = Q1_height - 1.5 * IQR_height\n",
    "upper_limit_height = Q3_height + 1.5 * IQR_height\n",
    "\n",
    "df3.height[(df3.height < lower_limit_height) | (df3.height > upper_limit_height)]\n",
    "\n",
    "df3 = df3[(df3.height > lower_limit_height) & (df3.height < upper_limit_height)]"
   ]
  },
  {
   "cell_type": "markdown",
   "metadata": {},
   "source": [
    " - ap_lo feature"
   ]
  },
  {
   "cell_type": "code",
   "execution_count": 37,
   "metadata": {
    "ExecuteTime": {
     "end_time": "2020-10-01T17:01:18.366371Z",
     "start_time": "2020-10-01T17:01:18.344571Z"
    }
   },
   "outputs": [],
   "source": [
    "Q1_ap_lo = df3.ap_lo.quantile(.25)\n",
    "Q3_ap_lo = df3.ap_lo.quantile(.75) \n",
    "\n",
    "IQR_ap_lo = Q3_ap_lo - Q1_ap_lo\n",
    "\n",
    "lower_limit_ap_lo = Q1_ap_lo - 1.5 * IQR_ap_lo\n",
    "upper_limit_ap_lo = Q3_ap_lo + 1.5 * IQR_ap_lo\n",
    "\n",
    "df3.ap_lo[(df3.ap_lo < lower_limit_ap_lo) | (df3.ap_lo > upper_limit_ap_lo)]\n",
    "\n",
    "df3 = df3[(df3.ap_lo > lower_limit_ap_lo) & (df3.ap_lo < upper_limit_ap_lo)]"
   ]
  },
  {
   "cell_type": "markdown",
   "metadata": {},
   "source": [
    " - ap_hi feature"
   ]
  },
  {
   "cell_type": "code",
   "execution_count": 38,
   "metadata": {
    "ExecuteTime": {
     "end_time": "2020-10-01T17:01:18.387321Z",
     "start_time": "2020-10-01T17:01:18.370000Z"
    }
   },
   "outputs": [],
   "source": [
    "Q1_ap_hi = df3.ap_hi.quantile(.25)\n",
    "Q3_ap_hi = df3.ap_hi.quantile(.75) \n",
    "\n",
    "IQR_ap_hi = Q3_ap_hi - Q1_ap_hi\n",
    "\n",
    "lower_limit_ap_hi = Q1_ap_hi - 1.5 * IQR_ap_hi\n",
    "upper_limit_ap_hi = Q3_ap_hi + 1.5 * IQR_ap_hi\n",
    "\n",
    "df3.ap_hi[(df3.ap_hi < lower_limit_ap_hi) | (df3.ap_hi > upper_limit_ap_hi)]\n",
    "\n",
    "df3 = df3[(df3.ap_hi > lower_limit_ap_hi) & (df3.ap_hi < upper_limit_ap_hi)]"
   ]
  },
  {
   "cell_type": "code",
   "execution_count": 39,
   "metadata": {
    "ExecuteTime": {
     "end_time": "2020-10-01T17:01:18.830210Z",
     "start_time": "2020-10-01T17:01:18.390406Z"
    }
   },
   "outputs": [
    {
     "data": {
      "image/png": "[encoded data removed]",
      "text/plain": [
       "<Figure size 1080x576 with 4 Axes>"
      ]
     },
     "metadata": {
      "needs_background": "light"
     },
     "output_type": "display_data"
    }
   ],
   "source": [
    "plt.rcParams['figure.figsize'] = (15,8)\n",
    "\n",
    "plt.subplot(2,2,1)\n",
    "sb.boxplot(df3.weight)\n",
    "\n",
    "plt.subplot(2,2,2)\n",
    "sb.boxplot(df3.height)\n",
    "\n",
    "plt.subplot(2,2,3)\n",
    "sb.boxplot(df3.ap_lo)\n",
    "\n",
    "plt.subplot(2,2,4)\n",
    "sb.boxplot(df3.ap_hi)\n",
    "\n",
    "plt.show()"
   ]
  },
  {
   "cell_type": "markdown",
   "metadata": {},
   "source": [
    "Let's try again with the weight variable"
   ]
  },
  {
   "cell_type": "code",
   "execution_count": 40,
   "metadata": {
    "ExecuteTime": {
     "end_time": "2020-10-01T17:01:18.851457Z",
     "start_time": "2020-10-01T17:01:18.833087Z"
    }
   },
   "outputs": [],
   "source": [
    "Q1_weight = df3.weight.quantile(.25)\n",
    "Q3_weight = df3.weight.quantile(.75) \n",
    "\n",
    "IQR_weight = Q3_weight - Q1_weight\n",
    "\n",
    "lower_limit_weight = Q1_weight - 1.5 * IQR_weight\n",
    "upper_limit_weight = Q3_weight + 1.5 * IQR_weight\n",
    "\n",
    "df3.weight[(df3.weight < lower_limit_weight) | (df3.weight > upper_limit_weight)] \n",
    "\n",
    "df3 = df3[(df3.weight > lower_limit_weight) & (df3.weight < upper_limit_weight)]"
   ]
  },
  {
   "cell_type": "code",
   "execution_count": 41,
   "metadata": {
    "ExecuteTime": {
     "end_time": "2020-10-01T17:01:19.000503Z",
     "start_time": "2020-10-01T17:01:18.857518Z"
    }
   },
   "outputs": [
    {
     "data": {
      "image/png": "[encoded data removed]",
      "text/plain": [
       "<Figure size 432x288 with 1 Axes>"
      ]
     },
     "metadata": {
      "needs_background": "light"
     },
     "output_type": "display_data"
    }
   ],
   "source": [
    "plt.rcParams['figure.figsize'] = (6,4)\n",
    "sb.boxplot(df3.weight);"
   ]
  },
  {
   "cell_type": "markdown",
   "metadata": {},
   "source": [
    "One again !"
   ]
  },
  {
   "cell_type": "code",
   "execution_count": 42,
   "metadata": {
    "ExecuteTime": {
     "end_time": "2020-10-01T17:01:19.018446Z",
     "start_time": "2020-10-01T17:01:19.003391Z"
    }
   },
   "outputs": [],
   "source": [
    "Q1_weight = df3.weight.quantile(.25)\n",
    "Q3_weight = df3.weight.quantile(.75) \n",
    "\n",
    "IQR_weight = Q3_weight - Q1_weight\n",
    "\n",
    "lower_limit_weight = Q1_weight - 1.5 * IQR_weight\n",
    "upper_limit_weight = Q3_weight + 1.5 * IQR_weight\n",
    "\n",
    "df3.weight[(df3.weight < lower_limit_weight) | (df3.weight > upper_limit_weight)] \n",
    "\n",
    "df3 = df3[(df3.weight > lower_limit_weight) & (df3.weight < upper_limit_weight)]"
   ]
  },
  {
   "cell_type": "code",
   "execution_count": 43,
   "metadata": {
    "ExecuteTime": {
     "end_time": "2020-10-01T17:01:19.152790Z",
     "start_time": "2020-10-01T17:01:19.021167Z"
    }
   },
   "outputs": [
    {
     "data": {
      "image/png": "[encoded data removed]",
      "text/plain": [
       "<Figure size 432x288 with 1 Axes>"
      ]
     },
     "metadata": {
      "needs_background": "light"
     },
     "output_type": "display_data"
    }
   ],
   "source": [
    "sb.boxplot(df3.weight);"
   ]
  },
  {
   "cell_type": "markdown",
   "metadata": {},
   "source": [
    "**OK ! Finally !!! All of numerical features no have Ouliers anymore**"
   ]
  },
  {
   "cell_type": "markdown",
   "metadata": {},
   "source": [
    "***- Plotting Histogram***"
   ]
  },
  {
   "cell_type": "code",
   "execution_count": 44,
   "metadata": {
    "ExecuteTime": {
     "end_time": "2020-10-01T17:01:20.890613Z",
     "start_time": "2020-10-01T17:01:19.155224Z"
    }
   },
   "outputs": [
    {
     "data": {
      "image/png": "[encoded data removed]",
      "text/plain": [
       "<Figure size 1080x576 with 4 Axes>"
      ]
     },
     "metadata": {
      "needs_background": "light"
     },
     "output_type": "display_data"
    }
   ],
   "source": [
    "plt.rcParams['figure.figsize'] = (15,8)\n",
    "\n",
    "plt.subplot(2,2,1)\n",
    "sb.distplot(df3.weight)\n",
    "\n",
    "plt.subplot(2,2,2)\n",
    "sb.distplot(df3.height)\n",
    "\n",
    "plt.subplot(2,2,3)\n",
    "sb.distplot(df3.ap_lo)\n",
    "\n",
    "plt.subplot(2,2,4)\n",
    "sb.distplot(df3.ap_hi)\n",
    "\n",
    "plt.show()"
   ]
  },
  {
   "cell_type": "code",
   "execution_count": 45,
   "metadata": {
    "ExecuteTime": {
     "end_time": "2020-10-01T17:01:20.900161Z",
     "start_time": "2020-10-01T17:01:20.894351Z"
    }
   },
   "outputs": [
    {
     "data": {
      "text/plain": [
       "(60769, 12)"
      ]
     },
     "execution_count": 45,
     "metadata": {},
     "output_type": "execute_result"
    }
   ],
   "source": [
    "df3.shape"
   ]
  },
  {
   "cell_type": "markdown",
   "metadata": {},
   "source": [
    "***- Transforming height (cm) feature in height (m)***"
   ]
  },
  {
   "cell_type": "code",
   "execution_count": 46,
   "metadata": {
    "ExecuteTime": {
     "end_time": "2020-10-01T17:01:20.928417Z",
     "start_time": "2020-10-01T17:01:20.904555Z"
    }
   },
   "outputs": [],
   "source": [
    "df3['height'] = df3['height'].apply(lambda x : x / 100)  "
   ]
  },
  {
   "cell_type": "code",
   "execution_count": 47,
   "metadata": {
    "ExecuteTime": {
     "end_time": "2020-10-01T17:01:20.957365Z",
     "start_time": "2020-10-01T17:01:20.936694Z"
    }
   },
   "outputs": [
    {
     "data": {
      "text/html": [
       "<div>\n",
       "<style scoped>\n",
       "    .dataframe tbody tr th:only-of-type {\n",
       "        vertical-align: middle;\n",
       "    }\n",
       "\n",
       "    .dataframe tbody tr th {\n",
       "        vertical-align: top;\n",
       "    }\n",
       "\n",
       "    .dataframe thead th {\n",
       "        text-align: right;\n",
       "    }\n",
       "</style>\n",
       "<table border=\"1\" class=\"dataframe\">\n",
       "  <thead>\n",
       "    <tr style=\"text-align: right;\">\n",
       "      <th></th>\n",
       "      <th>age</th>\n",
       "      <th>gender</th>\n",
       "      <th>height</th>\n",
       "      <th>weight</th>\n",
       "      <th>ap_hi</th>\n",
       "      <th>ap_lo</th>\n",
       "      <th>cholesterol</th>\n",
       "      <th>gluc</th>\n",
       "      <th>smoke</th>\n",
       "      <th>alco</th>\n",
       "      <th>active</th>\n",
       "      <th>cardio</th>\n",
       "    </tr>\n",
       "  </thead>\n",
       "  <tbody>\n",
       "    <tr>\n",
       "      <th>0</th>\n",
       "      <td>50</td>\n",
       "      <td>2</td>\n",
       "      <td>1.68</td>\n",
       "      <td>62.0</td>\n",
       "      <td>110</td>\n",
       "      <td>80</td>\n",
       "      <td>1</td>\n",
       "      <td>1</td>\n",
       "      <td>0</td>\n",
       "      <td>0</td>\n",
       "      <td>1</td>\n",
       "      <td>0</td>\n",
       "    </tr>\n",
       "    <tr>\n",
       "      <th>1</th>\n",
       "      <td>55</td>\n",
       "      <td>1</td>\n",
       "      <td>1.56</td>\n",
       "      <td>85.0</td>\n",
       "      <td>140</td>\n",
       "      <td>90</td>\n",
       "      <td>3</td>\n",
       "      <td>1</td>\n",
       "      <td>0</td>\n",
       "      <td>0</td>\n",
       "      <td>1</td>\n",
       "      <td>1</td>\n",
       "    </tr>\n",
       "    <tr>\n",
       "      <th>2</th>\n",
       "      <td>51</td>\n",
       "      <td>1</td>\n",
       "      <td>1.65</td>\n",
       "      <td>64.0</td>\n",
       "      <td>130</td>\n",
       "      <td>70</td>\n",
       "      <td>3</td>\n",
       "      <td>1</td>\n",
       "      <td>0</td>\n",
       "      <td>0</td>\n",
       "      <td>0</td>\n",
       "      <td>1</td>\n",
       "    </tr>\n",
       "    <tr>\n",
       "      <th>3</th>\n",
       "      <td>48</td>\n",
       "      <td>2</td>\n",
       "      <td>1.69</td>\n",
       "      <td>82.0</td>\n",
       "      <td>150</td>\n",
       "      <td>100</td>\n",
       "      <td>1</td>\n",
       "      <td>1</td>\n",
       "      <td>0</td>\n",
       "      <td>0</td>\n",
       "      <td>1</td>\n",
       "      <td>1</td>\n",
       "    </tr>\n",
       "    <tr>\n",
       "      <th>5</th>\n",
       "      <td>60</td>\n",
       "      <td>1</td>\n",
       "      <td>1.51</td>\n",
       "      <td>67.0</td>\n",
       "      <td>120</td>\n",
       "      <td>80</td>\n",
       "      <td>2</td>\n",
       "      <td>2</td>\n",
       "      <td>0</td>\n",
       "      <td>0</td>\n",
       "      <td>0</td>\n",
       "      <td>0</td>\n",
       "    </tr>\n",
       "  </tbody>\n",
       "</table>\n",
       "</div>"
      ],
      "text/plain": [
       "   age  gender  height  weight  ap_hi  ap_lo  cholesterol  gluc  smoke  alco  \\\n",
       "0   50       2    1.68    62.0    110     80            1     1      0     0   \n",
       "1   55       1    1.56    85.0    140     90            3     1      0     0   \n",
       "2   51       1    1.65    64.0    130     70            3     1      0     0   \n",
       "3   48       2    1.69    82.0    150    100            1     1      0     0   \n",
       "5   60       1    1.51    67.0    120     80            2     2      0     0   \n",
       "\n",
       "   active  cardio  \n",
       "0       1       0  \n",
       "1       1       1  \n",
       "2       0       1  \n",
       "3       1       1  \n",
       "5       0       0  "
      ]
     },
     "execution_count": 47,
     "metadata": {},
     "output_type": "execute_result"
    }
   ],
   "source": [
    "df3.head()"
   ]
  },
  {
   "cell_type": "markdown",
   "metadata": {},
   "source": [
    "## 3.0.2 - Validating the Hypotheses"
   ]
  },
  {
   "cell_type": "markdown",
   "metadata": {},
   "source": [
    "### 3.0.2.1 - Bivariate Analysis"
   ]
  },
  {
   "cell_type": "markdown",
   "metadata": {},
   "source": [
    "#### 3.0.3.1.1 - Patients Hypotheses"
   ]
  },
  {
   "cell_type": "markdown",
   "metadata": {},
   "source": [
    "1 - Do men have more heart disease than women?\n",
    "\n",
    "**TRUE:** Apparently, men suffer more from heart disease than women."
   ]
  },
  {
   "cell_type": "code",
   "execution_count": 48,
   "metadata": {
    "ExecuteTime": {
     "end_time": "2020-10-01T17:01:20.994792Z",
     "start_time": "2020-10-01T17:01:20.968528Z"
    }
   },
   "outputs": [
    {
     "data": {
      "text/html": [
       "<div>\n",
       "<style scoped>\n",
       "    .dataframe tbody tr th:only-of-type {\n",
       "        vertical-align: middle;\n",
       "    }\n",
       "\n",
       "    .dataframe tbody tr th {\n",
       "        vertical-align: top;\n",
       "    }\n",
       "\n",
       "    .dataframe thead th {\n",
       "        text-align: right;\n",
       "    }\n",
       "</style>\n",
       "<table border=\"1\" class=\"dataframe\">\n",
       "  <thead>\n",
       "    <tr style=\"text-align: right;\">\n",
       "      <th></th>\n",
       "      <th>gender</th>\n",
       "      <th>cardio</th>\n",
       "    </tr>\n",
       "  </thead>\n",
       "  <tbody>\n",
       "    <tr>\n",
       "      <th>0</th>\n",
       "      <td>1</td>\n",
       "      <td>19514</td>\n",
       "    </tr>\n",
       "    <tr>\n",
       "      <th>1</th>\n",
       "      <td>2</td>\n",
       "      <td>10227</td>\n",
       "    </tr>\n",
       "  </tbody>\n",
       "</table>\n",
       "</div>"
      ],
      "text/plain": [
       "   gender  cardio\n",
       "0       1   19514\n",
       "1       2   10227"
      ]
     },
     "execution_count": 48,
     "metadata": {},
     "output_type": "execute_result"
    }
   ],
   "source": [
    "df3[['gender','cardio']].groupby('gender').sum().reset_index()"
   ]
  },
  {
   "cell_type": "markdown",
   "metadata": {},
   "source": [
    "2 - Do older patients have heart disease?\n",
    "\n",
    "**FALSE:** \n",
    "Clearly age does not influence cardio disease. This could possibly be a variable that can be discarded for the creation of the model."
   ]
  },
  {
   "cell_type": "code",
   "execution_count": 49,
   "metadata": {
    "ExecuteTime": {
     "end_time": "2020-10-01T17:01:21.017257Z",
     "start_time": "2020-10-01T17:01:21.000920Z"
    }
   },
   "outputs": [
    {
     "name": "stdout",
     "output_type": "stream",
     "text": [
      "The age with the highest rate of heart disease is 55\n",
      "The maximum age of the data set is 64\n"
     ]
    }
   ],
   "source": [
    "print(f'The age with the highest rate of heart disease is {df3[[\"age\",\"cardio\"]].groupby(\"age\").size().idxmax()}') \n",
    "print(f'The maximum age of the data set is {df3.age.max()}') "
   ]
  },
  {
   "cell_type": "markdown",
   "metadata": {},
   "source": [
    "3 - Do patients with more weight have heart disease?\n",
    "\n",
    "**FALSE:** Weight is not a determining factor for the appearance of heart problems."
   ]
  },
  {
   "cell_type": "code",
   "execution_count": 50,
   "metadata": {
    "ExecuteTime": {
     "end_time": "2020-10-01T17:01:21.041713Z",
     "start_time": "2020-10-01T17:01:21.021321Z"
    }
   },
   "outputs": [
    {
     "name": "stdout",
     "output_type": "stream",
     "text": [
      "The weight with the highest rate of heart disease is 65.0\n",
      "The maximum weight of the data set is 102.0\n"
     ]
    }
   ],
   "source": [
    "print(f'The weight with the highest rate of heart disease is {df3[[\"weight\",\"cardio\"]].groupby(\"weight\").size().idxmax()}')\n",
    "print(f'The maximum weight of the data set is {df3.weight.max()}')"
   ]
  },
  {
   "cell_type": "markdown",
   "metadata": {},
   "source": [
    "4 - Does height not influence the development of heart disease?\n",
    "\n",
    "**TRUE:** Apparently, being taller does not influence the onset of heart disease."
   ]
  },
  {
   "cell_type": "code",
   "execution_count": 51,
   "metadata": {
    "ExecuteTime": {
     "end_time": "2020-10-01T17:01:21.061162Z",
     "start_time": "2020-10-01T17:01:21.047031Z"
    }
   },
   "outputs": [
    {
     "name": "stdout",
     "output_type": "stream",
     "text": [
      "The height with the highest rate of heart disease is 1.65\n",
      "The maximum height of the data set is 1.86\n"
     ]
    }
   ],
   "source": [
    "print(f'The height with the highest rate of heart disease is {df3[[\"height\",\"cardio\"]].groupby(\"height\").size().idxmax()}')\n",
    "print(f'The maximum height of the data set is {df3.height.max()}')"
   ]
  },
  {
   "cell_type": "markdown",
   "metadata": {},
   "source": [
    "#### 3.0.3.1.2 - Exams Hypotheses"
   ]
  },
  {
   "cell_type": "markdown",
   "metadata": {},
   "source": [
    "1 - Does high cholesterol increase the risk of heart problems?\n",
    "\n",
    "**FALSE:** Apparently cardio disease occurs in patients with normal cholesterol."
   ]
  },
  {
   "cell_type": "code",
   "execution_count": 52,
   "metadata": {
    "ExecuteTime": {
     "end_time": "2020-10-01T17:01:21.089833Z",
     "start_time": "2020-10-01T17:01:21.068708Z"
    }
   },
   "outputs": [
    {
     "data": {
      "text/plain": [
       "1    46104\n",
       "2     7884\n",
       "3     6781\n",
       "Name: cholesterol, dtype: int64"
      ]
     },
     "execution_count": 52,
     "metadata": {},
     "output_type": "execute_result"
    }
   ],
   "source": [
    "df3.cholesterol.value_counts()"
   ]
  },
  {
   "cell_type": "code",
   "execution_count": 53,
   "metadata": {
    "ExecuteTime": {
     "end_time": "2020-10-01T17:01:21.109453Z",
     "start_time": "2020-10-01T17:01:21.095244Z"
    }
   },
   "outputs": [
    {
     "data": {
      "text/plain": [
       "0    31028\n",
       "1    29741\n",
       "Name: cardio, dtype: int64"
      ]
     },
     "execution_count": 53,
     "metadata": {},
     "output_type": "execute_result"
    }
   ],
   "source": [
    "df3.cardio.value_counts()"
   ]
  },
  {
   "cell_type": "code",
   "execution_count": 54,
   "metadata": {
    "ExecuteTime": {
     "end_time": "2020-10-01T17:01:21.140491Z",
     "start_time": "2020-10-01T17:01:21.117107Z"
    }
   },
   "outputs": [
    {
     "data": {
      "text/html": [
       "<div>\n",
       "<style scoped>\n",
       "    .dataframe tbody tr th:only-of-type {\n",
       "        vertical-align: middle;\n",
       "    }\n",
       "\n",
       "    .dataframe tbody tr th {\n",
       "        vertical-align: top;\n",
       "    }\n",
       "\n",
       "    .dataframe thead th {\n",
       "        text-align: right;\n",
       "    }\n",
       "</style>\n",
       "<table border=\"1\" class=\"dataframe\">\n",
       "  <thead>\n",
       "    <tr style=\"text-align: right;\">\n",
       "      <th></th>\n",
       "      <th>cholesterol</th>\n",
       "      <th>0</th>\n",
       "    </tr>\n",
       "  </thead>\n",
       "  <tbody>\n",
       "    <tr>\n",
       "      <th>0</th>\n",
       "      <td>1</td>\n",
       "      <td>46104</td>\n",
       "    </tr>\n",
       "    <tr>\n",
       "      <th>1</th>\n",
       "      <td>2</td>\n",
       "      <td>7884</td>\n",
       "    </tr>\n",
       "    <tr>\n",
       "      <th>2</th>\n",
       "      <td>3</td>\n",
       "      <td>6781</td>\n",
       "    </tr>\n",
       "  </tbody>\n",
       "</table>\n",
       "</div>"
      ],
      "text/plain": [
       "   cholesterol      0\n",
       "0            1  46104\n",
       "1            2   7884\n",
       "2            3   6781"
      ]
     },
     "execution_count": 54,
     "metadata": {},
     "output_type": "execute_result"
    }
   ],
   "source": [
    "df3[['cholesterol','cardio']].groupby('cholesterol').size().reset_index()"
   ]
  },
  {
   "cell_type": "code",
   "execution_count": 60,
   "metadata": {
    "ExecuteTime": {
     "end_time": "2020-10-01T17:05:25.644011Z",
     "start_time": "2020-10-01T17:05:25.621587Z"
    }
   },
   "outputs": [
    {
     "data": {
      "text/html": [
       "<div>\n",
       "<style scoped>\n",
       "    .dataframe tbody tr th:only-of-type {\n",
       "        vertical-align: middle;\n",
       "    }\n",
       "\n",
       "    .dataframe tbody tr th {\n",
       "        vertical-align: top;\n",
       "    }\n",
       "\n",
       "    .dataframe thead th {\n",
       "        text-align: right;\n",
       "    }\n",
       "</style>\n",
       "<table border=\"1\" class=\"dataframe\">\n",
       "  <thead>\n",
       "    <tr style=\"text-align: right;\">\n",
       "      <th></th>\n",
       "      <th>age</th>\n",
       "      <th>gender</th>\n",
       "      <th>height</th>\n",
       "      <th>weight</th>\n",
       "      <th>ap_hi</th>\n",
       "      <th>ap_lo</th>\n",
       "      <th>cholesterol</th>\n",
       "      <th>gluc</th>\n",
       "      <th>smoke</th>\n",
       "      <th>alco</th>\n",
       "      <th>active</th>\n",
       "      <th>cardio</th>\n",
       "    </tr>\n",
       "  </thead>\n",
       "  <tbody>\n",
       "    <tr>\n",
       "      <th>0</th>\n",
       "      <td>50</td>\n",
       "      <td>2</td>\n",
       "      <td>1.68</td>\n",
       "      <td>62.0</td>\n",
       "      <td>110</td>\n",
       "      <td>80</td>\n",
       "      <td>1</td>\n",
       "      <td>1</td>\n",
       "      <td>0</td>\n",
       "      <td>0</td>\n",
       "      <td>1</td>\n",
       "      <td>0</td>\n",
       "    </tr>\n",
       "    <tr>\n",
       "      <th>8</th>\n",
       "      <td>48</td>\n",
       "      <td>1</td>\n",
       "      <td>1.58</td>\n",
       "      <td>71.0</td>\n",
       "      <td>110</td>\n",
       "      <td>70</td>\n",
       "      <td>1</td>\n",
       "      <td>1</td>\n",
       "      <td>0</td>\n",
       "      <td>0</td>\n",
       "      <td>1</td>\n",
       "      <td>0</td>\n",
       "    </tr>\n",
       "    <tr>\n",
       "      <th>10</th>\n",
       "      <td>61</td>\n",
       "      <td>1</td>\n",
       "      <td>1.69</td>\n",
       "      <td>80.0</td>\n",
       "      <td>120</td>\n",
       "      <td>80</td>\n",
       "      <td>1</td>\n",
       "      <td>1</td>\n",
       "      <td>0</td>\n",
       "      <td>0</td>\n",
       "      <td>1</td>\n",
       "      <td>0</td>\n",
       "    </tr>\n",
       "    <tr>\n",
       "      <th>11</th>\n",
       "      <td>51</td>\n",
       "      <td>2</td>\n",
       "      <td>1.73</td>\n",
       "      <td>60.0</td>\n",
       "      <td>120</td>\n",
       "      <td>80</td>\n",
       "      <td>1</td>\n",
       "      <td>1</td>\n",
       "      <td>0</td>\n",
       "      <td>0</td>\n",
       "      <td>1</td>\n",
       "      <td>0</td>\n",
       "    </tr>\n",
       "    <tr>\n",
       "      <th>12</th>\n",
       "      <td>40</td>\n",
       "      <td>2</td>\n",
       "      <td>1.65</td>\n",
       "      <td>60.0</td>\n",
       "      <td>120</td>\n",
       "      <td>80</td>\n",
       "      <td>1</td>\n",
       "      <td>1</td>\n",
       "      <td>0</td>\n",
       "      <td>0</td>\n",
       "      <td>0</td>\n",
       "      <td>0</td>\n",
       "    </tr>\n",
       "    <tr>\n",
       "      <th>...</th>\n",
       "      <td>...</td>\n",
       "      <td>...</td>\n",
       "      <td>...</td>\n",
       "      <td>...</td>\n",
       "      <td>...</td>\n",
       "      <td>...</td>\n",
       "      <td>...</td>\n",
       "      <td>...</td>\n",
       "      <td>...</td>\n",
       "      <td>...</td>\n",
       "      <td>...</td>\n",
       "      <td>...</td>\n",
       "    </tr>\n",
       "    <tr>\n",
       "      <th>69983</th>\n",
       "      <td>53</td>\n",
       "      <td>1</td>\n",
       "      <td>1.65</td>\n",
       "      <td>72.0</td>\n",
       "      <td>120</td>\n",
       "      <td>80</td>\n",
       "      <td>1</td>\n",
       "      <td>1</td>\n",
       "      <td>0</td>\n",
       "      <td>0</td>\n",
       "      <td>1</td>\n",
       "      <td>0</td>\n",
       "    </tr>\n",
       "    <tr>\n",
       "      <th>69986</th>\n",
       "      <td>49</td>\n",
       "      <td>2</td>\n",
       "      <td>1.80</td>\n",
       "      <td>78.0</td>\n",
       "      <td>120</td>\n",
       "      <td>80</td>\n",
       "      <td>1</td>\n",
       "      <td>1</td>\n",
       "      <td>0</td>\n",
       "      <td>0</td>\n",
       "      <td>1</td>\n",
       "      <td>0</td>\n",
       "    </tr>\n",
       "    <tr>\n",
       "      <th>69987</th>\n",
       "      <td>51</td>\n",
       "      <td>1</td>\n",
       "      <td>1.51</td>\n",
       "      <td>49.0</td>\n",
       "      <td>120</td>\n",
       "      <td>80</td>\n",
       "      <td>1</td>\n",
       "      <td>1</td>\n",
       "      <td>0</td>\n",
       "      <td>0</td>\n",
       "      <td>1</td>\n",
       "      <td>0</td>\n",
       "    </tr>\n",
       "    <tr>\n",
       "      <th>69988</th>\n",
       "      <td>60</td>\n",
       "      <td>1</td>\n",
       "      <td>1.60</td>\n",
       "      <td>59.0</td>\n",
       "      <td>110</td>\n",
       "      <td>70</td>\n",
       "      <td>1</td>\n",
       "      <td>1</td>\n",
       "      <td>0</td>\n",
       "      <td>0</td>\n",
       "      <td>1</td>\n",
       "      <td>0</td>\n",
       "    </tr>\n",
       "    <tr>\n",
       "      <th>69995</th>\n",
       "      <td>52</td>\n",
       "      <td>2</td>\n",
       "      <td>1.68</td>\n",
       "      <td>76.0</td>\n",
       "      <td>120</td>\n",
       "      <td>80</td>\n",
       "      <td>1</td>\n",
       "      <td>1</td>\n",
       "      <td>1</td>\n",
       "      <td>0</td>\n",
       "      <td>1</td>\n",
       "      <td>0</td>\n",
       "    </tr>\n",
       "  </tbody>\n",
       "</table>\n",
       "<p>26162 rows × 12 columns</p>\n",
       "</div>"
      ],
      "text/plain": [
       "       age  gender  height  weight  ap_hi  ap_lo  cholesterol  gluc  smoke  \\\n",
       "0       50       2    1.68    62.0    110     80            1     1      0   \n",
       "8       48       1    1.58    71.0    110     70            1     1      0   \n",
       "10      61       1    1.69    80.0    120     80            1     1      0   \n",
       "11      51       2    1.73    60.0    120     80            1     1      0   \n",
       "12      40       2    1.65    60.0    120     80            1     1      0   \n",
       "...    ...     ...     ...     ...    ...    ...          ...   ...    ...   \n",
       "69983   53       1    1.65    72.0    120     80            1     1      0   \n",
       "69986   49       2    1.80    78.0    120     80            1     1      0   \n",
       "69987   51       1    1.51    49.0    120     80            1     1      0   \n",
       "69988   60       1    1.60    59.0    110     70            1     1      0   \n",
       "69995   52       2    1.68    76.0    120     80            1     1      1   \n",
       "\n",
       "       alco  active  cardio  \n",
       "0         0       1       0  \n",
       "8         0       1       0  \n",
       "10        0       1       0  \n",
       "11        0       1       0  \n",
       "12        0       0       0  \n",
       "...     ...     ...     ...  \n",
       "69983     0       1       0  \n",
       "69986     0       1       0  \n",
       "69987     0       1       0  \n",
       "69988     0       1       0  \n",
       "69995     0       1       0  \n",
       "\n",
       "[26162 rows x 12 columns]"
      ]
     },
     "execution_count": 60,
     "metadata": {},
     "output_type": "execute_result"
    }
   ],
   "source": [
    "df3.query('cholesterol == 1 & cardio == 0')"
   ]
  },
  {
   "cell_type": "markdown",
   "metadata": {},
   "source": [
    "2 - Does high systolic blood pressure increase the risk of heart disease?\n",
    "\n",
    "**FALSE:** Apparently cardio disease occurs in patients with 115 a 125 of systolic blood pressure."
   ]
  },
  {
   "cell_type": "code",
   "execution_count": null,
   "metadata": {
    "ExecuteTime": {
     "end_time": "2020-10-01T17:01:21.169998Z",
     "start_time": "2020-10-01T17:01:12.305Z"
    }
   },
   "outputs": [],
   "source": [
    "bins = list(np.arange(95, 170, 10))\n",
    "\n",
    "aux5 = df3[['ap_hi','cardio']].groupby('ap_hi').sum().reset_index()\n",
    "\n",
    "aux5['ap_hi_binned'] = pd.cut(aux5['ap_hi'], bins=bins )\n",
    "\n",
    "aux5_binned = aux5[['ap_hi_binned', 'cardio']].groupby('ap_hi_binned').sum().reset_index()\n",
    "\n",
    "sb.barplot( x='ap_hi_binned', y='cardio', data=aux5_binned, palette='Purples');\n",
    "plt.xlabel('Systolic Blood Pressure');\n",
    "plt.ylabel('TOTAL Cardio Diseases');"
   ]
  },
  {
   "cell_type": "markdown",
   "metadata": {},
   "source": [
    "3 - Low blood diastolic pressure at high risk of heart disease?\n",
    "\n",
    "**FALSE:** Apparently cardio disease occurs in patients with 75 a 85 of diastolic blood pressure."
   ]
  },
  {
   "cell_type": "code",
   "execution_count": null,
   "metadata": {
    "ExecuteTime": {
     "end_time": "2020-10-01T17:01:21.175487Z",
     "start_time": "2020-10-01T17:01:12.308Z"
    }
   },
   "outputs": [],
   "source": [
    "bins = list(np.arange(65, 105, 10))\n",
    "\n",
    "aux6 = df3[['ap_lo','cardio']].groupby('ap_lo').sum().reset_index()\n",
    "\n",
    "aux6['ap_lo_binned'] = pd.cut(aux6['ap_lo'], bins=bins )\n",
    "\n",
    "aux6_binned = aux6[['ap_lo_binned', 'cardio']].groupby('ap_lo_binned').sum().reset_index()\n",
    "\n",
    "sb.barplot( x='ap_lo_binned', y='cardio', data=aux6_binned, palette='Purples');\n",
    "plt.xlabel('Diastolic Blood Pressure');\n",
    "plt.ylabel('TOTAL Cardio Diseases');"
   ]
  },
  {
   "cell_type": "markdown",
   "metadata": {},
   "source": [
    "4 - Does the rate of glucose in the blood increase the risk of heart disease?\n",
    "\n",
    "**FALSE:** Apparently cardio disease occurs in patients with normal rate glucose."
   ]
  },
  {
   "cell_type": "code",
   "execution_count": null,
   "metadata": {
    "ExecuteTime": {
     "end_time": "2020-10-01T17:01:21.178882Z",
     "start_time": "2020-10-01T17:01:12.310Z"
    }
   },
   "outputs": [],
   "source": [
    "aux7 = df3[['gluc','cardio']].groupby('gluc').sum().reset_index() \n",
    "\n",
    "sb.barplot( x='gluc', y='cardio', data=aux7, palette='Purples');\n",
    "plt.xlabel('Glucose');\n",
    "plt.ylabel('TOTAL Cardio Diseases');"
   ]
  },
  {
   "cell_type": "markdown",
   "metadata": {},
   "source": [
    "#### 3.0.3.1.3 - Habits Hypotheses"
   ]
  },
  {
   "cell_type": "markdown",
   "metadata": {},
   "source": [
    "1 - Smokers have more heart disease?\n",
    "\n",
    "**TRUE:** Apparently cardio disease occurs in smoker patients."
   ]
  },
  {
   "cell_type": "code",
   "execution_count": null,
   "metadata": {
    "ExecuteTime": {
     "end_time": "2020-10-01T17:01:21.182420Z",
     "start_time": "2020-10-01T17:01:12.312Z"
    }
   },
   "outputs": [],
   "source": [
    "aux8 = df3[['smoke','cardio']].groupby('smoke').sum().reset_index() \n",
    "\n",
    "sb.barplot( x='smoke', y='cardio', data=aux8, palette='Purples');\n",
    "plt.xlabel('Smoker');\n",
    "plt.ylabel('TOTAL Cardio Diseases');"
   ]
  },
  {
   "cell_type": "markdown",
   "metadata": {},
   "source": [
    "2 - Who practices physical activities do not develop heart disease?\n",
    "\n",
    "**TRUE:** Apparently who practice physical activities do not develop heart disease."
   ]
  },
  {
   "cell_type": "code",
   "execution_count": null,
   "metadata": {
    "ExecuteTime": {
     "end_time": "2020-10-01T17:01:21.184928Z",
     "start_time": "2020-10-01T17:01:12.314Z"
    }
   },
   "outputs": [],
   "source": [
    "aux9 = df3[['active','cardio']].groupby('active').sum().reset_index()\n",
    "\n",
    "sb.barplot( x='active', y='cardio', data=aux9, palette='Purples');\n",
    "plt.xlabel('Active');\n",
    "plt.ylabel('TOTAL Cardio Diseases');"
   ]
  },
  {
   "cell_type": "markdown",
   "metadata": {},
   "source": [
    "3 - Does drinking alcohol increase the chances of heart disease?\n",
    "\n",
    "**TRUE:** Apparently alcohol consumption is a determining factor for cardio disease."
   ]
  },
  {
   "cell_type": "code",
   "execution_count": null,
   "metadata": {
    "ExecuteTime": {
     "end_time": "2020-10-01T17:01:21.187088Z",
     "start_time": "2020-10-01T17:01:12.316Z"
    }
   },
   "outputs": [],
   "source": [
    "aux10 = df3[['alco','cardio']].groupby('alco').sum().reset_index() \n",
    "\n",
    "sb.barplot( x='alco', y='cardio', data=aux10, palette='Purples');\n",
    "plt.xlabel('Alcohol');\n",
    "plt.ylabel('TOTAL Cardio Diseases');"
   ]
  },
  {
   "cell_type": "markdown",
   "metadata": {},
   "source": [
    "### 3.0.2.2 - Multivariate Analysis"
   ]
  },
  {
   "cell_type": "markdown",
   "metadata": {},
   "source": [
    "**Patients Hypotheses**"
   ]
  },
  {
   "cell_type": "markdown",
   "metadata": {
    "ExecuteTime": {
     "end_time": "2020-10-01T11:38:48.183115Z",
     "start_time": "2020-10-01T11:38:48.177210Z"
    }
   },
   "source": [
    "**Exams Hypotheses**"
   ]
  },
  {
   "cell_type": "markdown",
   "metadata": {},
   "source": [
    "5 - Are men with high blood pressure more likely to develop heart disease than women with high blood pressure?\n",
    "\n",
    "6 - Are women with low blood pressure more likely to develop heart disease than men with low blood pressure?"
   ]
  },
  {
   "cell_type": "markdown",
   "metadata": {},
   "source": [
    "**Habits Hypotheses**"
   ]
  },
  {
   "cell_type": "markdown",
   "metadata": {},
   "source": [
    "4 - Do smokers who practice physical activities develop heart disease?"
   ]
  },
  {
   "cell_type": "code",
   "execution_count": null,
   "metadata": {},
   "outputs": [],
   "source": []
  },
  {
   "cell_type": "code",
   "execution_count": null,
   "metadata": {
    "ExecuteTime": {
     "end_time": "2020-10-01T17:01:21.188629Z",
     "start_time": "2020-10-01T17:01:12.321Z"
    }
   },
   "outputs": [],
   "source": [
    "df3.groupby(by='gender')['cholesterol'].apply(lambda x : x > 3).sum()"
   ]
  },
  {
   "cell_type": "code",
   "execution_count": null,
   "metadata": {},
   "outputs": [],
   "source": []
  },
  {
   "cell_type": "code",
   "execution_count": null,
   "metadata": {},
   "outputs": [],
   "source": []
  }
 ],
 "metadata": {
  "kernelspec": {
   "display_name": "Python 3",
   "language": "python",
   "name": "python3"
  },
  "language_info": {
   "codemirror_mode": {
    "name": "ipython",
    "version": 3
   },
   "file_extension": ".py",
   "mimetype": "text/x-python",
   "name": "python",
   "nbconvert_exporter": "python",
   "pygments_lexer": "ipython3",
   "version": "3.8.5"
  }
 },
 "nbformat": 4,
 "nbformat_minor": 4
}
